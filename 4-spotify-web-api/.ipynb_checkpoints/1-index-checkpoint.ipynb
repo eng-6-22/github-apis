{
 "cells": [
  {
   "cell_type": "markdown",
   "metadata": {},
   "source": [
    "# Spotify Signup"
   ]
  },
  {
   "cell_type": "markdown",
   "metadata": {},
   "source": [
    "### Introduction"
   ]
  },
  {
   "cell_type": "markdown",
   "metadata": {},
   "source": [
    "### Spotify Signup"
   ]
  },
  {
   "cell_type": "markdown",
   "metadata": {},
   "source": [
    "[Sign up here](https://developer.spotify.com/dashboard/)"
   ]
  },
  {
   "cell_type": "markdown",
   "metadata": {},
   "source": [
    "<img src=\"spotify-login.png\">"
   ]
  },
  {
   "cell_type": "markdown",
   "metadata": {},
   "source": [
    "Click on create a new app, signup for non-commercial use."
   ]
  },
  {
   "cell_type": "markdown",
   "metadata": {},
   "source": [
    "After signing up, you will be directed to the client id and secret pages."
   ]
  },
  {
   "cell_type": "markdown",
   "metadata": {},
   "source": [
    "### Using the API"
   ]
  },
  {
   "cell_type": "code",
   "execution_count": 66,
   "metadata": {},
   "outputs": [],
   "source": [
    "client_id = \"bf04c6adec91456bae56ed5675b34a3c\"\n",
    "client_secret = \"89dd0d234ec6413589e71279b37adfa8\""
   ]
  },
  {
   "cell_type": "markdown",
   "metadata": {},
   "source": [
    "For us the main component we would like to use is the [discover](https://developer.spotify.com/discover/#search)."
   ]
  },
  {
   "cell_type": "markdown",
   "metadata": {},
   "source": [
    "* Use search to make a general query for an artist."
   ]
  },
  {
   "cell_type": "markdown",
   "metadata": {},
   "source": [
    "### Client Credentials Flow "
   ]
  },
  {
   "cell_type": "markdown",
   "metadata": {},
   "source": [
    "Read through the [client credentials flow on Spotify](https://developer.spotify.com/documentation/general/guides/authorization-guide/#client-credentials-flow)."
   ]
  },
  {
   "cell_type": "markdown",
   "metadata": {},
   "source": [
    "It explains that before making a request, we need to use the `client_id` and `client_secret` to retreive an auth token.  Retrieving one is easier said than done."
   ]
  },
  {
   "cell_type": "markdown",
   "metadata": {},
   "source": [
    "Take a look at [this stackoverflow post](https://stackoverflow.com/questions/30557409/spotify-api-post-call-response-415) to see how to request an auth token from spotify."
   ]
  },
  {
   "cell_type": "code",
   "execution_count": 240,
   "metadata": {},
   "outputs": [],
   "source": [
    "import requests\n",
    "\n",
    "client_id = \"bf04c6adec91456bae56ed5675b34a3c\"\n",
    "client_secret = \"89dd0d234ec6413589e71279b37adfa8\"\n",
    "\n",
    "grant_type = 'client_credentials'\n",
    "\n",
    "#Request based on Client Credentials Flow from https://developer.spotify.com/web-api/authorization-guide/\n",
    "\n",
    "#Request body parameter: grant_type Value: Required. Set it to client_credentials\n",
    "body_params = {'grant_type' : grant_type}\n",
    "\n",
    "url='https://accounts.spotify.com/api/token'\n",
    "\n",
    "response=requests.post(url, data=body_params, auth = (client_id, client_secret)) \n",
    "token_resp = response.json()\n",
    "access_token = token_resp['access_token']"
   ]
  },
  {
   "cell_type": "markdown",
   "metadata": {},
   "source": [
    "Store the access token as access token, it shoudl look something like the following."
   ]
  },
  {
   "cell_type": "code",
   "execution_count": 241,
   "metadata": {},
   "outputs": [
    {
     "data": {
      "text/plain": [
       "'BQANHLg_TAeZwEgy-cyxD_WEIFLDC0Euehm-WjhBQOHuxm0vWG8NVe3EIqaiqKrvAXkPFVNTdooBuwIidgY'"
      ]
     },
     "execution_count": 241,
     "metadata": {},
     "output_type": "execute_result"
    }
   ],
   "source": [
    "access_token\n",
    "# 'BQCS2n_6FU4cZbq4mrk5v8eXa5KbB0oVlSFunDZF_9TezJpA2uDAO\n",
    "# -JNe70YFJO6DwIEwqPuWEyCVIyMC6o'"
   ]
  },
  {
   "cell_type": "markdown",
   "metadata": {},
   "source": [
    "### Making a search"
   ]
  },
  {
   "cell_type": "markdown",
   "metadata": {},
   "source": [
    "Once you get the token, you can see details of how to make a request with an access token in [this stackoverflow post](https://stackoverflow.com/questions/29931671/making-an-api-call-in-python-with-an-api-that-requires-a-bearer-token)."
   ]
  },
  {
   "cell_type": "markdown",
   "metadata": {},
   "source": [
    "Of course we still need to know what to request.  We'd like to start by making a request for information about an musical artist.  Look at the [search documents for an artist](https://developer.spotify.com/documentation/web-api/reference/search/search/) to see how."
   ]
  },
  {
   "cell_type": "markdown",
   "metadata": {},
   "source": [
    "Now write a function called `search_for_artist` that takes in an `artist_name`, and returrns the corresponding json. "
   ]
  },
  {
   "cell_type": "code",
   "execution_count": 168,
   "metadata": {},
   "outputs": [],
   "source": [
    "def artist_search(artist_name):\n",
    "    artist_search = f\"https://api.spotify.com/v1/search?q={artist_name}&type=artist\"\n",
    "    return artist_search"
   ]
  },
  {
   "cell_type": "code",
   "execution_count": 172,
   "metadata": {},
   "outputs": [
    {
     "data": {
      "text/plain": [
       "'https://api.spotify.com/v1/search?q=paul simon&type=artist'"
      ]
     },
     "execution_count": 172,
     "metadata": {},
     "output_type": "execute_result"
    }
   ],
   "source": [
    "paul_simon_request_url = artist_search('paul simon')\n",
    "paul_simon_request_url\n",
    "# 'https://api.spotify.com/v1/search?q=paul simon&type=artist'"
   ]
  },
  {
   "cell_type": "markdown",
   "metadata": {},
   "source": [
    "Write a function called `make_request` that takes in the token, and url and makes the request."
   ]
  },
  {
   "cell_type": "code",
   "execution_count": 170,
   "metadata": {},
   "outputs": [],
   "source": [
    "import requests\n",
    "\n",
    "def make_request(token, url):\n",
    "    headers = {\"Authorization\": f\"Bearer {token}\"}\n",
    "    search_resp = requests.get(url, headers = headers).json()\n",
    "    return search_resp"
   ]
  },
  {
   "cell_type": "code",
   "execution_count": 176,
   "metadata": {},
   "outputs": [],
   "source": [
    "paul_simon_data = make_request(access_token, paul_simon_request_url)"
   ]
  },
  {
   "cell_type": "code",
   "execution_count": 177,
   "metadata": {},
   "outputs": [],
   "source": [
    "# paul_simon_data\n",
    "\n",
    "# {'artists': {'href': 'https://api.spotify.com/v1/search?query=paul+simon&type=artist&offset=0&limit=20',\n",
    "#   'items': [{'external_urls': {'spotify': 'https://open.spotify.com/artist/2CvCyf1gEVhI0mX6aFXmVI'},\n",
    "#     'followers': {'href': None, 'total': 1219295},\n",
    "#     'genres': ['classic rock',\n",
    "#      'folk',\n",
    "#      'folk rock',\n",
    "#      'mellow gold',\n",
    "#      'permanent wave',\n",
    "#      'rock',\n",
    "#      'roots rock'"
   ]
  },
  {
   "cell_type": "markdown",
   "metadata": {},
   "source": [
    "> When you see that it's correct, feel free to comment out the output."
   ]
  },
  {
   "cell_type": "markdown",
   "metadata": {},
   "source": [
    "Next write a method that extracts the `name`, `id` and popularity from the json response for an artist."
   ]
  },
  {
   "cell_type": "code",
   "execution_count": 178,
   "metadata": {},
   "outputs": [],
   "source": [
    "def extract_artist_info(search_resp):\n",
    "    first_artist = search_resp['artists']['items'][0]\n",
    "    return {'name': first_artist['name'], 'id': first_artist['id'],\n",
    "            'popularity': first_artist['popularity']}"
   ]
  },
  {
   "cell_type": "code",
   "execution_count": 181,
   "metadata": {},
   "outputs": [
    {
     "data": {
      "text/plain": [
       "{'name': 'Paul Simon', 'id': '2CvCyf1gEVhI0mX6aFXmVI', 'popularity': 74}"
      ]
     },
     "execution_count": 181,
     "metadata": {},
     "output_type": "execute_result"
    }
   ],
   "source": [
    "paul_simon_info = extract_artist_info(paul_simon_data)\n",
    "paul_simon_info\n",
    "# {'name': 'Paul Simon', 'id': '2CvCyf1gEVhI0mX6aFXmVI', 'popularity': 74}"
   ]
  },
  {
   "cell_type": "markdown",
   "metadata": {},
   "source": [
    "Now that we have the artist's id, let's use that to search information about the artist."
   ]
  },
  {
   "cell_type": "markdown",
   "metadata": {},
   "source": [
    "Next find the `top_tracks` of an artist."
   ]
  },
  {
   "cell_type": "code",
   "execution_count": 188,
   "metadata": {},
   "outputs": [],
   "source": [
    "def top_tracks_url(artist_id):\n",
    "    url = f'https://api.spotify.com/v1/artists/{artist_id}/top-tracks?country=US'\n",
    "    return url"
   ]
  },
  {
   "cell_type": "code",
   "execution_count": 189,
   "metadata": {},
   "outputs": [
    {
     "data": {
      "text/plain": [
       "'https://api.spotify.com/v1/artists/2CvCyf1gEVhI0mX6aFXmVI/top-tracks?country=US'"
      ]
     },
     "execution_count": 189,
     "metadata": {},
     "output_type": "execute_result"
    }
   ],
   "source": [
    "simon_artist_url = top_tracks_url(paul_simon_info['id'])\n",
    "simon_artist_url\n",
    "# 'https://api.spotify.com/v1/artists/2CvCyf1gEVhI0mX6aFXmVI/top-tracks'"
   ]
  },
  {
   "cell_type": "code",
   "execution_count": 191,
   "metadata": {},
   "outputs": [],
   "source": [
    "simon_tracks = make_request(access_token, simon_artist_url)"
   ]
  },
  {
   "cell_type": "code",
   "execution_count": 192,
   "metadata": {},
   "outputs": [],
   "source": [
    "# simon_tracks\n",
    "\n",
    "# {'tracks': [{'album': {'album_type': 'album',\n",
    "#     'artists': [{'external_urls': {'spotify': 'https://open.spotify.com/artist/2CvCyf1gEVhI0mX6aFXmVI'},\n",
    "#       'href': 'https://api.spotify.com/v1/artists/2CvCyf1gEVhI0mX6aFXmVI',\n",
    "#       'id': '2CvCyf1gEVhI0mX6aFXmVI',\n",
    "#       'name': 'Paul Simon',\n",
    "#       'type': 'artist',\n",
    "#       'uri': 'spotify:artist:2CvCyf1gEVhI0mX6aFXmVI'}],"
   ]
  },
  {
   "cell_type": "code",
   "execution_count": 202,
   "metadata": {},
   "outputs": [
    {
     "data": {
      "text/plain": [
       "dict_keys(['album', 'artists', 'disc_number', 'duration_ms', 'explicit', 'external_ids', 'external_urls', 'href', 'id', 'is_local', 'is_playable', 'name', 'popularity', 'preview_url', 'track_number', 'type', 'uri'])"
      ]
     },
     "execution_count": 202,
     "metadata": {},
     "output_type": "execute_result"
    }
   ],
   "source": [
    "simon_tracks['tracks'][0].keys()"
   ]
  },
  {
   "cell_type": "code",
   "execution_count": 206,
   "metadata": {},
   "outputs": [],
   "source": [
    "def extract_top_songs(top_tracks_response):\n",
    "    keys = ['song', 'id', 'popularity']\n",
    "    return [dict(zip(keys, (track['name'], track['id'], track['popularity']))) \n",
    "            for track in top_tracks_response['tracks']]\n",
    "    "
   ]
  },
  {
   "cell_type": "code",
   "execution_count": 213,
   "metadata": {},
   "outputs": [
    {
     "data": {
      "text/plain": [
       "[{'song': 'You Can Call Me Al',\n",
       "  'id': '0qxYx4F3vm1AOnfux6dDxP',\n",
       "  'popularity': 74},\n",
       " {'song': 'Me and Julio Down by the Schoolyard',\n",
       "  'id': '6vxHp3CDNo0afgKGp2yi1E',\n",
       "  'popularity': 70}]"
      ]
     },
     "execution_count": 213,
     "metadata": {},
     "output_type": "execute_result"
    }
   ],
   "source": [
    "top_songs_info = extract_top_songs(simon_tracks)\n",
    "\n",
    "top_song_info[:2]\n",
    "# [{'song': 'You Can Call Me Al',\n",
    "#   'id': '0qxYx4F3vm1AOnfux6dDxP',\n",
    "#   'popularity': 74},\n",
    "#  {'song': 'Me and Julio Down by the Schoolyard',\n",
    "#   'id': '6vxHp3CDNo0afgKGp2yi1E',\n",
    "#   'popularity': 70},"
   ]
  },
  {
   "cell_type": "code",
   "execution_count": 217,
   "metadata": {},
   "outputs": [],
   "source": [
    "def audio_data(track_id):\n",
    "    base_url = 'https://api.spotify.com'\n",
    "    features = f'/v1/audio-features/{track_id}'\n",
    "    analysis = f'/v1/audio-analysis/{track_id}'\n",
    "    return f'{base_url}{features}'\n"
   ]
  },
  {
   "cell_type": "code",
   "execution_count": 219,
   "metadata": {},
   "outputs": [
    {
     "data": {
      "text/plain": [
       "'https://api.spotify.com/v1/audio-features/0qxYx4F3vm1AOnfux6dDxP'"
      ]
     },
     "execution_count": 219,
     "metadata": {},
     "output_type": "execute_result"
    }
   ],
   "source": [
    "top_song_id = top_songs_info[0]['id']\n",
    "audio_url = audio_data(top_song_id)\n",
    "audio_url"
   ]
  },
  {
   "cell_type": "markdown",
   "metadata": {},
   "source": [
    "For each of the songs, retrieve the characteristics of each song."
   ]
  },
  {
   "cell_type": "code",
   "execution_count": 220,
   "metadata": {},
   "outputs": [],
   "source": [
    "audio_data = make_request(access_token, audio_url)"
   ]
  },
  {
   "cell_type": "code",
   "execution_count": 223,
   "metadata": {},
   "outputs": [
    {
     "data": {
      "text/plain": [
       "{'danceability': 0.776,\n",
       " 'energy': 0.763,\n",
       " 'key': 5,\n",
       " 'loudness': -8.124,\n",
       " 'mode': 1,\n",
       " 'speechiness': 0.0535,\n",
       " 'acousticness': 0.182,\n",
       " 'instrumentalness': 0.0065,\n",
       " 'liveness': 0.077,\n",
       " 'valence': 0.82,\n",
       " 'tempo': 128.433,\n",
       " 'type': 'audio_features',\n",
       " 'id': '0qxYx4F3vm1AOnfux6dDxP',\n",
       " 'uri': 'spotify:track:0qxYx4F3vm1AOnfux6dDxP',\n",
       " 'track_href': 'https://api.spotify.com/v1/tracks/0qxYx4F3vm1AOnfux6dDxP',\n",
       " 'analysis_url': 'https://api.spotify.com/v1/audio-analysis/0qxYx4F3vm1AOnfux6dDxP',\n",
       " 'duration_ms': 280000,\n",
       " 'time_signature': 4}"
      ]
     },
     "execution_count": 223,
     "metadata": {},
     "output_type": "execute_result"
    }
   ],
   "source": [
    "audio_data\n",
    "# {'danceability': 0.776,\n",
    "#  'energy': 0.763,\n",
    "#  'key': 5,\n",
    "#  'loudness': -8.124,\n",
    "#  'mode': 1,\n",
    "#  'speechiness': 0.0535,\n",
    "#  'acousticness': 0.182,\n",
    "#  'instrumentalness': 0.0065,\n",
    "#  'liveness': 0.077,\n",
    "#  'valence': 0.82,\n",
    "#  'tempo': 128.433,\n",
    "#  'type': 'audio_features',\n",
    "#  'id': '0qxYx4F3vm1AOnfux6dDxP',\n",
    "#  'uri': 'spotify:track:0qxYx4F3vm1AOnfux6dDxP',\n",
    "#  'track_href': 'https://api.spotify.com/v1/tracks/0qxYx4F3vm1AOnfux6dDxP',\n",
    "#  'analysis_url': 'https://api.spotify.com/v1/audio-analysis/0qxYx4F3vm1AOnfux6dDxP',\n",
    "#  'duration_ms': 280000,\n",
    "#  'time_signature': 4}"
   ]
  },
  {
   "cell_type": "markdown",
   "metadata": {},
   "source": [
    "> Consider using dictionary comprehension to extract the audio data for a single song."
   ]
  },
  {
   "cell_type": "code",
   "execution_count": 228,
   "metadata": {},
   "outputs": [],
   "source": [
    "def extract_audio_data(audio_data):\n",
    "    selected_attrs = ['danceability', 'energy', 'loudness', \n",
    "                      'speechiness', 'acousticness', \n",
    "                      'instrumentalness', 'liveness', 'valence']\n",
    "    return {k:v for (k, v) in audio_data.items() if k in selected_attrs}"
   ]
  },
  {
   "cell_type": "code",
   "execution_count": 230,
   "metadata": {},
   "outputs": [
    {
     "data": {
      "text/plain": [
       "{'danceability': 0.776,\n",
       " 'energy': 0.763,\n",
       " 'loudness': -8.124,\n",
       " 'speechiness': 0.0535,\n",
       " 'acousticness': 0.182,\n",
       " 'instrumentalness': 0.0065,\n",
       " 'liveness': 0.077,\n",
       " 'valence': 0.82}"
      ]
     },
     "execution_count": 230,
     "metadata": {},
     "output_type": "execute_result"
    }
   ],
   "source": [
    "extract_audio_data(audio_data)\n",
    "# {'danceability': 0.776,\n",
    "#  'energy': 0.763,\n",
    "#  'loudness': -8.124,\n",
    "#  'speechiness': 0.0535,\n",
    "#  'acousticness': 0.182,\n",
    "#  'instrumentalness': 0.0065,\n",
    "#  'liveness': 0.077,\n",
    "#  'valence': 0.82}"
   ]
  },
  {
   "cell_type": "code",
   "execution_count": 232,
   "metadata": {},
   "outputs": [],
   "source": [
    "top_song_ids = [top_song['id'] for top_song in top_songs_info]\n",
    "# ['0qxYx4F3vm1AOnfux6dDxP',\n",
    "#  '6vxHp3CDNo0afgKGp2yi1E',\n",
    "#  '6Qb7gtV6Q4MnUjSbkFcopl',\n",
    "#  '51KKQAgYFoJHgVIuJWHdHb',\n",
    "#  '71GvlH0VdeClloLIkHrAVu',\n",
    "#  '3f0U5NaD1bCk8nmKpn2ZJY',\n",
    "#  '3gIBSlXYIN1mru35l4LWPB',\n",
    "#  '2h23bjG8B3bcD47HBu6bHG',\n",
    "#  '0zb2kpEQMnqJPiLACKMiFM',\n",
    "#  '00IrSynHsun7DpDrLkRIjM']"
   ]
  },
  {
   "cell_type": "code",
   "execution_count": 236,
   "metadata": {},
   "outputs": [],
   "source": [
    "def audio_data(track_ids):\n",
    "    track_url =  \"https://api.spotify.com/v1/audio-features/?ids=\"\n",
    "    ids_string = ','.join(track_ids)\n",
    "    return f'{track_url}{ids_string}'"
   ]
  },
  {
   "cell_type": "code",
   "execution_count": 238,
   "metadata": {},
   "outputs": [
    {
     "data": {
      "text/plain": [
       "'https://api.spotify.com/v1/audio-features/?ids=0qxYx4F3vm1AOnfux6dDxP,6vxHp3CDNo0afgKGp2yi1E,6Qb7gtV6Q4MnUjSbkFcopl,51KKQAgYFoJHgVIuJWHdHb,71GvlH0VdeClloLIkHrAVu,3f0U5NaD1bCk8nmKpn2ZJY,3gIBSlXYIN1mru35l4LWPB,2h23bjG8B3bcD47HBu6bHG,0zb2kpEQMnqJPiLACKMiFM,00IrSynHsun7DpDrLkRIjM'"
      ]
     },
     "execution_count": 238,
     "metadata": {},
     "output_type": "execute_result"
    }
   ],
   "source": [
    "songs_url = audio_data(top_song_ids)\n",
    "songs_url\n",
    "# 'https://api.spotify.com/v1/audio-features/?ids=\n",
    "# 0qxYx4F3vm1AOnfux6dDxP,6vxHp3CDNo0afgKGp2yi1E,\n",
    "# 6Qb7gtV6Q4MnUjSbkFcopl,51KKQAgYFoJHgVIuJWHdHb,71GvlH0VdeClloLIkHrAVu,\n",
    "# 3f0U5NaD1bCk8nmKpn2ZJY,3gIBSlXYIN1mru35l4LWPB,2h23bjG8B3bcD47HBu6bHG,\n",
    "# 0zb2kpEQMnqJPiLACKMiFM,00IrSynHsun7DpDrLkRIjM'"
   ]
  },
  {
   "cell_type": "code",
   "execution_count": 253,
   "metadata": {},
   "outputs": [],
   "source": [
    "songs_features = make_request(access_token, songs_url)\n",
    "# songs_features\n",
    "# {'audio_features': [{'danceability': 0.776,\n",
    "#    'energy': 0.763,\n",
    "#    'key': 5,\n",
    "#    'loudness': -8.124,\n",
    "#    'mode': 1,\n",
    "#    'speechiness': 0.0535,\n",
    "#    'acousticness': 0.182,\n",
    "#    'instrumentalness': 0.0065,"
   ]
  },
  {
   "cell_type": "code",
   "execution_count": 249,
   "metadata": {},
   "outputs": [],
   "source": [
    "# "
   ]
  },
  {
   "cell_type": "markdown",
   "metadata": {},
   "source": [
    "Now extract the audio features for each song."
   ]
  },
  {
   "cell_type": "code",
   "execution_count": 255,
   "metadata": {},
   "outputs": [
    {
     "data": {
      "text/plain": [
       "[{'danceability': 0.776,\n",
       "  'energy': 0.763,\n",
       "  'loudness': -8.124,\n",
       "  'speechiness': 0.0535,\n",
       "  'acousticness': 0.182,\n",
       "  'instrumentalness': 0.0065,\n",
       "  'liveness': 0.077,\n",
       "  'valence': 0.82},\n",
       " {'danceability': 0.626,\n",
       "  'energy': 0.816,\n",
       "  'loudness': -10.593,\n",
       "  'speechiness': 0.13,\n",
       "  'acousticness': 0.237,\n",
       "  'instrumentalness': 1.8e-06,\n",
       "  'liveness': 0.104,\n",
       "  'valence': 0.798},\n",
       " {'danceability': 0.815,\n",
       "  'energy': 0.372,\n",
       "  'loudness': -12.814,\n",
       "  'speechiness': 0.0752,\n",
       "  'acousticness': 0.166,\n",
       "  'instrumentalness': 0.000116,\n",
       "  'liveness': 0.0767,\n",
       "  'valence': 0.293},\n",
       " {'danceability': 0.732,\n",
       "  'energy': 0.705,\n",
       "  'loudness': -9.271,\n",
       "  'speechiness': 0.0349,\n",
       "  'acousticness': 0.626,\n",
       "  'instrumentalness': 0.00068,\n",
       "  'liveness': 0.0813,\n",
       "  'valence': 0.848},\n",
       " {'danceability': 0.791,\n",
       "  'energy': 0.677,\n",
       "  'loudness': -9.724,\n",
       "  'speechiness': 0.0356,\n",
       "  'acousticness': 0.776,\n",
       "  'instrumentalness': 0.00121,\n",
       "  'liveness': 0.224,\n",
       "  'valence': 0.876},\n",
       " {'danceability': 0.592,\n",
       "  'energy': 0.705,\n",
       "  'loudness': -10.276,\n",
       "  'speechiness': 0.0287,\n",
       "  'acousticness': 0.0291,\n",
       "  'instrumentalness': 1.97e-05,\n",
       "  'liveness': 0.0456,\n",
       "  'valence': 0.902},\n",
       " {'danceability': 0.267,\n",
       "  'energy': 0.252,\n",
       "  'loudness': -11.687,\n",
       "  'speechiness': 0.0351,\n",
       "  'acousticness': 0.8,\n",
       "  'instrumentalness': 4.43e-05,\n",
       "  'liveness': 0.089,\n",
       "  'valence': 0.13},\n",
       " {'danceability': 0.72,\n",
       "  'energy': 0.88,\n",
       "  'loudness': -8.988,\n",
       "  'speechiness': 0.0406,\n",
       "  'acousticness': 0.199,\n",
       "  'instrumentalness': 0.0246,\n",
       "  'liveness': 0.0865,\n",
       "  'valence': 0.961},\n",
       " {'danceability': 0.641,\n",
       "  'energy': 0.409,\n",
       "  'loudness': -12.452,\n",
       "  'speechiness': 0.0348,\n",
       "  'acousticness': 0.743,\n",
       "  'instrumentalness': 2.58e-06,\n",
       "  'liveness': 0.118,\n",
       "  'valence': 0.315},\n",
       " {'danceability': 0.62,\n",
       "  'energy': 0.703,\n",
       "  'loudness': -7.854,\n",
       "  'speechiness': 0.0836,\n",
       "  'acousticness': 0.479,\n",
       "  'instrumentalness': 0,\n",
       "  'liveness': 0.14,\n",
       "  'valence': 0.559}]"
      ]
     },
     "execution_count": 255,
     "metadata": {},
     "output_type": "execute_result"
    }
   ],
   "source": [
    "song_audio_data = [extract_audio_data(song_features) for song_features in songs_features['audio_features']]\n",
    "song_audio_data\n",
    "#     {'danceability': 0.776,\n",
    "#   'energy': 0.763,\n",
    "#   'loudness': -8.124,\n",
    "#   'speechiness': 0.0535,\n",
    "#   'acousticness': 0.182,\n",
    "#   'instrumentalness': 0.0065,\n",
    "#   'liveness': 0.077,\n",
    "#   'valence': 0.82},\n",
    "#  {'danceability': 0.626,\n",
    "#   'energy': 0.816,\n",
    "#   'loudness': -10.593,\n",
    "#   'speechiness': 0.13,\n",
    "#   'acousticness': 0.237,\n",
    "#   'instrumentalness': 1.8e-06,\n",
    "#   'liveness': 0.104,\n",
    "#   'valence': 0.798},\n",
    "#  {'danceability': 0.815,\n",
    "#   'energy': 0.372,\n",
    "#   'loudness': -12.814,\n",
    "#   'speechiness': 0.0752,\n",
    "#   'acousticness': 0.166,\n",
    "#   'instrumentalness': 0.000116,\n",
    "#   'liveness': 0.0767,\n",
    "#   'valence': 0.293},"
   ]
  },
  {
   "cell_type": "markdown",
   "metadata": {},
   "source": [
    "### Resources"
   ]
  },
  {
   "cell_type": "markdown",
   "metadata": {},
   "source": [
    "[StackOverflow Post](https://stackoverflow.com/questions/30557409/spotify-api-post-call-response-415)"
   ]
  },
  {
   "cell_type": "markdown",
   "metadata": {},
   "source": [
    "[Spotify Tutorial Python](https://kholinlabs.com/how-oauth-works-with-spotify-as-an-example)"
   ]
  }
 ],
 "metadata": {
  "kernelspec": {
   "display_name": "Python 3",
   "language": "python",
   "name": "python3"
  },
  "language_info": {
   "codemirror_mode": {
    "name": "ipython",
    "version": 3
   },
   "file_extension": ".py",
   "mimetype": "text/x-python",
   "name": "python",
   "nbconvert_exporter": "python",
   "pygments_lexer": "ipython3",
   "version": "3.7.4"
  }
 },
 "nbformat": 4,
 "nbformat_minor": 4
}
