{
 "cells": [
  {
   "cell_type": "markdown",
   "metadata": {},
   "source": [
    "# Calling APIs with Python"
   ]
  },
  {
   "cell_type": "markdown",
   "metadata": {},
   "source": [
    "### Introduction"
   ]
  },
  {
   "cell_type": "markdown",
   "metadata": {},
   "source": [
    "So now that we know about what an API is, and how we request information from an API, we can now try calling an API with Python"
   ]
  },
  {
   "cell_type": "markdown",
   "metadata": {},
   "source": [
    "## Using Python to Make Web Requests  "
   ]
  },
  {
   "cell_type": "markdown",
   "metadata": {},
   "source": [
    "Our task is to access the Google books API with Python.  \n",
    "\n",
    "We know how to access this API in general.  All we need to do go to a URL like the following: `https://www.googleapis.com/books/v1/volumes?q=Tom%20Sawyer`.  Also, as we know, what we are really doing is: \n",
    "\n",
    "1. Directing our browser to make a GET request to the URL above\n",
    "2. Capturing the response in our browser\n",
    "\n",
    "Let's try the same in Python."
   ]
  },
  {
   "cell_type": "markdown",
   "metadata": {},
   "source": [
    "Now just as a browser has the ability to make requests, Python has this ability as well.  We just have to use the `requests` object.  The requests module is just a library that allows us to make web requests and capture responses.  "
   ]
  },
  {
   "cell_type": "markdown",
   "metadata": {},
   "source": [
    "> By **module** we just mean library.  A library is a collection of methods that we can use.  Here we want to use a method that can make a request to a website."
   ]
  },
  {
   "cell_type": "code",
   "execution_count": 2,
   "metadata": {},
   "outputs": [
    {
     "ename": "NameError",
     "evalue": "name 'requests' is not defined",
     "output_type": "error",
     "traceback": [
      "\u001b[0;31m---------------------------------------------------------------------------\u001b[0m",
      "\u001b[0;31mNameError\u001b[0m                                 Traceback (most recent call last)",
      "\u001b[0;32m<ipython-input-2-5e482a8a1a83>\u001b[0m in \u001b[0;36m<module>\u001b[0;34m()\u001b[0m\n\u001b[0;32m----> 1\u001b[0;31m \u001b[0mrequests\u001b[0m\u001b[0;34m\u001b[0m\u001b[0m\n\u001b[0m",
      "\u001b[0;31mNameError\u001b[0m: name 'requests' is not defined"
     ]
    }
   ],
   "source": [
    "requests"
   ]
  },
  {
   "cell_type": "markdown",
   "metadata": {},
   "source": [
    "Oops, we just got an error, indicating that Python does not know what `requests` means.  Unlike, say the ability to add two numbers, Python cannot make requests right out of the box. So we first need to tell Python we are about to use the module `requests`.  We do this with the line `import requests`, which tells Python to give us access to this module. "
   ]
  },
  {
   "cell_type": "code",
   "execution_count": 2,
   "metadata": {},
   "outputs": [],
   "source": [
    "import requests"
   ]
  },
  {
   "cell_type": "markdown",
   "metadata": {},
   "source": [
    "And now we can use that module."
   ]
  },
  {
   "cell_type": "markdown",
   "metadata": {},
   "source": [
    "> press shift + enter if you'd like to code along."
   ]
  },
  {
   "cell_type": "code",
   "execution_count": 3,
   "metadata": {},
   "outputs": [
    {
     "data": {
      "text/plain": [
       "<module 'requests' from '/Users/jeff/anaconda3/lib/python3.7/site-packages/requests/__init__.py'>"
      ]
     },
     "execution_count": 3,
     "metadata": {},
     "output_type": "execute_result"
    }
   ],
   "source": [
    "requests"
   ]
  },
  {
   "cell_type": "markdown",
   "metadata": {},
   "source": [
    "> keep pressing shift + enter"
   ]
  },
  {
   "cell_type": "markdown",
   "metadata": {},
   "source": [
    "Now to use this module to make our GET request to Google Books URL, we write the following."
   ]
  },
  {
   "cell_type": "code",
   "execution_count": 8,
   "metadata": {},
   "outputs": [
    {
     "data": {
      "text/plain": [
       "<Response [200]>"
      ]
     },
     "execution_count": 8,
     "metadata": {},
     "output_type": "execute_result"
    }
   ],
   "source": [
    "requests.get(\"https://www.googleapis.com/books/v1/volumes?q=Tom%20Sawyer\")"
   ]
  },
  {
   "cell_type": "markdown",
   "metadata": {},
   "source": [
    "> Press `shift` and `enter` again. "
   ]
  },
  {
   "cell_type": "markdown",
   "metadata": {},
   "source": [
    "See that?  That `<Response [200]>` means not only did we make a request to the Google Books API, but that we also got back a Response from that API. "
   ]
  },
  {
   "cell_type": "markdown",
   "metadata": {},
   "source": [
    "If we want to see that response, we just need to first capture the response in a variable, by updating our code to be the following."
   ]
  },
  {
   "cell_type": "code",
   "execution_count": 4,
   "metadata": {},
   "outputs": [],
   "source": [
    "response = requests.get(\"https://www.googleapis.com/books/v1/volumes?q=Tom%20Sawyer\")"
   ]
  },
  {
   "cell_type": "markdown",
   "metadata": {},
   "source": [
    "Now we have captured that response in the variable `response`."
   ]
  },
  {
   "cell_type": "code",
   "execution_count": 5,
   "metadata": {},
   "outputs": [
    {
     "data": {
      "text/plain": [
       "<Response [200]>"
      ]
     },
     "execution_count": 5,
     "metadata": {},
     "output_type": "execute_result"
    }
   ],
   "source": [
    "response"
   ]
  },
  {
   "cell_type": "markdown",
   "metadata": {},
   "source": [
    "And just like we used the web inspector in Google Chrome to inspect our response, we can inspect various aspects of that response with Python.  So if we want to see the status code of the response, we can ask for it."
   ]
  },
  {
   "cell_type": "code",
   "execution_count": 6,
   "metadata": {},
   "outputs": [
    {
     "data": {
      "text/plain": [
       "200"
      ]
     },
     "execution_count": 6,
     "metadata": {},
     "output_type": "execute_result"
    }
   ],
   "source": [
    "response.status_code"
   ]
  },
  {
   "cell_type": "markdown",
   "metadata": {},
   "source": [
    "And if we want to see all of the JSON, we can ask for that as well. (Scroll down -- there's a lot of data sent to us -- and we'll meet up at the bottom of the page.)"
   ]
  },
  {
   "cell_type": "code",
   "execution_count": 24,
   "metadata": {},
   "outputs": [
    {
     "data": {
      "text/plain": [
       "{'kind': 'books#volumes',\n",
       " 'totalItems': 2447,\n",
       " 'items': [{'kind': 'books#volume',\n",
       "   'id': 'Rhhsu8QcwAoC',\n",
       "   'etag': 'dhL7yALmhlc',\n",
       "   'selfLink': 'https://www.googleapis.com/books/v1/volumes/Rhhsu8QcwAoC',\n",
       "   'volumeInfo': {'title': \"Mark Twain's Adventures of Tom Sawyer and Huckleberry Finn\",\n",
       "    'subtitle': 'The Original Text Edition',\n",
       "    'authors': ['Alan Gribben'],\n",
       "    'publisher': 'NewSouth Books',\n",
       "    'publishedDate': '2012-10-01',\n",
       "    'description': 'Mark Twain’s two most famous novels are published here as the continuous narrative that he originally envisioned. Twain started writing Adventures of Huckleberry Finn soon after finishing The Adventures of Tom Sawyer (1876), but difficulties with the sequel took him eight years to resolve. Consequently his contemporary readers failed to view the volumes as the companion books he had intended. In the twentieth century, publishers, librarians, and academics continued to separate the two titles, with the result that they are seldom read sequentially even though they feature many of the same characters and their narratives open in the identical Mississippi River village, St. Petersburg. This Original Text Edition brings the stories back together and faithfully follows the wording of the first editions.',\n",
       "    'industryIdentifiers': [{'type': 'ISBN_13', 'identifier': '9781603062381'},\n",
       "     {'type': 'ISBN_10', 'identifier': '1603062386'}],\n",
       "    'readingModes': {'text': True, 'image': True},\n",
       "    'pageCount': 428,\n",
       "    'printType': 'BOOK',\n",
       "    'categories': ['Fiction'],\n",
       "    'averageRating': 1.0,\n",
       "    'ratingsCount': 1,\n",
       "    'maturityRating': 'NOT_MATURE',\n",
       "    'allowAnonLogging': False,\n",
       "    'contentVersion': '0.4.5.0.preview.3',\n",
       "    'panelizationSummary': {'containsEpubBubbles': False,\n",
       "     'containsImageBubbles': False},\n",
       "    'imageLinks': {'smallThumbnail': 'http://books.google.com/books/content?id=Rhhsu8QcwAoC&printsec=frontcover&img=1&zoom=5&edge=curl&source=gbs_api',\n",
       "     'thumbnail': 'http://books.google.com/books/content?id=Rhhsu8QcwAoC&printsec=frontcover&img=1&zoom=1&edge=curl&source=gbs_api'},\n",
       "    'language': 'en',\n",
       "    'previewLink': 'http://books.google.com/books?id=Rhhsu8QcwAoC&printsec=frontcover&dq=Tom+Sawyer&hl=&cd=1&source=gbs_api',\n",
       "    'infoLink': 'https://play.google.com/store/books/details?id=Rhhsu8QcwAoC&source=gbs_api',\n",
       "    'canonicalVolumeLink': 'https://market.android.com/details?id=book-Rhhsu8QcwAoC'},\n",
       "   'saleInfo': {'country': 'US',\n",
       "    'saleability': 'FOR_SALE',\n",
       "    'isEbook': True,\n",
       "    'listPrice': {'amount': 12.95, 'currencyCode': 'USD'},\n",
       "    'retailPrice': {'amount': 9.99, 'currencyCode': 'USD'},\n",
       "    'buyLink': 'https://play.google.com/store/books/details?id=Rhhsu8QcwAoC&rdid=book-Rhhsu8QcwAoC&rdot=1&source=gbs_api',\n",
       "    'offers': [{'finskyOfferType': 1,\n",
       "      'listPrice': {'amountInMicros': 12950000.0, 'currencyCode': 'USD'},\n",
       "      'retailPrice': {'amountInMicros': 9990000.0, 'currencyCode': 'USD'},\n",
       "      'giftable': True}]},\n",
       "   'accessInfo': {'country': 'US',\n",
       "    'viewability': 'PARTIAL',\n",
       "    'embeddable': True,\n",
       "    'publicDomain': False,\n",
       "    'textToSpeechPermission': 'ALLOWED',\n",
       "    'epub': {'isAvailable': True,\n",
       "     'acsTokenLink': 'http://books.google.com/books/download/Mark_Twain_s_Adventures_of_Tom_Sawyer_an-sample-epub.acsm?id=Rhhsu8QcwAoC&format=epub&output=acs4_fulfillment_token&dl_type=sample&source=gbs_api'},\n",
       "    'pdf': {'isAvailable': True,\n",
       "     'acsTokenLink': 'http://books.google.com/books/download/Mark_Twain_s_Adventures_of_Tom_Sawyer_an-sample-pdf.acsm?id=Rhhsu8QcwAoC&format=pdf&output=acs4_fulfillment_token&dl_type=sample&source=gbs_api'},\n",
       "    'webReaderLink': 'http://play.google.com/books/reader?id=Rhhsu8QcwAoC&hl=&printsec=frontcover&source=gbs_api',\n",
       "    'accessViewStatus': 'SAMPLE',\n",
       "    'quoteSharingAllowed': False},\n",
       "   'searchInfo': {'textSnippet': 'This Original Text Edition brings the stories back together and faithfully follows the wording of the first editions.'}},\n",
       "  {'kind': 'books#volume',\n",
       "   'id': 'raFmzlUhNwUC',\n",
       "   'etag': 'r4Viz7hM8po',\n",
       "   'selfLink': 'https://www.googleapis.com/books/v1/volumes/raFmzlUhNwUC',\n",
       "   'volumeInfo': {'title': 'The Adventures of Tom Sawyer. ILLUSTRATED. : Illustrated by True Williams (Mobi Classics)',\n",
       "    'authors': ['Mark Twain'],\n",
       "    'publisher': 'MobileReference',\n",
       "    'publishedDate': '2008',\n",
       "    'description': 'The Adventures of Tom Sawyer, by Mark Twain, is a popular 1876 novel about a young boy growing up in the Antebellum South on the Mississippi River in the fictional town of St. Petersburg, Missouri. Tom Sawyer, a mischievous orphan taken in by his Aunt Polly, goes through a series of adventures involving his friends, Joe Harper and Huckleberry Finn. Tom is an escape master, and a professional trickster. The best known passage in the book describes how Sawyer persuades his friends to whitewash, or paint, a long fence for him. -- Excerpted from Wikipedia, the free encyclopedia. Intuitive navigatio.',\n",
       "    'industryIdentifiers': [{'type': 'ISBN_10', 'identifier': '1603035079'},\n",
       "     {'type': 'ISBN_13', 'identifier': '9781603035071'}],\n",
       "    'readingModes': {'text': True, 'image': True},\n",
       "    'pageCount': 197,\n",
       "    'printType': 'BOOK',\n",
       "    'averageRating': 4.0,\n",
       "    'ratingsCount': 42,\n",
       "    'maturityRating': 'NOT_MATURE',\n",
       "    'allowAnonLogging': False,\n",
       "    'contentVersion': '0.0.1.0.preview.3',\n",
       "    'imageLinks': {'smallThumbnail': 'http://books.google.com/books/content?id=raFmzlUhNwUC&printsec=frontcover&img=1&zoom=5&edge=curl&source=gbs_api',\n",
       "     'thumbnail': 'http://books.google.com/books/content?id=raFmzlUhNwUC&printsec=frontcover&img=1&zoom=1&edge=curl&source=gbs_api'},\n",
       "    'language': 'en',\n",
       "    'previewLink': 'http://books.google.com/books?id=raFmzlUhNwUC&printsec=frontcover&dq=Tom+Sawyer&hl=&cd=2&source=gbs_api',\n",
       "    'infoLink': 'http://books.google.com/books?id=raFmzlUhNwUC&dq=Tom+Sawyer&hl=&source=gbs_api',\n",
       "    'canonicalVolumeLink': 'https://books.google.com/books/about/The_Adventures_of_Tom_Sawyer_ILLUSTRATED.html?hl=&id=raFmzlUhNwUC'},\n",
       "   'saleInfo': {'country': 'US',\n",
       "    'saleability': 'NOT_FOR_SALE',\n",
       "    'isEbook': False},\n",
       "   'accessInfo': {'country': 'US',\n",
       "    'viewability': 'ALL_PAGES',\n",
       "    'embeddable': True,\n",
       "    'publicDomain': False,\n",
       "    'textToSpeechPermission': 'ALLOWED',\n",
       "    'epub': {'isAvailable': True,\n",
       "     'acsTokenLink': 'http://books.google.com/books/download/The_Adventures_of_Tom_Sawyer_ILLUSTRATED-sample-epub.acsm?id=raFmzlUhNwUC&format=epub&output=acs4_fulfillment_token&dl_type=sample&source=gbs_api'},\n",
       "    'pdf': {'isAvailable': True,\n",
       "     'acsTokenLink': 'http://books.google.com/books/download/The_Adventures_of_Tom_Sawyer_ILLUSTRATED-sample-pdf.acsm?id=raFmzlUhNwUC&format=pdf&output=acs4_fulfillment_token&dl_type=sample&source=gbs_api'},\n",
       "    'webReaderLink': 'http://play.google.com/books/reader?id=raFmzlUhNwUC&hl=&printsec=frontcover&source=gbs_api',\n",
       "    'accessViewStatus': 'SAMPLE',\n",
       "    'quoteSharingAllowed': False},\n",
       "   'searchInfo': {'textSnippet': 'Tom is an escape master, and a professional trickster. The best known passage in the book describes how Sawyer persuades his friends to whitewash, or paint, a long fence for him. -- Excerpted from Wikipedia, the free encyclopedia.'}},\n",
       "  {'kind': 'books#volume',\n",
       "   'id': '5Psd5zv_oVcC',\n",
       "   'etag': 'lfKHN+k4kl0',\n",
       "   'selfLink': 'https://www.googleapis.com/books/v1/volumes/5Psd5zv_oVcC',\n",
       "   'volumeInfo': {'title': 'Tom Sawyer',\n",
       "    'authors': ['Mark Twain', 'Robert Blaisdell', 'John Green'],\n",
       "    'publisher': 'Courier Corporation',\n",
       "    'publishedDate': '1997-01-01',\n",
       "    'description': 'The adventures of a mischievous young boy and his friends growing up in a Mississippi River town in the nineteenth century.',\n",
       "    'industryIdentifiers': [{'type': 'ISBN_10', 'identifier': '0486291561'},\n",
       "     {'type': 'ISBN_13', 'identifier': '9780486291567'}],\n",
       "    'readingModes': {'text': False, 'image': True},\n",
       "    'pageCount': 92,\n",
       "    'printType': 'BOOK',\n",
       "    'categories': ['Juvenile Fiction'],\n",
       "    'averageRating': 4.0,\n",
       "    'ratingsCount': 11,\n",
       "    'maturityRating': 'NOT_MATURE',\n",
       "    'allowAnonLogging': True,\n",
       "    'contentVersion': '2.0.1.0.preview.1',\n",
       "    'panelizationSummary': {'containsEpubBubbles': False,\n",
       "     'containsImageBubbles': False},\n",
       "    'imageLinks': {'smallThumbnail': 'http://books.google.com/books/content?id=5Psd5zv_oVcC&printsec=frontcover&img=1&zoom=5&edge=curl&source=gbs_api',\n",
       "     'thumbnail': 'http://books.google.com/books/content?id=5Psd5zv_oVcC&printsec=frontcover&img=1&zoom=1&edge=curl&source=gbs_api'},\n",
       "    'language': 'en',\n",
       "    'previewLink': 'http://books.google.com/books?id=5Psd5zv_oVcC&printsec=frontcover&dq=Tom+Sawyer&hl=&cd=3&source=gbs_api',\n",
       "    'infoLink': 'http://books.google.com/books?id=5Psd5zv_oVcC&dq=Tom+Sawyer&hl=&source=gbs_api',\n",
       "    'canonicalVolumeLink': 'https://books.google.com/books/about/Tom_Sawyer.html?hl=&id=5Psd5zv_oVcC'},\n",
       "   'saleInfo': {'country': 'US',\n",
       "    'saleability': 'NOT_FOR_SALE',\n",
       "    'isEbook': False},\n",
       "   'accessInfo': {'country': 'US',\n",
       "    'viewability': 'PARTIAL',\n",
       "    'embeddable': True,\n",
       "    'publicDomain': False,\n",
       "    'textToSpeechPermission': 'ALLOWED',\n",
       "    'epub': {'isAvailable': False},\n",
       "    'pdf': {'isAvailable': True,\n",
       "     'acsTokenLink': 'http://books.google.com/books/download/Tom_Sawyer-sample-pdf.acsm?id=5Psd5zv_oVcC&format=pdf&output=acs4_fulfillment_token&dl_type=sample&source=gbs_api'},\n",
       "    'webReaderLink': 'http://play.google.com/books/reader?id=5Psd5zv_oVcC&hl=&printsec=frontcover&source=gbs_api',\n",
       "    'accessViewStatus': 'SAMPLE',\n",
       "    'quoteSharingAllowed': False},\n",
       "   'searchInfo': {'textSnippet': 'A simplified retelling of the classic story of the mischievous 19th-century boy in a Mississippi River town and his friends, Huck Finn and Beckey Thatcher, as they run away from home, witness a murder, and find treasure in a cave.'}},\n",
       "  {'kind': 'books#volume',\n",
       "   'id': 'j5UgAAAAMAAJ',\n",
       "   'etag': 'mU5xGHBagqY',\n",
       "   'selfLink': 'https://www.googleapis.com/books/v1/volumes/j5UgAAAAMAAJ',\n",
       "   'volumeInfo': {'title': 'The Adventures of Tom Sawyer',\n",
       "    'authors': ['Mark Twain'],\n",
       "    'publishedDate': '1920',\n",
       "    'description': \"The book that introduced the world to the iconic American characters of Tom Sawyer and Huckleberry Finn, this 1876 novel by Mark Twain follows the mischievous exploits of the two young boys, who find themselves in situations both humorous and dangerous. Never short of ways to stir up trouble in his hometown on the Mississippi River, Tom uses his wits to get both in and out of tight spots, often with Huck at his side. Featuring moments of significant social commentary, these interconnected tales essentially served as a dry run for Twain's notably weightier sequel, Adventures of Huckleberry Finn.\",\n",
       "    'industryIdentifiers': [{'type': 'OTHER',\n",
       "      'identifier': 'NYPL:33433074842398'}],\n",
       "    'readingModes': {'text': True, 'image': True},\n",
       "    'pageCount': 290,\n",
       "    'printType': 'BOOK',\n",
       "    'categories': ['Adventure stories, American'],\n",
       "    'averageRating': 4.0,\n",
       "    'ratingsCount': 325,\n",
       "    'maturityRating': 'NOT_MATURE',\n",
       "    'allowAnonLogging': False,\n",
       "    'contentVersion': '3.4.4.0.full.3',\n",
       "    'imageLinks': {'smallThumbnail': 'http://books.google.com/books/content?id=j5UgAAAAMAAJ&printsec=frontcover&img=1&zoom=5&edge=curl&source=gbs_api',\n",
       "     'thumbnail': 'http://books.google.com/books/content?id=j5UgAAAAMAAJ&printsec=frontcover&img=1&zoom=1&edge=curl&source=gbs_api'},\n",
       "    'language': 'en',\n",
       "    'previewLink': 'http://books.google.com/books?id=j5UgAAAAMAAJ&printsec=frontcover&dq=Tom+Sawyer&hl=&cd=4&source=gbs_api',\n",
       "    'infoLink': 'https://play.google.com/store/books/details?id=j5UgAAAAMAAJ&source=gbs_api',\n",
       "    'canonicalVolumeLink': 'https://market.android.com/details?id=book-j5UgAAAAMAAJ'},\n",
       "   'saleInfo': {'country': 'US',\n",
       "    'saleability': 'FREE',\n",
       "    'isEbook': True,\n",
       "    'buyLink': 'https://play.google.com/store/books/details?id=j5UgAAAAMAAJ&rdid=book-j5UgAAAAMAAJ&rdot=1&source=gbs_api'},\n",
       "   'accessInfo': {'country': 'US',\n",
       "    'viewability': 'ALL_PAGES',\n",
       "    'embeddable': True,\n",
       "    'publicDomain': True,\n",
       "    'textToSpeechPermission': 'ALLOWED',\n",
       "    'epub': {'isAvailable': True,\n",
       "     'downloadLink': 'http://books.google.com/books/download/The_Adventures_of_Tom_Sawyer.epub?id=j5UgAAAAMAAJ&hl=&output=epub&source=gbs_api'},\n",
       "    'pdf': {'isAvailable': True,\n",
       "     'downloadLink': 'http://books.google.com/books/download/The_Adventures_of_Tom_Sawyer.pdf?id=j5UgAAAAMAAJ&hl=&output=pdf&sig=ACfU3U20FI5LAwBqUJIVNWAjVo-EcuJm9A&source=gbs_api'},\n",
       "    'webReaderLink': 'http://play.google.com/books/reader?id=j5UgAAAAMAAJ&hl=&printsec=frontcover&source=gbs_api',\n",
       "    'accessViewStatus': 'FULL_PUBLIC_DOMAIN',\n",
       "    'quoteSharingAllowed': False},\n",
       "   'searchInfo': {'textSnippet': 'The book that introduced the world to the iconic American characters of Tom Sawyer and Huckleberry Finn, this 1876 novel by Mark Twain follows the mischievous exploits of the two young boys, who find themselves in situations both humorous ...'}},\n",
       "  {'kind': 'books#volume',\n",
       "   'id': 'N9ylqCJ168kC',\n",
       "   'etag': '5Knn0cMefN0',\n",
       "   'selfLink': 'https://www.googleapis.com/books/v1/volumes/N9ylqCJ168kC',\n",
       "   'volumeInfo': {'title': 'Adventures of Tom Sawyer',\n",
       "    'authors': ['Mark Twain'],\n",
       "    'publisher': 'ABDO',\n",
       "    'publishedDate': '2010-01-01',\n",
       "    'description': \"In Mark Twain's classic tale of friendship and adventure, Tom Sawyer is the trouble-making leader of the boys in a small town in Missouri. Tom uses his wit to talk his friends into all kinds of adventures, including witnessing a murder, pretending to be pirates, and finding treasure! Even school is an adventure with Tom in the Calico Illustrated Classics adaptation of Twain's The Adventures of Tom Sawyer. Calico Chapter Books is an imprint of Magic Wagon, a division of ABDO Group. Grades 3-8.\",\n",
       "    'industryIdentifiers': [{'type': 'ISBN_13', 'identifier': '9781616411589'},\n",
       "     {'type': 'ISBN_10', 'identifier': '1616411589'}],\n",
       "    'readingModes': {'text': True, 'image': True},\n",
       "    'pageCount': 112,\n",
       "    'printType': 'BOOK',\n",
       "    'categories': ['Juvenile Fiction'],\n",
       "    'averageRating': 3.0,\n",
       "    'ratingsCount': 1,\n",
       "    'maturityRating': 'NOT_MATURE',\n",
       "    'allowAnonLogging': False,\n",
       "    'contentVersion': '0.0.1.0.preview.3',\n",
       "    'panelizationSummary': {'containsEpubBubbles': False,\n",
       "     'containsImageBubbles': False},\n",
       "    'imageLinks': {'smallThumbnail': 'http://books.google.com/books/content?id=N9ylqCJ168kC&printsec=frontcover&img=1&zoom=5&edge=curl&source=gbs_api',\n",
       "     'thumbnail': 'http://books.google.com/books/content?id=N9ylqCJ168kC&printsec=frontcover&img=1&zoom=1&edge=curl&source=gbs_api'},\n",
       "    'language': 'en',\n",
       "    'previewLink': 'http://books.google.com/books?id=N9ylqCJ168kC&printsec=frontcover&dq=Tom+Sawyer&hl=&cd=5&source=gbs_api',\n",
       "    'infoLink': 'http://books.google.com/books?id=N9ylqCJ168kC&dq=Tom+Sawyer&hl=&source=gbs_api',\n",
       "    'canonicalVolumeLink': 'https://books.google.com/books/about/Adventures_of_Tom_Sawyer.html?hl=&id=N9ylqCJ168kC'},\n",
       "   'saleInfo': {'country': 'US',\n",
       "    'saleability': 'NOT_FOR_SALE',\n",
       "    'isEbook': False},\n",
       "   'accessInfo': {'country': 'US',\n",
       "    'viewability': 'PARTIAL',\n",
       "    'embeddable': True,\n",
       "    'publicDomain': False,\n",
       "    'textToSpeechPermission': 'ALLOWED',\n",
       "    'epub': {'isAvailable': True,\n",
       "     'acsTokenLink': 'http://books.google.com/books/download/Adventures_of_Tom_Sawyer-sample-epub.acsm?id=N9ylqCJ168kC&format=epub&output=acs4_fulfillment_token&dl_type=sample&source=gbs_api'},\n",
       "    'pdf': {'isAvailable': True,\n",
       "     'acsTokenLink': 'http://books.google.com/books/download/Adventures_of_Tom_Sawyer-sample-pdf.acsm?id=N9ylqCJ168kC&format=pdf&output=acs4_fulfillment_token&dl_type=sample&source=gbs_api'},\n",
       "    'webReaderLink': 'http://play.google.com/books/reader?id=N9ylqCJ168kC&hl=&printsec=frontcover&source=gbs_api',\n",
       "    'accessViewStatus': 'SAMPLE',\n",
       "    'quoteSharingAllowed': False},\n",
       "   'searchInfo': {'textSnippet': 'In Mark Twain&#39;s classic tale of friendship and adventure, Tom Sawyer is the trouble-making leader of the boys in a small town in Missouri.'}},\n",
       "  {'kind': 'books#volume',\n",
       "   'id': 't5yFTpIJYhcC',\n",
       "   'etag': 'cjEkYlsV46g',\n",
       "   'selfLink': 'https://www.googleapis.com/books/v1/volumes/t5yFTpIJYhcC',\n",
       "   'volumeInfo': {'title': 'The Adventures of Tom Sawyer',\n",
       "    'authors': ['Mark Twain'],\n",
       "    'publisher': 'Sterling Publishing Company, Inc.',\n",
       "    'publishedDate': '2004',\n",
       "    'description': 'The adventures and pranks of a mischievous boy growing up in a Mississippi River town in the early nineteenth century.',\n",
       "    'industryIdentifiers': [{'type': 'ISBN_10', 'identifier': '1402714602'},\n",
       "     {'type': 'ISBN_13', 'identifier': '9781402714603'}],\n",
       "    'readingModes': {'text': False, 'image': True},\n",
       "    'pageCount': 224,\n",
       "    'printType': 'BOOK',\n",
       "    'categories': ['Juvenile Fiction'],\n",
       "    'averageRating': 3.5,\n",
       "    'ratingsCount': 5,\n",
       "    'maturityRating': 'NOT_MATURE',\n",
       "    'allowAnonLogging': False,\n",
       "    'contentVersion': 'preview-1.0.0',\n",
       "    'panelizationSummary': {'containsEpubBubbles': False,\n",
       "     'containsImageBubbles': False},\n",
       "    'imageLinks': {'smallThumbnail': 'http://books.google.com/books/content?id=t5yFTpIJYhcC&printsec=frontcover&img=1&zoom=5&edge=curl&source=gbs_api',\n",
       "     'thumbnail': 'http://books.google.com/books/content?id=t5yFTpIJYhcC&printsec=frontcover&img=1&zoom=1&edge=curl&source=gbs_api'},\n",
       "    'language': 'en',\n",
       "    'previewLink': 'http://books.google.com/books?id=t5yFTpIJYhcC&printsec=frontcover&dq=Tom+Sawyer&hl=&cd=6&source=gbs_api',\n",
       "    'infoLink': 'http://books.google.com/books?id=t5yFTpIJYhcC&dq=Tom+Sawyer&hl=&source=gbs_api',\n",
       "    'canonicalVolumeLink': 'https://books.google.com/books/about/The_Adventures_of_Tom_Sawyer.html?hl=&id=t5yFTpIJYhcC'},\n",
       "   'saleInfo': {'country': 'US',\n",
       "    'saleability': 'NOT_FOR_SALE',\n",
       "    'isEbook': False},\n",
       "   'accessInfo': {'country': 'US',\n",
       "    'viewability': 'PARTIAL',\n",
       "    'embeddable': True,\n",
       "    'publicDomain': False,\n",
       "    'textToSpeechPermission': 'ALLOWED',\n",
       "    'epub': {'isAvailable': False},\n",
       "    'pdf': {'isAvailable': False},\n",
       "    'webReaderLink': 'http://play.google.com/books/reader?id=t5yFTpIJYhcC&hl=&printsec=frontcover&source=gbs_api',\n",
       "    'accessViewStatus': 'SAMPLE',\n",
       "    'quoteSharingAllowed': False},\n",
       "   'searchInfo': {'textSnippet': 'The adventures and pranks of a mischievous boy growing up in a Mississippi River town in the early nineteenth century.'}},\n",
       "  {'kind': 'books#volume',\n",
       "   'id': 'OR46AQAAIAAJ',\n",
       "   'etag': 'Kue7ri0Z2k0',\n",
       "   'selfLink': 'https://www.googleapis.com/books/v1/volumes/OR46AQAAIAAJ',\n",
       "   'volumeInfo': {'title': 'The Adventures of Tom Sawyer',\n",
       "    'authors': ['Mark Twain'],\n",
       "    'publishedDate': '1920',\n",
       "    'industryIdentifiers': [{'type': 'OTHER',\n",
       "      'identifier': 'STANFORD:36105047945816'}],\n",
       "    'readingModes': {'text': False, 'image': True},\n",
       "    'pageCount': 290,\n",
       "    'printType': 'BOOK',\n",
       "    'categories': ['Sawyer, Tom (Fictitious character)'],\n",
       "    'averageRating': 4.5,\n",
       "    'ratingsCount': 3,\n",
       "    'maturityRating': 'NOT_MATURE',\n",
       "    'allowAnonLogging': False,\n",
       "    'contentVersion': '0.2.1.0.full.1',\n",
       "    'imageLinks': {'smallThumbnail': 'http://books.google.com/books/content?id=OR46AQAAIAAJ&printsec=frontcover&img=1&zoom=5&edge=curl&source=gbs_api',\n",
       "     'thumbnail': 'http://books.google.com/books/content?id=OR46AQAAIAAJ&printsec=frontcover&img=1&zoom=1&edge=curl&source=gbs_api'},\n",
       "    'language': 'en',\n",
       "    'previewLink': 'http://books.google.com/books?id=OR46AQAAIAAJ&printsec=frontcover&dq=Tom+Sawyer&hl=&cd=7&source=gbs_api',\n",
       "    'infoLink': 'https://play.google.com/store/books/details?id=OR46AQAAIAAJ&source=gbs_api',\n",
       "    'canonicalVolumeLink': 'https://market.android.com/details?id=book-OR46AQAAIAAJ'},\n",
       "   'saleInfo': {'country': 'US',\n",
       "    'saleability': 'FREE',\n",
       "    'isEbook': True,\n",
       "    'buyLink': 'https://play.google.com/store/books/details?id=OR46AQAAIAAJ&rdid=book-OR46AQAAIAAJ&rdot=1&source=gbs_api'},\n",
       "   'accessInfo': {'country': 'US',\n",
       "    'viewability': 'ALL_PAGES',\n",
       "    'embeddable': True,\n",
       "    'publicDomain': True,\n",
       "    'textToSpeechPermission': 'ALLOWED',\n",
       "    'epub': {'isAvailable': False,\n",
       "     'downloadLink': 'http://books.google.com/books/download/The_Adventures_of_Tom_Sawyer.epub?id=OR46AQAAIAAJ&hl=&output=epub&source=gbs_api'},\n",
       "    'pdf': {'isAvailable': True,\n",
       "     'downloadLink': 'http://books.google.com/books/download/The_Adventures_of_Tom_Sawyer.pdf?id=OR46AQAAIAAJ&hl=&output=pdf&sig=ACfU3U1JnxVRx5pYoCLv0ZrjPKZdNyrrFw&source=gbs_api'},\n",
       "    'webReaderLink': 'http://play.google.com/books/reader?id=OR46AQAAIAAJ&hl=&printsec=frontcover&source=gbs_api',\n",
       "    'accessViewStatus': 'FULL_PUBLIC_DOMAIN',\n",
       "    'quoteSharingAllowed': False}},\n",
       "  {'kind': 'books#volume',\n",
       "   'id': 'noAlg9M_ftsC',\n",
       "   'etag': 'oTeaENLcC0Y',\n",
       "   'selfLink': 'https://www.googleapis.com/books/v1/volumes/noAlg9M_ftsC',\n",
       "   'volumeInfo': {'title': 'The Adventures of Tom Sawyer',\n",
       "    'authors': ['Monica Kulling'],\n",
       "    'publisher': 'Random House Books for Young Readers',\n",
       "    'publishedDate': '2012-02-29',\n",
       "    'description': \"As part of the wonderful Collector's Library series, The Adventures of Tom Sawyer is one of the best-loved children's classics of all time. This attractive volume contains the complete and unabridged story with 8 full color illustrations, plus numerous black & white illustrations throughout. The deluxe edition features a full piece cloth case, a four color illustrated onlay on the front cover, foil stamping on front and spine, stained edges on three sides, printed endpapers with book plate and a satin ribbon marker. This book should have an honored place in any child's library.\",\n",
       "    'industryIdentifiers': [{'type': 'ISBN_13', 'identifier': '9780307808684'},\n",
       "     {'type': 'ISBN_10', 'identifier': '0307808688'}],\n",
       "    'readingModes': {'text': True, 'image': False},\n",
       "    'pageCount': 112,\n",
       "    'printType': 'BOOK',\n",
       "    'categories': ['Juvenile Fiction'],\n",
       "    'maturityRating': 'NOT_MATURE',\n",
       "    'allowAnonLogging': True,\n",
       "    'contentVersion': '2.2.2.0.preview.2',\n",
       "    'panelizationSummary': {'containsEpubBubbles': False,\n",
       "     'containsImageBubbles': False},\n",
       "    'imageLinks': {'smallThumbnail': 'http://books.google.com/books/content?id=noAlg9M_ftsC&printsec=frontcover&img=1&zoom=5&edge=curl&source=gbs_api',\n",
       "     'thumbnail': 'http://books.google.com/books/content?id=noAlg9M_ftsC&printsec=frontcover&img=1&zoom=1&edge=curl&source=gbs_api'},\n",
       "    'language': 'en',\n",
       "    'previewLink': 'http://books.google.com/books?id=noAlg9M_ftsC&printsec=frontcover&dq=Tom+Sawyer&hl=&cd=8&source=gbs_api',\n",
       "    'infoLink': 'https://play.google.com/store/books/details?id=noAlg9M_ftsC&source=gbs_api',\n",
       "    'canonicalVolumeLink': 'https://market.android.com/details?id=book-noAlg9M_ftsC'},\n",
       "   'saleInfo': {'country': 'US',\n",
       "    'saleability': 'FOR_SALE',\n",
       "    'isEbook': True,\n",
       "    'listPrice': {'amount': 4.99, 'currencyCode': 'USD'},\n",
       "    'retailPrice': {'amount': 4.99, 'currencyCode': 'USD'},\n",
       "    'buyLink': 'https://play.google.com/store/books/details?id=noAlg9M_ftsC&rdid=book-noAlg9M_ftsC&rdot=1&source=gbs_api',\n",
       "    'offers': [{'finskyOfferType': 1,\n",
       "      'listPrice': {'amountInMicros': 4990000.0, 'currencyCode': 'USD'},\n",
       "      'retailPrice': {'amountInMicros': 4990000.0, 'currencyCode': 'USD'},\n",
       "      'giftable': True}]},\n",
       "   'accessInfo': {'country': 'US',\n",
       "    'viewability': 'PARTIAL',\n",
       "    'embeddable': True,\n",
       "    'publicDomain': False,\n",
       "    'textToSpeechPermission': 'ALLOWED_FOR_ACCESSIBILITY',\n",
       "    'epub': {'isAvailable': True,\n",
       "     'acsTokenLink': 'http://books.google.com/books/download/The_Adventures_of_Tom_Sawyer-sample-epub.acsm?id=noAlg9M_ftsC&format=epub&output=acs4_fulfillment_token&dl_type=sample&source=gbs_api'},\n",
       "    'pdf': {'isAvailable': False},\n",
       "    'webReaderLink': 'http://play.google.com/books/reader?id=noAlg9M_ftsC&hl=&printsec=frontcover&source=gbs_api',\n",
       "    'accessViewStatus': 'SAMPLE',\n",
       "    'quoteSharingAllowed': False},\n",
       "   'searchInfo': {'textSnippet': 'This book should have an honored place in any child&#39;s library.'}},\n",
       "  {'kind': 'books#volume',\n",
       "   'id': 'rpC-JauA-xwC',\n",
       "   'etag': '8RKOl9WPakk',\n",
       "   'selfLink': 'https://www.googleapis.com/books/v1/volumes/rpC-JauA-xwC',\n",
       "   'volumeInfo': {'title': 'The Adventures of Tom Sawyer',\n",
       "    'authors': ['Mark Twain'],\n",
       "    'publisher': 'Simon and Schuster',\n",
       "    'publishedDate': '2001-06-01',\n",
       "    'description': 'Presents the adventures of Tom Sawyer and his friend, Huck Finn, in a Mississippi River town in the nineteenth century.',\n",
       "    'industryIdentifiers': [{'type': 'ISBN_13', 'identifier': '9780689842245'},\n",
       "     {'type': 'ISBN_10', 'identifier': '0689842244'}],\n",
       "    'readingModes': {'text': False, 'image': False},\n",
       "    'pageCount': 272,\n",
       "    'printType': 'BOOK',\n",
       "    'categories': ['Fiction'],\n",
       "    'averageRating': 4.0,\n",
       "    'ratingsCount': 140,\n",
       "    'maturityRating': 'NOT_MATURE',\n",
       "    'allowAnonLogging': False,\n",
       "    'contentVersion': '0.2.0.0.preview.0',\n",
       "    'imageLinks': {'smallThumbnail': 'http://books.google.com/books/content?id=rpC-JauA-xwC&printsec=frontcover&img=1&zoom=5&edge=curl&source=gbs_api',\n",
       "     'thumbnail': 'http://books.google.com/books/content?id=rpC-JauA-xwC&printsec=frontcover&img=1&zoom=1&edge=curl&source=gbs_api'},\n",
       "    'language': 'en',\n",
       "    'previewLink': 'http://books.google.com/books?id=rpC-JauA-xwC&printsec=frontcover&dq=Tom+Sawyer&hl=&cd=9&source=gbs_api',\n",
       "    'infoLink': 'http://books.google.com/books?id=rpC-JauA-xwC&dq=Tom+Sawyer&hl=&source=gbs_api',\n",
       "    'canonicalVolumeLink': 'https://books.google.com/books/about/The_Adventures_of_Tom_Sawyer.html?hl=&id=rpC-JauA-xwC'},\n",
       "   'saleInfo': {'country': 'US',\n",
       "    'saleability': 'NOT_FOR_SALE',\n",
       "    'isEbook': False},\n",
       "   'accessInfo': {'country': 'US',\n",
       "    'viewability': 'PARTIAL',\n",
       "    'embeddable': True,\n",
       "    'publicDomain': False,\n",
       "    'textToSpeechPermission': 'ALLOWED_FOR_ACCESSIBILITY',\n",
       "    'epub': {'isAvailable': False},\n",
       "    'pdf': {'isAvailable': False},\n",
       "    'webReaderLink': 'http://play.google.com/books/reader?id=rpC-JauA-xwC&hl=&printsec=frontcover&source=gbs_api',\n",
       "    'accessViewStatus': 'SAMPLE',\n",
       "    'quoteSharingAllowed': False},\n",
       "   'searchInfo': {'textSnippet': 'Presents the adventures of Tom Sawyer and his friend, Huck Finn, in a Mississippi River town in the nineteenth century.'}},\n",
       "  {'kind': 'books#volume',\n",
       "   'id': 'IpcEP2nWcfYC',\n",
       "   'etag': 'o/JA9mGeHXE',\n",
       "   'selfLink': 'https://www.googleapis.com/books/v1/volumes/IpcEP2nWcfYC',\n",
       "   'volumeInfo': {'title': 'The Adventures of Tom Sawyer',\n",
       "    'authors': ['Mark Twain'],\n",
       "    'publisher': 'Univ of California Press',\n",
       "    'publishedDate': '2010-08-10',\n",
       "    'description': \"This landmark anniversary edition contains a selection of Twain's hard-to-find letters and notes expressing his always-engaging opinions on the publication of Tom Sawyer.\",\n",
       "    'industryIdentifiers': [{'type': 'ISBN_13', 'identifier': '9780520946323'},\n",
       "     {'type': 'ISBN_10', 'identifier': '0520946324'}],\n",
       "    'readingModes': {'text': True, 'image': True},\n",
       "    'pageCount': 312,\n",
       "    'printType': 'BOOK',\n",
       "    'categories': ['Literary Criticism'],\n",
       "    'maturityRating': 'NOT_MATURE',\n",
       "    'allowAnonLogging': True,\n",
       "    'contentVersion': '2.3.2.0.preview.3',\n",
       "    'panelizationSummary': {'containsEpubBubbles': False,\n",
       "     'containsImageBubbles': False},\n",
       "    'imageLinks': {'smallThumbnail': 'http://books.google.com/books/content?id=IpcEP2nWcfYC&printsec=frontcover&img=1&zoom=5&edge=curl&source=gbs_api',\n",
       "     'thumbnail': 'http://books.google.com/books/content?id=IpcEP2nWcfYC&printsec=frontcover&img=1&zoom=1&edge=curl&source=gbs_api'},\n",
       "    'language': 'en',\n",
       "    'previewLink': 'http://books.google.com/books?id=IpcEP2nWcfYC&printsec=frontcover&dq=Tom+Sawyer&hl=&cd=10&source=gbs_api',\n",
       "    'infoLink': 'https://play.google.com/store/books/details?id=IpcEP2nWcfYC&source=gbs_api',\n",
       "    'canonicalVolumeLink': 'https://market.android.com/details?id=book-IpcEP2nWcfYC'},\n",
       "   'saleInfo': {'country': 'US',\n",
       "    'saleability': 'FOR_SALE',\n",
       "    'isEbook': True,\n",
       "    'listPrice': {'amount': 23.95, 'currencyCode': 'USD'},\n",
       "    'retailPrice': {'amount': 14.37, 'currencyCode': 'USD'},\n",
       "    'buyLink': 'https://play.google.com/store/books/details?id=IpcEP2nWcfYC&rdid=book-IpcEP2nWcfYC&rdot=1&source=gbs_api',\n",
       "    'offers': [{'finskyOfferType': 1,\n",
       "      'listPrice': {'amountInMicros': 23950000.0, 'currencyCode': 'USD'},\n",
       "      'retailPrice': {'amountInMicros': 14370000.0, 'currencyCode': 'USD'},\n",
       "      'giftable': True}]},\n",
       "   'accessInfo': {'country': 'US',\n",
       "    'viewability': 'PARTIAL',\n",
       "    'embeddable': True,\n",
       "    'publicDomain': False,\n",
       "    'textToSpeechPermission': 'ALLOWED',\n",
       "    'epub': {'isAvailable': True,\n",
       "     'acsTokenLink': 'http://books.google.com/books/download/The_Adventures_of_Tom_Sawyer-sample-epub.acsm?id=IpcEP2nWcfYC&format=epub&output=acs4_fulfillment_token&dl_type=sample&source=gbs_api'},\n",
       "    'pdf': {'isAvailable': True,\n",
       "     'acsTokenLink': 'http://books.google.com/books/download/The_Adventures_of_Tom_Sawyer-sample-pdf.acsm?id=IpcEP2nWcfYC&format=pdf&output=acs4_fulfillment_token&dl_type=sample&source=gbs_api'},\n",
       "    'webReaderLink': 'http://play.google.com/books/reader?id=IpcEP2nWcfYC&hl=&printsec=frontcover&source=gbs_api',\n",
       "    'accessViewStatus': 'SAMPLE',\n",
       "    'quoteSharingAllowed': False},\n",
       "   'searchInfo': {'textSnippet': 'This landmark anniversary edition contains a selection of Twain&#39;s hard-to-find letters and notes expressing his always-engaging opinions on the publication of Tom Sawyer.'}}]}"
      ]
     },
     "execution_count": 24,
     "metadata": {},
     "output_type": "execute_result"
    }
   ],
   "source": [
    "response.json()"
   ]
  },
  {
   "cell_type": "markdown",
   "metadata": {},
   "source": [
    "## Ok, back to the show"
   ]
  },
  {
   "cell_type": "markdown",
   "metadata": {},
   "source": [
    "Congrats! You just made a web request and received back the response in JSON. We did it with these three lines: "
   ]
  },
  {
   "cell_type": "markdown",
   "metadata": {},
   "source": [
    "```python\n",
    "import requests\n",
    "response = requests.get(\"https://www.googleapis.com/books/v1/volumes?q=Tom%20Sawyer\")\n",
    "response.json()\n",
    "```"
   ]
  },
  {
   "cell_type": "markdown",
   "metadata": {},
   "source": [
    "As you may have guessed what's limiting us now, is that we don't know how all of the JSON we get back when we type in that information.  That's fine - we'll understand it when we learn Python, which  we'll focus on Python throughout the whole next unit.  For now, it's enough to appreciate that we are both able to write the code above, and understand why that code makes sense.  With this knowledge (and some practice), we can request information from a variety of APIs."
   ]
  },
  {
   "cell_type": "markdown",
   "metadata": {},
   "source": [
    "### Summary"
   ]
  },
  {
   "cell_type": "markdown",
   "metadata": {},
   "source": [
    "In this lesson, we ended up making an API call with Python.  This was both fun (hopefully).  It's fun because we can get a sense of all of the information that is available to us as data scientists.  And we can request that information in just a few steps:"
   ]
  },
  {
   "cell_type": "markdown",
   "metadata": {},
   "source": [
    "First import the proper module so that we can make a GET request to an API."
   ]
  },
  {
   "cell_type": "code",
   "execution_count": 1,
   "metadata": {},
   "outputs": [],
   "source": [
    "import requests"
   ]
  },
  {
   "cell_type": "markdown",
   "metadata": {},
   "source": [
    "Then make the request and store the response in a variable."
   ]
  },
  {
   "cell_type": "code",
   "execution_count": 2,
   "metadata": {},
   "outputs": [],
   "source": [
    "response = requests.get(\"https://www.googleapis.com/books/v1/volumes?q=Tom%20Sawyer\")"
   ]
  },
  {
   "cell_type": "markdown",
   "metadata": {},
   "source": [
    "Finally, display the data from that "
   ]
  },
  {
   "cell_type": "code",
   "execution_count": null,
   "metadata": {},
   "outputs": [],
   "source": [
    "response.json()"
   ]
  },
  {
   "cell_type": "markdown",
   "metadata": {},
   "source": [
    "Next up, we'll ask you to work with some new APIs in Python."
   ]
  }
 ],
 "metadata": {
  "kernelspec": {
   "display_name": "Python 3",
   "language": "python",
   "name": "python3"
  },
  "language_info": {
   "codemirror_mode": {
    "name": "ipython",
    "version": 3
   },
   "file_extension": ".py",
   "mimetype": "text/x-python",
   "name": "python",
   "nbconvert_exporter": "python",
   "pygments_lexer": "ipython3",
   "version": "3.7.0"
  }
 },
 "nbformat": 4,
 "nbformat_minor": 2
}
