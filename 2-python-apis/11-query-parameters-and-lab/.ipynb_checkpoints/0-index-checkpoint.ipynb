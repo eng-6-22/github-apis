{
 "cells": [
  {
   "cell_type": "markdown",
   "metadata": {},
   "source": [
    "# APIs with Query Parameters Lab"
   ]
  },
  {
   "cell_type": "markdown",
   "metadata": {},
   "source": [
    "### Working with NYC Open Data\n",
    "\n",
    "In this lab, we'll become practice working with APIs with some of the data provided by NYC open data."
   ]
  },
  {
   "cell_type": "markdown",
   "metadata": {},
   "source": [
    "<img src=\"https://github.com/jigsawlabs/curriculum-assets/blob/master/introduction-to-apis/10-query-parameters-and-lab/nyc-data-sets.png?raw=true\" width=\"60%\"/>"
   ]
  },
  {
   "cell_type": "markdown",
   "metadata": {},
   "source": [
    "Just [click here](https://opendata.cityofnewyork.us/data/) to reach the API.  There you will find datasets on anything from food carts in NYC, to NYC public school testing.  The one that we are looking for is NYC restaurant inspections, [found here](https://data.cityofnewyork.us/Health/DOHMH-New-York-City-Restaurant-Inspection-Results/43nn-pn8j).  Once you click there, you click on the button that says API to the right, and then onto API Docs (next to developer portal), you will find what we are looking for."
   ]
  },
  {
   "cell_type": "markdown",
   "metadata": {},
   "source": [
    "<img src=\"https://github.com/jigsawlabs/curriculum-assets/blob/master/introduction-to-apis/10-query-parameters-and-lab/nyc-restaurant-api.png?raw=true\" >"
   ]
  },
  {
   "cell_type": "markdown",
   "metadata": {},
   "source": [
    "Or you can just [click here](https://dev.socrata.com/foundry/data.cityofnewyork.us/9w7m-hzhe).  Now scroll down until you reach the Getting Started section."
   ]
  },
  {
   "cell_type": "markdown",
   "metadata": {},
   "source": [
    "<img src=\"https://github.com/jigsawlabs/curriculum-assets/blob/master/introduction-to-apis/10-query-parameters-and-lab/getting-started.png?raw=true\" width=\"40%\"/>"
   ]
  },
  {
   "cell_type": "markdown",
   "metadata": {},
   "source": [
    "In the documentation, you may see the word API endpoint.  API endpoint is just another word for url.  You can click on that URL to hit the API with your web browser."
   ]
  },
  {
   "cell_type": "markdown",
   "metadata": {},
   "source": [
    "If you did so, you may notice quite a long list of restaurants.  Let's try to avoid that by using query parameters to scope down our results.  If you scroll down in the documentation, you'll find a section called `Fields`, and then you'll see a number of blue bars that we can click on.  Let's click on the one that says `cuisine description`, so that we can see how to filter our results to only include American food."
   ]
  },
  {
   "cell_type": "markdown",
   "metadata": {},
   "source": [
    "<img src=\"https://github.com/jigsawlabs/curriculum-assets/blob/master/introduction-to-apis/10-query-parameters-and-lab/cuisine-description.png?raw=true\" >"
   ]
  },
  {
   "cell_type": "markdown",
   "metadata": {},
   "source": [
    "That URL is what we are looking for, it filters the results appropriately using query parameters.  Notice our old pattern.\n",
    "\n",
    "We have the regular url.  Then the `?` kicks off the query parameters.  Then we have the `field=value` pattern of `cuisine_description=Caribbean`.  (Note that if the Carribean is not capitalized, the query will not work.)"
   ]
  }
 ],
 "metadata": {
  "kernelspec": {
   "display_name": "Python 3",
   "language": "python",
   "name": "python3"
  },
  "language_info": {
   "codemirror_mode": {
    "name": "ipython",
    "version": 3
   },
   "file_extension": ".py",
   "mimetype": "text/x-python",
   "name": "python",
   "nbconvert_exporter": "python",
   "pygments_lexer": "ipython3",
   "version": "3.7.0"
  }
 },
 "nbformat": 4,
 "nbformat_minor": 2
}
