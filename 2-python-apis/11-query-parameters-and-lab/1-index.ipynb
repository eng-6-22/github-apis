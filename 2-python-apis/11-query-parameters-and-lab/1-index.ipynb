{
 "cells": [
  {
   "cell_type": "markdown",
   "metadata": {},
   "source": [
    "### Combining Query Parameters\n",
    "\n",
    "Now, let's say if we want to see if American restaurants with violations that are in the zipcode 10001.  Well looking at [the documentation](https://dev.socrata.com/foundry/data.cityofnewyork.us/9w7m-hzhe), we should be to specify `zipcode=10001` to only see the first two Carribean restaurants.  How do we use more than one query parameter simultaneously?\n",
    "\n",
    "Everything is the same except that we separate the `field=value` pairs with a `&`. \n",
    "\n",
    "[`\"https://data.cityofnewyork.us/resource/9w7m-hzhe.json?cuisine_description=American&zipcode=10001\"`](https://data.cityofnewyork.us/resource/9w7m-hzhe.json?cuisine_description=American&zipcode=10001)\n",
    "\n",
    "If you'll click on the link above, you'll see data scoped down to those values.\n",
    "\n",
    "The main take away from query parameters is the following:\n",
    "\n",
    "1. Query parameters begin with a `?`\n",
    "2. To combine query parameters separate each `field=value` pair with a `&`\n",
    "3. We can generally combine many query parameters together\n",
    "\n",
    "### Limiting Values\n",
    "\n",
    "Now in many APIs we can limit the number of values that we can return.  This is simply with another query parameter.  You can find the the information on limiting data, by clicking on the link `paging through data`, or [clicking here](https://dev.socrata.com/docs/paging.html#2.1).\n",
    "\n",
    "As it says, we simply limit the number of results with the field `$limit` and a value indicating the number of results to limit to.  So if we only want to see the first 3 results, we use the query parameter, `$limit=3`.\n",
    "\n",
    "### Time for Python\n",
    "\n",
    "Ok, now it's time to make the request with Python.  \n",
    "\n",
    "In Python, write out the code to reach the url listed above, `\"https://data.cityofnewyork.us/resource/9w7m-hzhe.json\"` but limit the number of results to just one result.\n",
    "\n",
    "Next, make a request to look for restaurants in the zipcode 10001, that are Italian restaurants, and limit it to just three results.\n",
    "\n",
    "Finally, make a request to the API to find the three Italian restaurants in zipcode 10001 that received a grade of A for their health code."
   ]
  },
  {
   "cell_type": "markdown",
   "metadata": {},
   "source": [
    "### Summary"
   ]
  },
  {
   "cell_type": "markdown",
   "metadata": {},
   "source": [
    "Great job! In this lesson, we saw how to use query parameters to filter down the amount of information from an API.  Even more importantly, we spent some time seeing how we can read documentation online to solve our problems."
   ]
  }
 ],
 "metadata": {
  "kernelspec": {
   "display_name": "Python 3",
   "language": "python",
   "name": "python3"
  },
  "language_info": {
   "codemirror_mode": {
    "name": "ipython",
    "version": 3
   },
   "file_extension": ".py",
   "mimetype": "text/x-python",
   "name": "python",
   "nbconvert_exporter": "python",
   "pygments_lexer": "ipython3",
   "version": "3.7.4"
  }
 },
 "nbformat": 4,
 "nbformat_minor": 4
}
