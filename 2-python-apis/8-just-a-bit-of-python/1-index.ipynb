{
 "cells": [
  {
   "cell_type": "markdown",
   "metadata": {},
   "source": [
    "# Just a bit of Python"
   ]
  },
  {
   "cell_type": "markdown",
   "metadata": {},
   "source": [
    "### Introduction"
   ]
  },
  {
   "cell_type": "markdown",
   "metadata": {},
   "source": [
    "So far we have learned more about how the Internet works.  That is, we learned how the browser makes a  **request** and receives a **response** from another computer connected to the Internet.  When requesting information (as opposed to changing information), we generally make a `GET` request from a URL's `resource`.  When requesting information from an API, we are generally returned a JSON so that programming languages like Python can interact with them.\n",
    "\n",
    "Ok, so next we'd like to call our APIs with Python. But before we do that, need to learn how to write a little code.  In this lesson, we'll learn our first bit of Python."
   ]
  },
  {
   "cell_type": "markdown",
   "metadata": {},
   "source": [
    "### Sliding into Python"
   ]
  },
  {
   "cell_type": "markdown",
   "metadata": {},
   "source": [
    "Ok, so the first thing to know is that we can't write code in any document, like a Word document or an email, but we can here.  Right now, we are working inside of a Jupyter Notebook.  A Jupyter Notebook is a tool that data scientists to write both text and write code in the same place. "
   ]
  },
  {
   "cell_type": "markdown",
   "metadata": {},
   "source": [
    "So far we have just seen text."
   ]
  },
  {
   "cell_type": "markdown",
   "metadata": {},
   "source": [
    "But here is some code."
   ]
  },
  {
   "cell_type": "code",
   "execution_count": 2,
   "metadata": {},
   "outputs": [
    {
     "data": {
      "text/plain": [
       "2"
      ]
     },
     "execution_count": 2,
     "metadata": {},
     "output_type": "execute_result"
    }
   ],
   "source": [
    "1 + 1"
   ]
  }
 ],
 "metadata": {
  "kernelspec": {
   "display_name": "Python 3",
   "language": "python",
   "name": "python3"
  },
  "language_info": {
   "codemirror_mode": {
    "name": "ipython",
    "version": 3
   },
   "file_extension": ".py",
   "mimetype": "text/x-python",
   "name": "python",
   "nbconvert_exporter": "python",
   "pygments_lexer": "ipython3",
   "version": "3.7.4"
  }
 },
 "nbformat": 4,
 "nbformat_minor": 4
}
