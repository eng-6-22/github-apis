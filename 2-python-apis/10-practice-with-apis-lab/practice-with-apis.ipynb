{
 "cells": [
  {
   "cell_type": "markdown",
   "metadata": {},
   "source": [
    "# Practice with APIs"
   ]
  },
  {
   "cell_type": "markdown",
   "metadata": {},
   "source": [
    "In the last lesson, we saw how we can gather information about books by using APIs.  In this lesson, we'll you our new found Python skills to use Apple's Itunes API.  That's right, we're going for it."
   ]
  },
  {
   "cell_type": "markdown",
   "metadata": {},
   "source": [
    "### Some tips before we start"
   ]
  },
  {
   "cell_type": "markdown",
   "metadata": {},
   "source": [
    "This may be your first time writing code on your own, and it's understandable if you're feeling a little queasy about the feeling. Here are couple things for you to remember.\n",
    "\n",
    "1. Don't try to solve it all at once.  Instead say or write down the first task you need to do, then try to think of the code to do it.\n",
    "2. Once you know what you have to do, if you forget how to code it in Python, [ask Google](https://www.google.com/search?q=how+to+make+a+request+in+python&oq=how+to+make+a+request+in+python&aqs=chrome..69i57j0l5.7493j0j7&sourceid=chrome&ie=UTF-8).\n",
    "3. Try a lot of wrong things.  It's just code. If you break something, it's just digital.  Try to understand to see what went wrong, (and ask Google if you don't understand it) and try again.\n",
    "\n"
   ]
  },
  {
   "cell_type": "markdown",
   "metadata": {},
   "source": [
    "### Learning more about Prince"
   ]
  },
  {
   "cell_type": "markdown",
   "metadata": {},
   "source": [
    "Let's use the Apple API to find out more information about Prince. Because we are asking for information, and not changing say adding a new artist to Itunes, we need to make a GET request with Python to the following URL: \n",
    "\n",
    "`\"https://itunes.apple.com/search?term=prince\"`\n",
    "\n",
    "And to do that we need to use the `requests` module.  Go ahead and write the code to allow us to use the requests module in this document.  Give it a shot in the gray cell below."
   ]
  },
  {
   "cell_type": "code",
   "execution_count": null,
   "metadata": {},
   "outputs": [],
   "source": []
  },
  {
   "cell_type": "markdown",
   "metadata": {},
   "source": [
    "> Remember, we need to press `shift` and `enter` simultaneously to execute our code."
   ]
  },
  {
   "cell_type": "markdown",
   "metadata": {},
   "source": [
    "Next, make a `GET` request to the URL we specified above.  "
   ]
  },
  {
   "cell_type": "code",
   "execution_count": 9,
   "metadata": {},
   "outputs": [],
   "source": []
  },
  {
   "cell_type": "markdown",
   "metadata": {},
   "source": [
    "> Remember, we need to press shift and enter simultaneously to execute our code."
   ]
  },
  {
   "cell_type": "markdown",
   "metadata": {},
   "source": [
    "Also, remember that that we'll need to capture the response in a variable.  So, if needed, modify the code above to do so.  Let's call that variable `response`."
   ]
  },
  {
   "cell_type": "markdown",
   "metadata": {},
   "source": [
    "Finally, use that variable to access the JSON.  (Scroll to very bottom, when you are done.)"
   ]
  },
  {
   "cell_type": "code",
   "execution_count": null,
   "metadata": {},
   "outputs": [],
   "source": []
  },
  {
   "cell_type": "markdown",
   "metadata": {},
   "source": [
    "### Summary \n",
    "\n",
    "Great job - this was not such a simple introduction to code.  If you were able to do this successfully.  *Take a break, and then **try to perform these steps again, this time without any guidance**.*  \n",
    "\n",
    "The goal when coding, isn't to try to memorize anything.  There's way too much room for mistakes if we aren't constantly trying to make sense of what we are writing.  So instead, write out (or explain) to yourself what you need to do first, and then write out the corresponding code.  Then explain to yourself what you need to do second.  \n",
    "\n",
    "Then, **as a bonus**, take a look at [the documentation](https://affiliate.itunes.apple.com/resources/documentation/itunes-store-web-service-search-api/#searchexamples) that Apple provides on the API, and try some of the examples provided there, using the same pattern that we went through above."
   ]
  }
 ],
 "metadata": {
  "kernelspec": {
   "display_name": "Python 3",
   "language": "python",
   "name": "python3"
  },
  "language_info": {
   "codemirror_mode": {
    "name": "ipython",
    "version": 3
   },
   "file_extension": ".py",
   "mimetype": "text/x-python",
   "name": "python",
   "nbconvert_exporter": "python",
   "pygments_lexer": "ipython3",
   "version": "3.7.4"
  }
 },
 "nbformat": 4,
 "nbformat_minor": 4
}
