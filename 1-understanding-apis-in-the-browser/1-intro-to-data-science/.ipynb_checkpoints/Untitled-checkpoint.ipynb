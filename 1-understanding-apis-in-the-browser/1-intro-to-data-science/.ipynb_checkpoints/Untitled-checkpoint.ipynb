{
 "cells": [
  {
   "cell_type": "markdown",
   "metadata": {},
   "source": [
    "### The data scientist approach to the Internet"
   ]
  },
  {
   "cell_type": "markdown",
   "metadata": {},
   "source": [
    "One of the main reasons behind the growth in data scientists in recent years is simply the amount of digital data."
   ]
  },
  {
   "cell_type": "markdown",
   "metadata": {},
   "source": [
    "<img src=\"https://github.com/jigsawlabs/curriculum-assets/blob/master/introduction-to-apis/1-introduction-to-data-science/data-amount.png?raw=true\" width=\"70%\"/>"
   ]
  },
  {
   "cell_type": "markdown",
   "metadata": {},
   "source": [
    "Now one of the skills that data scientists must have in this world of data, is how to access this data quickly online."
   ]
  },
  {
   "cell_type": "markdown",
   "metadata": {},
   "source": [
    "Lucky for us there, are web pages out there whose sole purpose is to give us access to data.  And these websites are owned and run by some of the largest tech companies. "
   ]
  },
  {
   "cell_type": "markdown",
   "metadata": {},
   "source": [
    "### Getting web based data"
   ]
  },
  {
   "cell_type": "markdown",
   "metadata": {},
   "source": [
    "For example, Google runs a website whose sole job is to tell information about different books and authors."
   ]
  },
  {
   "cell_type": "markdown",
   "metadata": {},
   "source": [
    "For example, [click here.](https://www.googleapis.com/books/v1/volumes?q=tom%20sawyer)  This website tells us information about the book Tom Sawyer."
   ]
  },
  {
   "cell_type": "markdown",
   "metadata": {},
   "source": [
    "And this site, of course,"
   ]
  },
  {
   "cell_type": "markdown",
   "metadata": {},
   "source": [
    "[going here](https://developers.google.com/books/docs/v1/reference/volumes/list)"
   ]
  },
  {
   "cell_type": "code",
   "execution_count": null,
   "metadata": {},
   "outputs": [],
   "source": []
  }
 ],
 "metadata": {
  "kernelspec": {
   "display_name": "Python 3",
   "language": "python",
   "name": "python3"
  },
  "language_info": {
   "codemirror_mode": {
    "name": "ipython",
    "version": 3
   },
   "file_extension": ".py",
   "mimetype": "text/x-python",
   "name": "python",
   "nbconvert_exporter": "python",
   "pygments_lexer": "ipython3",
   "version": "3.7.0"
  }
 },
 "nbformat": 4,
 "nbformat_minor": 2
}
