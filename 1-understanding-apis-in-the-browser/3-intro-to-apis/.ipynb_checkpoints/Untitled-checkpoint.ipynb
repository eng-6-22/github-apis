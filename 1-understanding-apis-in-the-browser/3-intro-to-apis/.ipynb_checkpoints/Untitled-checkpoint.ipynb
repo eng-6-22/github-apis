{
 "cells": [
  {
   "cell_type": "markdown",
   "metadata": {},
   "source": [
    "### Welcome to APIs \n",
    "\n",
    "What we just did was access information from an API, and that is preferred way that we can get public data on the web.  An API is just a service that we can ask for information, like we did with our code above, and the service gives us back some data.  Don't worry if that's not exactly clear -- we'll talk a lot about APIs later.\n",
    "\n",
    "The important point is that with just a few keystrokes we can write some code that asks for information, and that information is sent back to us to analyze.\n",
    "\n",
    "The other important point is that there are a lot of APIs available to us, and we can ask any of them for information.  For example, if we would like to get back information about a restaurants near us. Well we can ask the website Foursquare for this information.  And that is also eight words.  And almost all of those words are the same as before."
   ]
  },
  {
   "cell_type": "code",
   "execution_count": null,
   "metadata": {},
   "outputs": [],
   "source": []
  }
 ],
 "metadata": {
  "kernelspec": {
   "display_name": "Python 3",
   "language": "python",
   "name": "python3"
  },
  "language_info": {
   "codemirror_mode": {
    "name": "ipython",
    "version": 3
   },
   "file_extension": ".py",
   "mimetype": "text/x-python",
   "name": "python",
   "nbconvert_exporter": "python",
   "pygments_lexer": "ipython3",
   "version": "3.7.0"
  }
 },
 "nbformat": 4,
 "nbformat_minor": 2
}
