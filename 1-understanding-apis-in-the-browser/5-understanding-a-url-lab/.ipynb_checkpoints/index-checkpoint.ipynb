{
 "cells": [
  {
   "cell_type": "markdown",
   "metadata": {},
   "source": [
    "# Exploring API URLs Lab"
   ]
  },
  {
   "cell_type": "markdown",
   "metadata": {},
   "source": [
    "In this lab, we'll practice working with the Google books API and reading the documentation.  "
   ]
  },
  {
   "cell_type": "markdown",
   "metadata": {},
   "source": [
    "Begin by going to the [Google Books API](https://developers.google.com/books), and then click on `Guides` followed by `getting started`. "
   ]
  },
  {
   "cell_type": "markdown",
   "metadata": {},
   "source": [
    "### Getting an Overview"
   ]
  },
  {
   "cell_type": "markdown",
   "metadata": {},
   "source": [
    "* One good way to get an overview of what's available in an API, is to look at some of the examples.  Scroll down to the section that says `Rest`, and read that section, including `Rest in the Books API`.  "
   ]
  },
  {
   "cell_type": "markdown",
   "metadata": {},
   "source": [
    "### Using the API"
   ]
  },
  {
   "cell_type": "markdown",
   "metadata": {},
   "source": [
    "1. Ok, now work with the API, starting by passing through a search term to the API.  \n",
    "\n",
    "2. From there see, if you can identify the book Id.  Then make a search for a specific book using the id."
   ]
  },
  {
   "cell_type": "markdown",
   "metadata": {},
   "source": [
    "### Using Query Parameters"
   ]
  },
  {
   "cell_type": "markdown",
   "metadata": {},
   "source": [
    "Next, we want to begin to use more capabilities of the books API.  Click on the navigation button that says `Reference`.  Notice that over to the left, is documentation organized by each resource: bookshelf, and volume.\n",
    "\n",
    "Use the documentation to make a request to find `cooking` books ordered by the most recently published books."
   ]
  }
 ],
 "metadata": {
  "kernelspec": {
   "display_name": "Python 3 (ipykernel)",
   "language": "python",
   "name": "python3"
  },
  "language_info": {
   "codemirror_mode": {
    "name": "ipython",
    "version": 3
   },
   "file_extension": ".py",
   "mimetype": "text/x-python",
   "name": "python",
   "nbconvert_exporter": "python",
   "pygments_lexer": "ipython3",
   "version": "3.9.10"
  }
 },
 "nbformat": 4,
 "nbformat_minor": 4
}
