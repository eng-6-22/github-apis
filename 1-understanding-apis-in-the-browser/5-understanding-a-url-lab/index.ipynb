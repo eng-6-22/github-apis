{
 "cells": [
  {
   "cell_type": "markdown",
   "metadata": {},
   "source": [
    "# Exploring API URLs Lab"
   ]
  },
  {
   "cell_type": "markdown",
   "metadata": {},
   "source": [
    "<img src=\"https://storage.googleapis.com/curriculum-assets/curriculum-assets.nosync/introduction-to-apis/4-understanding-a-url-lab/unsplash.png\" width=\"60%\">"
   ]
  },
  {
   "cell_type": "markdown",
   "metadata": {},
   "source": [
    "Unsplash is a website that offers high resolution photos.  And luck for us, they have an [API](https://source.unsplash.com/). "
   ]
  },
  {
   "cell_type": "markdown",
   "metadata": {},
   "source": [
    "Go to the [API](https://source.unsplash.com/) and look through the Unsplash API. Then, work through the following."
   ]
  },
  {
   "cell_type": "markdown",
   "metadata": {},
   "source": [
    "### Getting an Overview"
   ]
  },
  {
   "cell_type": "markdown",
   "metadata": {},
   "source": [
    "* One good way to get an overview of what's available in an API, is to identify the different resources of that API.  What are the resources in the Unsplash API?"
   ]
  },
  {
   "cell_type": "markdown",
   "metadata": {},
   "source": [
    "### Using the API"
   ]
  },
  {
   "cell_type": "markdown",
   "metadata": {},
   "source": [
    "1. Ok, now work with the API, starting by passing through a search term to the API.  \n",
    "\n",
    "2. From there see, if you can identify the photo Id.  Hint: it's somewhere in the URL of the photo displayed."
   ]
  },
  {
   "cell_type": "markdown",
   "metadata": {},
   "source": [
    "### Improving the API"
   ]
  },
  {
   "cell_type": "markdown",
   "metadata": {},
   "source": [
    "1. If you developed the API, what are some URLs you would change to make the API easier to use, and better follow RESTFul patterns?\n",
    "\n",
    "2. Identify the query parameters in the API?  How does this differ from the structure of the query parameters that we saw with ESPN and the Google Books API?  How is it similar?\n",
    "\n",
    "> You can reference the Google Books API [here](https://developers.google.com/books/docs/v1/reference/volumes/list)."
   ]
  }
 ],
 "metadata": {
  "kernelspec": {
   "display_name": "Python 3",
   "language": "python",
   "name": "python3"
  },
  "language_info": {
   "codemirror_mode": {
    "name": "ipython",
    "version": 3
   },
   "file_extension": ".py",
   "mimetype": "text/x-python",
   "name": "python",
   "nbconvert_exporter": "python",
   "pygments_lexer": "ipython3",
   "version": "3.7.0"
  }
 },
 "nbformat": 4,
 "nbformat_minor": 2
}
