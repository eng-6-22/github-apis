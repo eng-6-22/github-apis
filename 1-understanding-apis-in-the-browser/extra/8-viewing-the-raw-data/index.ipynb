{
 "cells": [
  {
   "cell_type": "markdown",
   "metadata": {},
   "source": [
    "# Viewing the raw data"
   ]
  },
  {
   "cell_type": "markdown",
   "metadata": {},
   "source": [
    "We know that a request is something sent by our computer to a website.  To request different kinds of information, we change the URL with names that specify what kind of information we would like back.  After making this request to a website or web service, the website sends us back some information.  In this lesson we'll dig in just a little deeper about requests, and also the data sent back in the response.  After this lesson, we'll learn some Python and start writing code to make our own customized requests and receive back responses."
   ]
  },
  {
   "cell_type": "markdown",
   "metadata": {},
   "source": [
    "## Understanding Responses"
   ]
  },
  {
   "cell_type": "markdown",
   "metadata": {},
   "source": [
    "#### Viewing the response"
   ]
  },
  {
   "cell_type": "markdown",
   "metadata": {},
   "source": [
    "So we know that when we type in a url to a web browser, our request finds it's way to a file in a computer, and that computer sends back a response.  Now we'll learn how to peak under the hood and see what that response looks like.  "
   ]
  },
  {
   "cell_type": "markdown",
   "metadata": {},
   "source": [
    "When we go to a URL like `www.espn.com` it may seem like what we get back are a bunch background colors and evenly spaced content, but really all we get back is text.  The text that is sent back is HTML, which stands for Hypertext Markup Language.  We can see this text if we open our web inspector.  Let's do it."
   ]
  },
  {
   "cell_type": "markdown",
   "metadata": {},
   "source": [
    "> We'll walk you through how to see HTML using Google Chrome.  If you do not have Google Chrome, you can [download it here](https://www.google.com/chrome/).  This is the only lesson that will rely on using Chrome."
   ]
  },
  {
   "cell_type": "markdown",
   "metadata": {},
   "source": [
    "Once you are using Google Chrome, you can get to the web inspector by right clicking (or two finger clicking on a Mac) while on any website, and the moving down the dropdown until you reach `inspect`.  Click on inspect and under the `elements` tab you will find displayed HTML.  HTML text which declares the content we see on a webpage.  As you click your cursor on different HTML in your web inspector, you will the corresponding HTML highlight."
   ]
  },
  {
   "cell_type": "markdown",
   "metadata": {},
   "source": [
    "<img src=\"https://github.com/jigsawlabs/curriculum-assets/blob/master/introduction-to-apis/5-viewing-the-raw-data/web-inspector-1.gif?raw=true\" width=\"70%\" />"
   ]
  },
  {
   "cell_type": "markdown",
   "metadata": {},
   "source": [
    "Right now, we don't need to understand the details of HTML.  Instead it is enough to know that when our computer visits a website, we receive back text.  Then a browser like Google Chrome knows how to translate this HTML text into the organized webpage we see.  "
   ]
  },
  {
   "cell_type": "markdown",
   "metadata": {},
   "source": [
    "## Understanding Requests"
   ]
  },
  {
   "cell_type": "markdown",
   "metadata": {},
   "source": [
    "#### Viewing the request"
   ]
  },
  {
   "cell_type": "markdown",
   "metadata": {},
   "source": [
    "Just like seeing the response, we can also view **the request** with use of the web inspector.  It's a little complicated so we show and then describe how to do this below.  Take a look at the video first to get a general idea."
   ]
  },
  {
   "cell_type": "markdown",
   "metadata": {},
   "source": [
    "<img src=\"https://github.com/jigsawlabs/curriculum-assets/blob/master/introduction-to-apis/5-viewing-the-raw-data/web-request-with-inspector.gif?raw=true\" />"
   ]
  },
  {
   "cell_type": "markdown",
   "metadata": {},
   "source": [
    "> 1. First, right click (or two finger click on a Mac) on the web page, and select `Inspect`.  \n",
    "> 2. At the top of the web inspector panel, you'll see a tab that says `Network`, click on that.  This shows the requests that we made to the website.  But it didn't capture the request we initially made to `espn.com` because it was unopened.  \n",
    "> 3. So now with the web inspector open, refresh the page by highlighting the URL and pressing enter (or just try the shortcut CMD+R).  You will see a long line of requests pop up.  \n",
    "> 4. Scroll to the very top of them and the first or second one down will be a request to `www.espn.com`.  \n",
    "> 5. Click on that, and then click on `Headers`."
   ]
  },
  {
   "cell_type": "markdown",
   "metadata": {},
   "source": [
    "If you find the request to `www.espn.com` and when clicking on it, see the pane below, congrats! You made it.  If you can't, no biggie, just look at the image below."
   ]
  },
  {
   "cell_type": "markdown",
   "metadata": {},
   "source": [
    "<img src=\"https://github.com/jigsawlabs/curriculum-assets/blob/master/introduction-to-apis/5-viewing-the-raw-data/request-info.png?raw=true\" width=\"50%\"/>"
   ]
  },
  {
   "cell_type": "markdown",
   "metadata": {},
   "source": [
    "#### The different kinds of requests"
   ]
  },
  {
   "cell_type": "markdown",
   "metadata": {},
   "source": [
    "Notice that in the lower right hand page it says the `Request Method` is GET.  What does that mean?\n",
    "\n",
    "Well, on the web, there are two different types of requests we can make.  A GET request or a POST request.  A GET request is when we are just *asking* for different information, like we have been so far.  What is information about a book, or a song?  These are each get requests.\n",
    "\n",
    "A POST request is when we want to change information on the website -- this happens if we update our user profile information or send out a tweet.  The corresponding website's information will be changed as it stores this tweet in it's database.  However, if we ask for information, there is nothing new to store, just information to receive back."
   ]
  },
  {
   "cell_type": "markdown",
   "metadata": {},
   "source": [
    "## Summary"
   ]
  },
  {
   "cell_type": "markdown",
   "metadata": {},
   "source": [
    "In this lesson, we learned about the request response cycle.  When using the Internet, we *request* information from a website by typing in a specific url (or web address), and this request makes it's way to a computer connected on the Internet that sends back text.\n",
    "\n",
    "Now, normally we get that text back in the form of HTML, like when we visit `www.espn.com`.  And our browser can understand the HTML and use it to display a website.  "
   ]
  }
 ],
 "metadata": {
  "kernelspec": {
   "display_name": "Python 3",
   "language": "python",
   "name": "python3"
  },
  "language_info": {
   "codemirror_mode": {
    "name": "ipython",
    "version": 3
   },
   "file_extension": ".py",
   "mimetype": "text/x-python",
   "name": "python",
   "nbconvert_exporter": "python",
   "pygments_lexer": "ipython3",
   "version": "3.7.0"
  }
 },
 "nbformat": 4,
 "nbformat_minor": 2
}
