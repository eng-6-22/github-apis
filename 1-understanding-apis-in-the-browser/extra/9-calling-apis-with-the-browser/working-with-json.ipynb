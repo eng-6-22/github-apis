{
 "cells": [
  {
   "cell_type": "markdown",
   "metadata": {},
   "source": [
    "# Calling APIs with our browser"
   ]
  },
  {
   "cell_type": "markdown",
   "metadata": {},
   "source": [
    "### Introduction"
   ]
  },
  {
   "cell_type": "markdown",
   "metadata": {},
   "source": [
    "In the last lesson we learned some of the details of a request and a response.  We saw that there are two types of requests, GET requests which ask for information, and POST requests which create new information like when we fill out a form.  We saw that when we visit a website, this response generally comes in the form of HTML, and our browser translates this HTML into the colors and fonts that you see on the page.  Well, in this lesson we'll see a different type of data that a website can send back in a response, JSON.  And we'll see how we call websites that send back responses in this form Web APIs, which are quite useful to us as data scientists."
   ]
  },
  {
   "cell_type": "markdown",
   "metadata": {},
   "source": [
    "### Requests and Responses with JSON"
   ]
  },
  {
   "cell_type": "markdown",
   "metadata": {},
   "source": [
    "Now when we go to a website, we don't *have* to get back HTML. HTML is great for properly displaying a website, but it's not an easy way for programmers or data scientists to collect information.  When websites are designed for computer programmers and data scientists to use, these websites generally don't send back HTML, they send back JSON. \n",
    "\n",
    "> JSON stands for Javascript Object Notation.  But that's not really important.  What is important is that to people who know how to programming languages like Python, getting information back in this format will make things a lot easier for us."
   ]
  },
  {
   "cell_type": "markdown",
   "metadata": {},
   "source": [
    "[click here](https://www.googleapis.com/books/v1/volumes?q=Tom%20Sawyer)"
   ]
  },
  {
   "cell_type": "markdown",
   "metadata": {},
   "source": [
    "<img src=\"https://github.com/jigsawlabs/curriculum-assets/blob/master/introduction-to-apis/6-calling-apis-with-the-browser/api-screenshot.png?raw=true\" width=\"40%\">"
   ]
  },
  {
   "cell_type": "markdown",
   "metadata": {},
   "source": [
    "That right there is JSON.  And congratulations! If you clicked on the link above, you just made a request and received back a response from an API.  "
   ]
  },
  {
   "cell_type": "markdown",
   "metadata": {},
   "source": [
    "### A little more about APIs"
   ]
  },
  {
   "cell_type": "markdown",
   "metadata": {},
   "source": [
    "Now, how does clicking [this link](https://www.googleapis.com/books/v1/volumes?q=Tom%20Sawyer) mean that we are using an API.  Well, remember that an API just stands for an application programming interface.  The important word there is *interface*.  And that interface is simply the URL.  So when we clicked the link above, we made a GET request to the following url.\n",
    "\n",
    "`https://www.googleapis.com/books/v1/volumes?q=Tom%20Sawyer`"
   ]
  },
  {
   "cell_type": "markdown",
   "metadata": {},
   "source": [
    "and thus we used the API. Because the interface is just the URL, understanding the pattern behind that URL is key understanding the how to use the Google books application.  Lucky for us, we have already received some training on that topic.\n",
    "\n",
    "As we have seen, one of the key parts of working with the Google Books API is changing the part of the url after the `?` .  We can place whatever title we want, and Google will send us back data about the corresponding book.  \n",
    "\n",
    "Let's try searching for information on \"Harry Potter and the Chamber of Secrets\"."
   ]
  },
  {
   "cell_type": "markdown",
   "metadata": {},
   "source": [
    "![](https://github.com/jigsawlabs/curriculum-assets/blob/master/introduction-to-apis/6-calling-apis-with-the-browser/harry-potter-books-api.gif?raw=true)"
   ]
  },
  {
   "cell_type": "markdown",
   "metadata": {},
   "source": [
    "Ok, so now we might be able to understand what APIs a little more deeply. API stands for application programming interface.\n",
    "\n",
    "* **the application** is a website -- also called a web service or a web application \n",
    "* **the interface** to that website are different URLs that we send.  \n",
    "* Then the web service *responds* with that information, typically not with HTML but with JSON, which is the ideal form of data for **programming**."
   ]
  },
  {
   "cell_type": "markdown",
   "metadata": {},
   "source": [
    "### Summary"
   ]
  },
  {
   "cell_type": "markdown",
   "metadata": {},
   "source": [
    "In this lesson, we learned about the request response cycle with APIs.  An API  an application programming interface, where the application is a website that sends back JSON (that squiggly stuff above), and the interface to use that website are the various URLs we can type in to get back data.  An API also adheres to the request response cycle (it's just a website), so we request information from the API by typing in a URL and the response is the data in the form of JSON that we get back.       "
   ]
  }
 ],
 "metadata": {
  "kernelspec": {
   "display_name": "Python 3",
   "language": "python",
   "name": "python3"
  },
  "language_info": {
   "codemirror_mode": {
    "name": "ipython",
    "version": 3
   },
   "file_extension": ".py",
   "mimetype": "text/x-python",
   "name": "python",
   "nbconvert_exporter": "python",
   "pygments_lexer": "ipython3",
   "version": "3.7.0"
  }
 },
 "nbformat": 4,
 "nbformat_minor": 2
}
