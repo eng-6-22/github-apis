{
 "cells": [
  {
   "cell_type": "markdown",
   "metadata": {},
   "source": [
    "# I. What's data science?"
   ]
  },
  {
   "cell_type": "markdown",
   "metadata": {},
   "source": [
    "<img src=\"https://github.com/jigsawlabs/curriculum-assets/blob/master/introduction-to-apis/1-introduction-to-data-science/ds-venn.png?raw=true\" width=\"100%\">\n"
   ]
  },
  {
   "cell_type": "markdown",
   "metadata": {},
   "source": [
    "<img src=\"https://github.com/jigsawlabs/curriculum-assets/blob/master/introduction-to-apis/1-introduction-to-data-science/birth-month-and-disease.jpg?raw=true\" width=\"100%\"/>"
   ]
  },
  {
   "cell_type": "markdown",
   "metadata": {},
   "source": [
    "# II. Data Science Demand"
   ]
  },
  {
   "cell_type": "markdown",
   "metadata": {},
   "source": [
    "<img src=\"https://github.com/jigsawlabs/curriculum-assets/blob/master/introduction-to-apis/1-introduction-to-data-science/data-amount.png?raw=true\" width=\"100%\"/>"
   ]
  },
  {
   "cell_type": "markdown",
   "metadata": {},
   "source": [
    "### Job Postings"
   ]
  },
  {
   "cell_type": "markdown",
   "metadata": {},
   "source": [
    "<img src=\"https://github.com/jigsawlabs/curriculum-assets/blob/master/introduction-to-apis/1-introduction-to-data-science/data-science-job-numbers.png?raw=true\" width=\"100%\"/>"
   ]
  },
  {
   "cell_type": "markdown",
   "metadata": {},
   "source": [
    "<img src=\"http://3mkm08kox71vtynw1b1wbtpab.wpengine.netdna-cdn.com/wp-content/uploads/2015/09/IHL_05_emerging_titles_salary_trends_2.png\" />"
   ]
  },
  {
   "cell_type": "markdown",
   "metadata": {},
   "source": [
    "### Resources"
   ]
  },
  {
   "cell_type": "markdown",
   "metadata": {},
   "source": [
    "[Indeed Data Science Hiring](https://www.hiringlab.org/2019/01/17/data-scientist-job-outlook/)\n",
    "\n",
    "[A hot job that pays well](https://www.hiringlab.org/2019/01/17/data-scientist-job-outlook/)\n",
    "\n",
    "[Beyond the global talent shortage](http://blog.indeed.com/hiring-lab/beyond-the-global-talent-shortage/)"
   ]
  }
 ],
 "metadata": {
  "kernelspec": {
   "display_name": "Python 3",
   "language": "python",
   "name": "python3"
  },
  "language_info": {
   "codemirror_mode": {
    "name": "ipython",
    "version": 3
   },
   "file_extension": ".py",
   "mimetype": "text/x-python",
   "name": "python",
   "nbconvert_exporter": "python",
   "pygments_lexer": "ipython3",
   "version": "3.7.0"
  }
 },
 "nbformat": 4,
 "nbformat_minor": 2
}
