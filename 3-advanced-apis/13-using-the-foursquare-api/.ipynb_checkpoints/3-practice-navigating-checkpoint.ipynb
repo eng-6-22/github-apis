{
 "cells": [
  {
   "cell_type": "markdown",
   "metadata": {},
   "source": [
    "# Exploring FourSquare Lab"
   ]
  },
  {
   "cell_type": "markdown",
   "metadata": {},
   "source": [
    "### Introduction"
   ]
  },
  {
   "cell_type": "markdown",
   "metadata": {},
   "source": [
    "Ok, so in the last lesson, we signed up for Foursquare's API.  The end result of this was collecting our `client id` and our `client secret` keys.  If you need to find them again, just google for Foursquare API, and login.  Then in the top right hand corner, hover over your profile name and click on My Apps."
   ]
  },
  {
   "cell_type": "markdown",
   "metadata": {},
   "source": [
    "But for now, let's put that aside.  Instead, click on the `Docs` link just to the left of your name. "
   ]
  },
  {
   "cell_type": "markdown",
   "metadata": {},
   "source": [
    "### Using the API"
   ]
  },
  {
   "cell_type": "markdown",
   "metadata": {},
   "source": [
    "Let's start by copying over the URL that Foursquare provided us in the documentation."
   ]
  },
  {
   "cell_type": "markdown",
   "metadata": {},
   "source": [
    "1. Write a function that constructs the search url."
   ]
  },
  {
   "cell_type": "code",
   "execution_count": 56,
   "metadata": {},
   "outputs": [],
   "source": [
    "def search_url():\n",
    "    url = f\"https://api.foursquare.com/v2/venues/search?{auth_url()}\"\n",
    "    return url"
   ]
  },
  {
   "cell_type": "code",
   "execution_count": 57,
   "metadata": {},
   "outputs": [
    {
     "data": {
      "text/plain": [
       "'https://api.foursquare.com/v2/venues/search?client_id=ALECV5CBBEHRRKTIQ5ZV143YEXOH3SBLAMU54SPHKGZI1ZKE&client_secret=3JX3NRGRS2P0KE0NSKPTMCOZOY4MWUU4M3G33BO4XTRJ15SM&v=20190407'"
      ]
     },
     "execution_count": 57,
     "metadata": {},
     "output_type": "execute_result"
    }
   ],
   "source": [
    "search_url()\n",
    "# 'https://api.foursquare.com/v2/venues/search?\n",
    "# client_id=ALECV5CBBEHRRKTIQ5ZV143YEXOH3SBLAMU54SPHKGZI1ZKE\n",
    "# &client_secret=3JX3NRGRS2P0KE0NSKPTMCOZOY4MWUU4M3G33BO4XTRJ15SM&v=20190407'"
   ]
  },
  {
   "cell_type": "markdown",
   "metadata": {},
   "source": [
    "2. Constructing an `auth_url` function"
   ]
  },
  {
   "cell_type": "markdown",
   "metadata": {},
   "source": [
    "Now we can think of the `search_url` as two components, the search component, and the authorization component.  Write a function, that just constructs the authorization portion of the `url`.  And it should take the `client_id`, `client_secret`, and `date` as arguments."
   ]
  },
  {
   "cell_type": "code",
   "execution_count": 59,
   "metadata": {},
   "outputs": [],
   "source": [
    "client_id = \"ALECV5CBBEHRRKTIQ5ZV143YEXOH3SBLAMU54SPHKGZI1ZKE\"\n",
    "client_secret = \"3JX3NRGRS2P0KE0NSKPTMCOZOY4MWUU4M3G33BO4XTRJ15SM\"\n",
    "date = \"20190407\"\n",
    "def auth_url(client_id, client_secret, date):\n",
    "    auth_url = f\"client_id={client_id}&client_secret={client_secret}&v={date}\"\n",
    "    return auth_url"
   ]
  },
  {
   "cell_type": "code",
   "execution_count": 61,
   "metadata": {},
   "outputs": [
    {
     "data": {
      "text/plain": [
       "'client_id=ALECV5CBBEHRRKTIQ5ZV143YEXOH3SBLAMU54SPHKGZI1ZKE&client_secret=3JX3NRGRS2P0KE0NSKPTMCOZOY4MWUU4M3G33BO4XTRJ15SM&v=20190407'"
      ]
     },
     "execution_count": 61,
     "metadata": {},
     "output_type": "execute_result"
    }
   ],
   "source": [
    "auth_url(client_id, client_secret, date)\n",
    "# 'client_id=ALECV5CBBEHRRKTIQ5ZV143YEXOH3SBLAMU54SPHKGZI1ZKE&client_secret=3JX3NRGRS2P0KE0NSKPTMCOZOY4MWUU4M3G33BO4XTRJ15SM&v=20190407'"
   ]
  },
  {
   "cell_type": "markdown",
   "metadata": {},
   "source": [
    "3. Updating `search_url`"
   ]
  },
  {
   "cell_type": "markdown",
   "metadata": {},
   "source": [
    "Now change the `search_url` so that it takes an argument of `auth` to construct the query."
   ]
  },
  {
   "cell_type": "code",
   "execution_count": 62,
   "metadata": {},
   "outputs": [],
   "source": [
    "def search_url(auth):\n",
    "    url = f\"https://api.foursquare.com/v2/venues/search?{auth}\"\n",
    "    return url"
   ]
  },
  {
   "cell_type": "code",
   "execution_count": 63,
   "metadata": {},
   "outputs": [
    {
     "data": {
      "text/plain": [
       "'https://api.foursquare.com/v2/venues/search?client_id=ALECV5CBBEHRRKTIQ5ZV143YEXOH3SBLAMU54SPHKGZI1ZKE&client_secret=3JX3NRGRS2P0KE0NSKPTMCOZOY4MWUU4M3G33BO4XTRJ15SM&v=20190407'"
      ]
     },
     "execution_count": 63,
     "metadata": {},
     "output_type": "execute_result"
    }
   ],
   "source": [
    "auth = auth_url(client_id, client_secret, date)\n",
    "search_url(auth)"
   ]
  },
  {
   "cell_type": "markdown",
   "metadata": {},
   "source": [
    "4. Querying Params"
   ]
  },
  {
   "cell_type": "code",
   "execution_count": 68,
   "metadata": {},
   "outputs": [
    {
     "data": {
      "text/plain": [
       "'&ll=40.7,-74&query=tacos'"
      ]
     },
     "execution_count": 68,
     "metadata": {},
     "output_type": "execute_result"
    }
   ],
   "source": [
    "def params_string(params):\n",
    "    params_string = f\"&ll={params['ll']}&query={params['query']}\" \n",
    "    return params_string\n",
    "\n",
    "\n",
    "params = {'ll': \"40.7,-74\", \"query\": \"tacos\"}\n",
    "params_string(params)\n",
    "# '&ll=40.7,-74&query=tacos'"
   ]
  },
  {
   "cell_type": "markdown",
   "metadata": {},
   "source": [
    "5. Constructing the full string"
   ]
  },
  {
   "cell_type": "code",
   "execution_count": 92,
   "metadata": {},
   "outputs": [],
   "source": [
    "import requests\n",
    "\n",
    "def query_venues_url(auth, params):\n",
    "    url = search_url(auth)\n",
    "    params = params_string(params)\n",
    "    return f\"{url}{params}\""
   ]
  },
  {
   "cell_type": "code",
   "execution_count": 93,
   "metadata": {},
   "outputs": [
    {
     "data": {
      "text/plain": [
       "'https://api.foursquare.com/v2/venues/search?client_id=ALECV5CBBEHRRKTIQ5ZV143YEXOH3SBLAMU54SPHKGZI1ZKE&client_secret=3JX3NRGRS2P0KE0NSKPTMCOZOY4MWUU4M3G33BO4XTRJ15SM&v=20190407&ll=40.7,-74&query=tacos'"
      ]
     },
     "execution_count": 93,
     "metadata": {},
     "output_type": "execute_result"
    }
   ],
   "source": [
    "query_venues_url(auth, params)\n",
    "# 'https://api.foursquare.com/v2/venues/search?\n",
    "# client_id=ALECV5CBBEHRRKTIQ5ZV143YEXOH3SBLAMU54SPHKGZI1ZKE&client_secret=3JX3NRGRS2P0KE0NSKPTMCOZOY4MWUU4M3G33BO4XTRJ15SM\n",
    "# &v=20190407&ll=40.7,-74&query=tacos'"
   ]
  },
  {
   "cell_type": "markdown",
   "metadata": {},
   "source": [
    "6. Querying the API"
   ]
  },
  {
   "cell_type": "code",
   "execution_count": 94,
   "metadata": {},
   "outputs": [],
   "source": [
    "import requests \n",
    "def query_api(auth, params):\n",
    "    url = query_venues_url(auth, params)\n",
    "    response = requests.get(url)\n",
    "    return response.json()"
   ]
  },
  {
   "cell_type": "code",
   "execution_count": 96,
   "metadata": {},
   "outputs": [],
   "source": [
    "# query_api(auth, params)\n",
    "# {'meta': {'code': 200, 'requestId': '5e3eea810de0d9001b875b66'},\n",
    "#  'response': {'venues': [{'id': '5b2932a0f5e9d70039787cf2',\n",
    "#     'name': 'Los Tacos Al Pastor',\n",
    "#     'location': {'address': '141 Front St',\n",
    "#      'lat': 40.70243624175102,\n",
    "#      'lng': -73.98753900608666,"
   ]
  },
  {
   "cell_type": "markdown",
   "metadata": {},
   "source": [
    "7. Query venues"
   ]
  },
  {
   "cell_type": "markdown",
   "metadata": {},
   "source": [
    "Now write a method that only returns a list of venues."
   ]
  },
  {
   "cell_type": "code",
   "execution_count": 97,
   "metadata": {},
   "outputs": [],
   "source": [
    "def venue_search(auth, params):\n",
    "    return query_api(auth, params)['response']['venues']"
   ]
  },
  {
   "cell_type": "code",
   "execution_count": 106,
   "metadata": {},
   "outputs": [],
   "source": [
    "venues = venue_search(auth, params)\n",
    "venue = venues[0]\n",
    "# venue\n",
    "\n",
    "# {'id': '5b2932a0f5e9d70039787cf2',\n",
    "#  'name': 'Los Tacos Al Pastor',\n",
    "#  'location': {'address': '141 Front St',\n",
    "#   'lat': 40.70243624175102,\n",
    "#   'lng': -73.98753900608666,\n",
    "#   'labeledLatLngs': [{'label': 'display',\n",
    "#     'lat': 40.70243624175102,\n",
    "#     'lng': -73.98753900608666}],"
   ]
  },
  {
   "cell_type": "markdown",
   "metadata": {},
   "source": [
    "8. Write a method that will take a venue, and just return the id, name, and location as values"
   ]
  },
  {
   "cell_type": "code",
   "execution_count": 111,
   "metadata": {},
   "outputs": [],
   "source": [
    "def extract_details_from_venue(venue):\n",
    "    return {'id': venue['id'], 'name': venue['name'], 'location': [venue['location']['lat'], venue['location']['lng']]}"
   ]
  },
  {
   "cell_type": "code",
   "execution_count": 112,
   "metadata": {},
   "outputs": [
    {
     "data": {
      "text/plain": [
       "{'id': '5b2932a0f5e9d70039787cf2',\n",
       " 'name': 'Los Tacos Al Pastor',\n",
       " 'location': [40.70243624175102, -73.98753900608666]}"
      ]
     },
     "execution_count": 112,
     "metadata": {},
     "output_type": "execute_result"
    }
   ],
   "source": [
    "extract_details_from_venue(venue)\n",
    "# {'id': '5b2932a0f5e9d70039787cf2',\n",
    "#  'name': 'Los Tacos Al Pastor',\n",
    "#  'location': [40.70243624175102, -73.98753900608666]}"
   ]
  },
  {
   "cell_type": "markdown",
   "metadata": {},
   "source": [
    "9. Now write a function that does this for a list of venues."
   ]
  },
  {
   "cell_type": "code",
   "execution_count": 113,
   "metadata": {},
   "outputs": [],
   "source": [
    "def extract_details_from_venues(venues):\n",
    "    return [extract_details_from_venue(venue) for venue in venues]"
   ]
  },
  {
   "cell_type": "code",
   "execution_count": 116,
   "metadata": {},
   "outputs": [
    {
     "data": {
      "text/plain": [
       "[{'id': '5b2932a0f5e9d70039787cf2',\n",
       "  'name': 'Los Tacos Al Pastor',\n",
       "  'location': [40.70243624175102, -73.98753900608666]},\n",
       " {'id': '542f62bc498ee31baa1395cb',\n",
       "  'name': \"Rocco's Tacos and Tequila Bar Brooklyn\",\n",
       "  'location': [40.693277341475834, -73.98868115958473]},\n",
       " {'id': '5196b9ff498e8a6be4336a03',\n",
       "  'name': 'Los Tacos No. 1',\n",
       "  'location': [40.74224400629671, -74.00596115738153]},\n",
       " {'id': '5d5f24ec09484500079aee00',\n",
       "  'name': 'Los Tacos No. 1',\n",
       "  'location': [40.714267, -74.008756]}]"
      ]
     },
     "execution_count": 116,
     "metadata": {},
     "output_type": "execute_result"
    }
   ],
   "source": [
    "extract_details_from_venues(venues)[:4]\n",
    "# [{'id': '5b2932a0f5e9d70039787cf2',\n",
    "#   'name': 'Los Tacos Al Pastor',\n",
    "#   'location': [40.70243624175102, -73.98753900608666]},\n",
    "#  {'id': '542f62bc498ee31baa1395cb',\n",
    "#   'name': \"Rocco's Tacos and Tequila Bar Brooklyn\",\n",
    "#   'location': [40.693277341475834, -73.98868115958473]},\n",
    "#  {'id': '5196b9ff498e8a6be4336a03',\n",
    "#   'name': 'Los Tacos No. 1',\n",
    "#   'location': [40.74224400629671, -74.00596115738153]},\n",
    "#  {'id': '5d5f24ec09484500079aee00',\n",
    "#   'name': 'Los Tacos No. 1',\n",
    "#   'location': [40.714267, -74.008756]}]"
   ]
  },
  {
   "cell_type": "markdown",
   "metadata": {},
   "source": [
    "### Working with an Individual Venue"
   ]
  },
  {
   "cell_type": "markdown",
   "metadata": {},
   "source": [
    "1. Write a function that retrieves the details of an individual restaurant"
   ]
  },
  {
   "cell_type": "code",
   "execution_count": 157,
   "metadata": {},
   "outputs": [],
   "source": [
    "restaurant_id = \"5b2932a0f5e9d70039787cf2\"\n",
    "def get_details(restaurant_id, auth):    \n",
    "    url = f\"https://api.foursquare.com/v2/venues/{restaurant_id}?{auth}\"\n",
    "    response = requests.get(url)\n",
    "    json = response.json()\n",
    "    return json['response']"
   ]
  },
  {
   "cell_type": "code",
   "execution_count": 159,
   "metadata": {},
   "outputs": [
    {
     "data": {
      "text/plain": [
       "{'meta': {'code': 429,\n",
       "  'errorType': 'quota_exceeded',\n",
       "  'errorDetail': 'Quota exceeded',\n",
       "  'requestId': '5e3eff3e9239352901679393'},\n",
       " 'response': {}}"
      ]
     },
     "execution_count": 159,
     "metadata": {},
     "output_type": "execute_result"
    }
   ],
   "source": [
    "details = get_details(restaurant_id, auth)\n",
    "details\n",
    "\n",
    "# {'meta': {'code': 200, 'requestId': '5e3ef002d03993001b5fdd0f'},\n",
    "#  'response': {'venue': {'id': '5b2932a0f5e9d70039787cf2',\n",
    "#    'name': 'Los Tacos Al Pastor',\n",
    "#    'contact': {'phone': '3479160190', 'formattedPhone': '(347) 916-0190'},\n",
    "#    'location': {'address': '141 Front St',\n",
    "#     'lat': 40.70243624175102,\n",
    "#     'lng': -73.98753900608666,\n",
    "#     'labeledLatLngs': [{'label': 'display',\n",
    "#       'lat': 40.70243624175102,\n",
    "#       'lng': -73.98753900608666}],\n",
    "#     'postalCode': '11201',\n",
    "#     'cc': 'US',\n",
    "#     'neighborhood': 'DUMBO',\n",
    "#     'city': 'New York',\n",
    "# ..."
   ]
  },
  {
   "cell_type": "markdown",
   "metadata": {},
   "source": [
    "2. Write a function that retrieves the rating and number of ratings and number of likes from an invdividual restaurant"
   ]
  },
  {
   "cell_type": "code",
   "execution_count": 186,
   "metadata": {},
   "outputs": [],
   "source": [
    "def extract_likes(venue):\n",
    "    likes_count = venue['likes']['count']\n",
    "\n",
    "    return likes_count"
   ]
  },
  {
   "cell_type": "code",
   "execution_count": 164,
   "metadata": {},
   "outputs": [],
   "source": [
    "# extract_rating(details)\n",
    "# {'rating': 8.2, 'signals': 60, 'likes_count': 45}"
   ]
  },
  {
   "cell_type": "markdown",
   "metadata": {},
   "source": [
    "3. Write a function that takes a query, and returns the restaurant name, location, and id, and rating. \n",
    "> The list of dictionaries should be sorted by the rating\n",
    "\n"
   ]
  },
  {
   "cell_type": "code",
   "execution_count": 144,
   "metadata": {},
   "outputs": [
    {
     "data": {
      "text/plain": [
       "{'ll': '40.7,-74', 'query': 'tacos'}"
      ]
     },
     "execution_count": 144,
     "metadata": {},
     "output_type": "execute_result"
    }
   ],
   "source": [
    "params"
   ]
  },
  {
   "cell_type": "code",
   "execution_count": 189,
   "metadata": {},
   "outputs": [],
   "source": [
    "def find_and_sort(auth, params)\n",
    "    # venues = venue_search(auth, params)\n",
    "    # details = extract_details_from_venues(venues)\n",
    "    # ids = [venue['id'] for venue in venues]\n",
    "    # venues_details = [get_details(restaurant_id, auth) for restaurant_id in ids]\n",
    "    # likes = [extract_likes(venue) for venue in venues_details]\n",
    "    # new_venues = []\n",
    "    # for (venue, like) in zip(extract_details_from_venues(venues_details), likes):\n",
    "    #     new_venue = venue.copy()\n",
    "    #     new_venue['likes'] = like\n",
    "    #     new_venues.append(new_venue)\n",
    "    # sorted_vens = list(sorted(new_venues, key = lambda venue: venue['likes'], reverse = True))\n",
    "    # return sorted_vens   "
   ]
  },
  {
   "cell_type": "code",
   "execution_count": 217,
   "metadata": {},
   "outputs": [],
   "source": [
    "# sorted_vens[:5]\n",
    "\n",
    "# [{'id': '5196b9ff498e8a6be4336a03',\n",
    "#   'name': 'Los Tacos No. 1',\n",
    "#   'location': [40.74224400629671, -74.00596115738153],\n",
    "#   'likes': 1524},\n",
    "#  {'id': '59580ce6db1d8148fee3d383',\n",
    "#   'name': 'Los Tacos No. 1',\n",
    "#   'location': [40.757237, -73.987454],\n",
    "#   'likes': 515},\n",
    "#  {'id': '542f62bc498ee31baa1395cb',\n",
    "#   'name': \"Rocco's Tacos and Tequila Bar Brooklyn\",\n",
    "#   'location': [40.693277341475834, -73.98868115958473],\n",
    "#   'likes': 293},\n",
    "#  {'id': '4c9521df82b56dcbc5fbd5aa',\n",
    "#   'name': 'Tacos El Bronco',\n",
    "#   'location': [40.652097, -74.003069],\n",
    "#   'likes': 170},\n",
    "#  {'id': '4a87839bf964a520940420e3',\n",
    "#   'name': 'Tacos El Bronco',\n",
    "#   'location': [40.651670871816826, -74.00353363074488],\n",
    "#   'likes': 109}]"
   ]
  },
  {
   "cell_type": "markdown",
   "metadata": {},
   "source": [
    "4. Write a function to take a search query, and then plot the top results in a map with the folium library"
   ]
  }
 ],
 "metadata": {
  "kernelspec": {
   "display_name": "Python 3",
   "language": "python",
   "name": "python3"
  },
  "language_info": {
   "codemirror_mode": {
    "name": "ipython",
    "version": 3
   },
   "file_extension": ".py",
   "mimetype": "text/x-python",
   "name": "python",
   "nbconvert_exporter": "python",
   "pygments_lexer": "ipython3",
   "version": "3.7.4"
  }
 },
 "nbformat": 4,
 "nbformat_minor": 4
}
