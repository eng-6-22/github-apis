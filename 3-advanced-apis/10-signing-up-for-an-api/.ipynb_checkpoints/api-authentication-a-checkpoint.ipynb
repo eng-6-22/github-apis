{
 "cells": [
  {
   "cell_type": "markdown",
   "metadata": {},
   "source": [
    "# Signing up for APIs"
   ]
  },
  {
   "cell_type": "markdown",
   "metadata": {},
   "source": [
    "### Introduction"
   ]
  },
  {
   "cell_type": "markdown",
   "metadata": {},
   "source": [
    "In the last lab, we got our hands on the keyboard and were able to practice requesting information for an API.  However, a lot of APIs require us to first signup, and then authenticate a request (whatever that means) to use their API.  In this lesson, we'll walk through an example, so that we can learn how to use the majority of APIs that require us to sign up. "
   ]
  },
  {
   "cell_type": "markdown",
   "metadata": {},
   "source": [
    "### The Foursquare API"
   ]
  },
  {
   "cell_type": "markdown",
   "metadata": {},
   "source": [
    "Foursquare is a great website for finding local food and business recommendations."
   ]
  },
  {
   "cell_type": "markdown",
   "metadata": {},
   "source": [
    "<img src=\"https://github.com/jigsawlabs/curriculum-assets/blob/master/introduction-to-apis/11-signing-up-for-an-api/foursquare.png?raw=true\" width=\"40%\">"
   ]
  },
  {
   "cell_type": "markdown",
   "metadata": {},
   "source": [
    "All of the information that Foursquare has on it's website and more is available to us to use as data scientists.  While all of this information is provided for free, we first need to register for the website before we can use it.\n",
    "\n",
    "This registration makes sense.  Just like we need to signup for a website like Facebook or Google, Foursquare needs us to signup so that we adhere to their terms (which, we of course, will.)  "
   ]
  },
  {
   "cell_type": "markdown",
   "metadata": {},
   "source": [
    "## Time to register"
   ]
  },
  {
   "cell_type": "markdown",
   "metadata": {},
   "source": [
    "Now to see how to register, we can google for Foursquare API, and then click on the [Foursquare Developer Page](https://developer.foursquare.com/).  Click on the Create Account button."
   ]
  },
  {
   "cell_type": "markdown",
   "metadata": {},
   "source": [
    "<img src=\"./create-account.png\" width=\"40%\">"
   ]
  },
  {
   "cell_type": "markdown",
   "metadata": {},
   "source": [
    "And from there, we can fill out the information in the following form."
   ]
  },
  {
   "cell_type": "markdown",
   "metadata": {},
   "source": [
    "<img src=\"./foursquare-signup.png\" width=\"40%\" />"
   ]
  },
  {
   "cell_type": "markdown",
   "metadata": {},
   "source": [
    "After filling out the form, and clicking the blue sign up button at the bottom, we have made it through the first step."
   ]
  },
  {
   "cell_type": "markdown",
   "metadata": {},
   "source": [
    "### Register an App on Foursquare"
   ]
  },
  {
   "cell_type": "markdown",
   "metadata": {},
   "source": [
    "After filling out the signup form, click on the light blue \"Create a new App button\". "
   ]
  },
  {
   "cell_type": "markdown",
   "metadata": {},
   "source": [
    "<img src=\"./create-new-app.png\" width=\"60%\">"
   ]
  },
  {
   "cell_type": "markdown",
   "metadata": {},
   "source": [
    " Next, fill out the form.  You can see that I had an App name of \"Jigsaw labs\" and App or Company URL of \"www.jigsawlabs.co\".  If there are other values you would like to enter, feel free to do so.\n",
    "\n",
    "Next, select that we are building the web app for personal use, and using the \"Search for Points of Interest\" feature.  \n",
    "\n",
    "When we get to the next screen, select the account tier of personal.  \n",
    "\n",
    "Then there is a screen that says we can get more by entering our credit card, but we decide not to.  Click on the link under verify that says \"return to my apps\".  When you get to the screen that says My Apps and then Client Id, you have made it."
   ]
  },
  {
   "cell_type": "markdown",
   "metadata": {},
   "source": [
    "### Our keys"
   ]
  },
  {
   "cell_type": "markdown",
   "metadata": {},
   "source": [
    "Great!  At this point we have our API keys: the client id and client secret.  That was really the point of this whole procedure.  These keys will allow us to use the Foursquare api.  Let's see how."
   ]
  },
  {
   "cell_type": "markdown",
   "metadata": {},
   "source": [
    "# Navigating Foursquare's API"
   ]
  },
  {
   "cell_type": "markdown",
   "metadata": {},
   "source": [
    "First, let's try to search for some venues.  Looking at the documentation, click on Places API to expand the dropdown, then Venues, and then finally Get Venue Recommendations."
   ]
  },
  {
   "cell_type": "markdown",
   "metadata": {},
   "source": [
    "<img src=\"./places-api.png\" width=\"60%\" /> "
   ]
  },
  {
   "cell_type": "markdown",
   "metadata": {},
   "source": [
    "Once on [that page](https://developer.foursquare.com/docs/api/venues/explore), you'll see a description followed by an example of the request url that we need to make.  Let's try to use that URL to make our request."
   ]
  },
  {
   "cell_type": "markdown",
   "metadata": {},
   "source": [
    "<img src=\"./query-venue.png\" width=\"70%\"> "
   ]
  },
  {
   "cell_type": "code",
   "execution_count": 1,
   "metadata": {},
   "outputs": [
    {
     "data": {
      "text/plain": [
       "{'meta': {'code': 400,\n",
       "  'errorType': 'invalid_auth',\n",
       "  'errorDetail': 'Missing access credentials. See https://developer.foursquare.com/docs/api/configuration/authentication for details.',\n",
       "  'requestId': '5e3e0a52f7706a001bc96c8f'},\n",
       " 'response': {}}"
      ]
     },
     "execution_count": 1,
     "metadata": {},
     "output_type": "execute_result"
    }
   ],
   "source": [
    "import requests\n",
    "response = requests.get(\"https://api.foursquare.com/v2/venues/explore\")\n",
    "response.json()"
   ]
  },
  {
   "cell_type": "markdown",
   "metadata": {},
   "source": [
    "Oh no :( So this tells us that we have an error because of invalid authorization, but it does give us a link to learn more.  Let's [go there](https://developer.foursquare.com/docs/api/configuration/authentication)."
   ]
  },
  {
   "cell_type": "markdown",
   "metadata": {},
   "source": [
    "<img src=\"./userless-auth.png\" width=\"80%\"> "
   ]
  },
  {
   "cell_type": "markdown",
   "metadata": {},
   "source": [
    "So there are basically two different kinds of authentication: Userless Auth and User Auth.  It says the userless one doesn't require a user's permissions, and the user auth is when need a user to get checkins.  It seems like we need the simpler one -- after all we're just looking for venue info.  \n",
    "\n",
    "Let's look at the Userless Auth URL.  It says to specify our Client ID and Secret in the following format:\n",
    "\n",
    "`\"https://api.foursquare.com/v2/venues/search?ll=40.7,-74&client_id=CLIENT_ID&client_secret=CLIENT_SECRET&v=YYYYMMDD\"`"
   ]
  },
  {
   "cell_type": "markdown",
   "metadata": {},
   "source": [
    "Ok, so here's the main thing to realize: everything after the question mark is a query parameter.  Let's see this as we break down the url in full."
   ]
  },
  {
   "cell_type": "markdown",
   "metadata": {},
   "source": [
    "* \"https://api.foursquare.com\" is our root url.\n",
    "* \"/v2/\" is for version 2 of the API\n",
    "* \"/venues/search\" is for searching the resource, venues.\n",
    "* \"?\", as we know marks the beginning of our query parameters.\n",
    "\n",
    "With the query parameters, note that we have a series of `field=value` pairings.  Notice that there is an `&` between each `field=value` pairing.\n",
    "\n",
    "The first field, `ll` is for the longitude and latitude that we want to search for venues.  Then the `client_id` and client secret is that client id that we were given after we registered.  Finally, the `v=YYYYMMDD` is a version, where Foursquare asks us to place in the current day."
   ]
  },
  {
   "cell_type": "markdown",
   "metadata": {},
   "source": [
    "## Going further on client id and client secret "
   ]
  },
  {
   "cell_type": "markdown",
   "metadata": {},
   "source": [
    "Let's take a minute to discuss the client id and client secret, as these are common components to many APIs.  Remember that both the client id and the client secret were provided to us after we filled out information to register for an account.  Well, the client id is essentially our user name and the client secret the password.  By passing this information along with the request, Foursquare is able to tell who we are, and that we are an approved user.\n",
    "\n",
    "Ok, it's time to try to use this API."
   ]
  },
  {
   "cell_type": "markdown",
   "metadata": {},
   "source": [
    "### Using the API"
   ]
  },
  {
   "cell_type": "markdown",
   "metadata": {},
   "source": [
    "Let's start by copying over the URL that Foursquare provided us in the documentation."
   ]
  },
  {
   "cell_type": "markdown",
   "metadata": {},
   "source": [
    "`\"https://api.foursquare.com/v2/venues/search?ll=40.7,-74&client_id=CLIENT_ID&client_secret=CLIENT_SECRET&v=YYYYMMDD\"`"
   ]
  },
  {
   "cell_type": "markdown",
   "metadata": {},
   "source": [
    "Ok, now we have to just fill in the gaps here.  So where we see the capitalization, we should provide our particular information.  We can do this using variables.  Let's take a look at this below."
   ]
  },
  {
   "cell_type": "markdown",
   "metadata": {},
   "source": [
    "First we can set variables `client_id`, `client_secret` and the `date` equal to our customer figures.  Each of them are `strings`, so we wrap these values in quotes."
   ]
  },
  {
   "cell_type": "code",
   "execution_count": 1,
   "metadata": {},
   "outputs": [],
   "source": [
    "client_id = \"ALECV5CBBEHRRKTIQ5ZV143YEXOH3SBLAMU54SPHKGZI1ZKE\"\n",
    "client_secret = \"3JX3NRGRS2P0KE0NSKPTMCOZOY4MWUU4M3G33BO4XTRJ15SM\"\n",
    "date = \"20190407\""
   ]
  },
  {
   "cell_type": "markdown",
   "metadata": {},
   "source": [
    "Now we can just replace that original url, and in the gaps place our variables.  Let's assign the entire result equal to `url`."
   ]
  },
  {
   "cell_type": "code",
   "execution_count": 2,
   "metadata": {},
   "outputs": [],
   "source": [
    "url = \"https://api.foursquare.com/v2/venues/search?ll=40.7,-74&client_id=\" + client_id + \"&client_secret=\" + client_secret + \"&v=\" + date"
   ]
  },
  {
   "cell_type": "markdown",
   "metadata": {},
   "source": [
    "Ok, let's look at our url."
   ]
  },
  {
   "cell_type": "code",
   "execution_count": 3,
   "metadata": {},
   "outputs": [
    {
     "data": {
      "text/plain": [
       "'https://api.foursquare.com/v2/venues/search?ll=40.7,-74&client_id=ALECV5CBBEHRRKTIQ5ZV143YEXOH3SBLAMU54SPHKGZI1ZKE&client_secret=3JX3NRGRS2P0KE0NSKPTMCOZOY4MWUU4M3G33BO4XTRJ15SM&v=20190407'"
      ]
     },
     "execution_count": 3,
     "metadata": {},
     "output_type": "execute_result"
    }
   ],
   "source": [
    "url"
   ]
  },
  {
   "cell_type": "markdown",
   "metadata": {},
   "source": [
    "Finally we can make the web request."
   ]
  },
  {
   "cell_type": "code",
   "execution_count": 4,
   "metadata": {},
   "outputs": [],
   "source": [
    "import requests\n",
    "response = requests.get(url)"
   ]
  },
  {
   "cell_type": "code",
   "execution_count": 5,
   "metadata": {},
   "outputs": [
    {
     "data": {
      "text/plain": [
       "<Response [200]>"
      ]
     },
     "execution_count": 5,
     "metadata": {},
     "output_type": "execute_result"
    }
   ],
   "source": [
    "response"
   ]
  },
  {
   "cell_type": "markdown",
   "metadata": {},
   "source": [
    "Ok, this looks promising.  We'll call `response.json()` to see the results at the very end, as it is quite long."
   ]
  },
  {
   "cell_type": "code",
   "execution_count": 6,
   "metadata": {},
   "outputs": [
    {
     "data": {
      "text/plain": [
       "{'meta': {'code': 200, 'requestId': '61830503437b9909e7ac8609'},\n",
       " 'response': {'venues': [{'id': '53ff2935498e161412b3e871',\n",
       "    'name': 'Brooklyn Bridge Park - Pier 2 Yoga Court',\n",
       "    'location': {'lat': 40.699657951708524,\n",
       "     'lng': -73.99976911704667,\n",
       "     'labeledLatLngs': [{'label': 'display',\n",
       "       'lat': 40.699657951708524,\n",
       "       'lng': -73.99976911704667}],\n",
       "     'distance': 42,\n",
       "     'cc': 'US',\n",
       "     'city': 'Brooklyn',\n",
       "     'state': 'NY',\n",
       "     'country': 'United States',\n",
       "     'formattedAddress': ['Brooklyn, NY', 'United States']},\n",
       "    'categories': [{'id': '4bf58dd8d48988d102941735',\n",
       "      'name': 'Yoga Studio',\n",
       "      'pluralName': 'Yoga Studios',\n",
       "      'shortName': 'Yoga Studio',\n",
       "      'icon': {'prefix': 'https://ss3.4sqi.net/img/categories_v2/shops/gym_yogastudio_',\n",
       "       'suffix': '.png'},\n",
       "      'primary': True}],\n",
       "    'referralId': 'v-1635976451',\n",
       "    'hasPerk': False},\n",
       "   {'id': '51eabef6498e10cf3aea7942',\n",
       "    'name': 'Brooklyn Bridge Park - Pier 2',\n",
       "    'location': {'address': 'Furman St',\n",
       "     'crossStreet': 'Brooklyn Bridge Park Greenway',\n",
       "     'lat': 40.69957016220183,\n",
       "     'lng': -73.99793274204788,\n",
       "     'labeledLatLngs': [{'label': 'display',\n",
       "       'lat': 40.69957016220183,\n",
       "       'lng': -73.99793274204788}],\n",
       "     'distance': 180,\n",
       "     'postalCode': '11201',\n",
       "     'cc': 'US',\n",
       "     'city': 'Brooklyn',\n",
       "     'state': 'NY',\n",
       "     'country': 'United States',\n",
       "     'formattedAddress': ['Furman St (Brooklyn Bridge Park Greenway)',\n",
       "      'Brooklyn, NY 11201',\n",
       "      'United States']},\n",
       "    'categories': [{'id': '4e74f6cabd41c4836eac4c31',\n",
       "      'name': 'Pier',\n",
       "      'pluralName': 'Piers',\n",
       "      'shortName': 'Piers',\n",
       "      'icon': {'prefix': 'https://ss3.4sqi.net/img/categories_v2/travel/ferry_pier_',\n",
       "       'suffix': '.png'},\n",
       "      'primary': True}],\n",
       "    'referralId': 'v-1635976451',\n",
       "    'hasPerk': False},\n",
       "   {'id': '430d0a00f964a5203e271fe3',\n",
       "    'name': 'Brooklyn Bridge Park',\n",
       "    'location': {'address': 'Furman St',\n",
       "     'crossStreet': 'Plymouth St',\n",
       "     'lat': 40.702282,\n",
       "     'lng': -73.996456,\n",
       "     'labeledLatLngs': [{'label': 'display',\n",
       "       'lat': 40.702282,\n",
       "       'lng': -73.996456}],\n",
       "     'distance': 392,\n",
       "     'postalCode': '11201',\n",
       "     'cc': 'US',\n",
       "     'neighborhood': 'DUMBO, Brooklyn, NY',\n",
       "     'city': 'Brooklyn',\n",
       "     'state': 'NY',\n",
       "     'country': 'United States',\n",
       "     'formattedAddress': ['Furman St (Plymouth St)',\n",
       "      'Brooklyn, NY 11201',\n",
       "      'United States']},\n",
       "    'categories': [{'id': '4bf58dd8d48988d163941735',\n",
       "      'name': 'Park',\n",
       "      'pluralName': 'Parks',\n",
       "      'shortName': 'Park',\n",
       "      'icon': {'prefix': 'https://ss3.4sqi.net/img/categories_v2/parks_outdoors/park_',\n",
       "       'suffix': '.png'},\n",
       "      'primary': True}],\n",
       "    'referralId': 'v-1635976451',\n",
       "    'hasPerk': False},\n",
       "   {'id': '53af4e97498e0bd7ae45c926',\n",
       "    'name': 'Brooklyn Bridge Park Skating Rink',\n",
       "    'location': {'address': 'Pier 2',\n",
       "     'lat': 40.699821897299444,\n",
       "     'lng': -73.99834932863362,\n",
       "     'labeledLatLngs': [{'label': 'display',\n",
       "       'lat': 40.699821897299444,\n",
       "       'lng': -73.99834932863362}],\n",
       "     'distance': 140,\n",
       "     'cc': 'US',\n",
       "     'city': 'Brooklyn',\n",
       "     'state': 'NY',\n",
       "     'country': 'United States',\n",
       "     'formattedAddress': ['Pier 2', 'Brooklyn, NY', 'United States']},\n",
       "    'categories': [{'id': '52e81612bcbc57f1066b79e9',\n",
       "      'name': 'Roller Rink',\n",
       "      'pluralName': 'Roller Rinks',\n",
       "      'shortName': 'Roller Rink',\n",
       "      'icon': {'prefix': 'https://ss3.4sqi.net/img/categories_v2/arts_entertainment/default_',\n",
       "       'suffix': '.png'},\n",
       "      'primary': True}],\n",
       "    'referralId': 'v-1635976451',\n",
       "    'hasPerk': False},\n",
       "   {'id': '5fb9462a7ef47d6dcf09b868',\n",
       "    'name': 'Pier 2 Handball Courts',\n",
       "    'location': {'address': 'Brooklyn Bridge Park',\n",
       "     'lat': 40.699557,\n",
       "     'lng': -73.998061,\n",
       "     'labeledLatLngs': [{'label': 'display',\n",
       "       'lat': 40.699557,\n",
       "       'lng': -73.998061}],\n",
       "     'distance': 170,\n",
       "     'postalCode': '11201',\n",
       "     'cc': 'US',\n",
       "     'city': 'New York',\n",
       "     'state': 'NY',\n",
       "     'country': 'United States',\n",
       "     'formattedAddress': ['Brooklyn Bridge Park',\n",
       "      'New York, NY 11201',\n",
       "      'United States']},\n",
       "    'categories': [{'id': '4f4528bc4b90abdf24c9de85',\n",
       "      'name': 'Athletics & Sports',\n",
       "      'pluralName': 'Athletics & Sports',\n",
       "      'shortName': 'Athletics & Sports',\n",
       "      'icon': {'prefix': 'https://ss3.4sqi.net/img/categories_v2/shops/sports_outdoors_',\n",
       "       'suffix': '.png'},\n",
       "      'primary': True}],\n",
       "    'referralId': 'v-1635976451',\n",
       "    'hasPerk': False},\n",
       "   {'id': '55387c1b498e4eca6482f4f5',\n",
       "    'name': 'Industry Kitchen',\n",
       "    'location': {'address': '70 South St',\n",
       "     'crossStreet': 'at Maiden Ln',\n",
       "     'lat': 40.70483308721023,\n",
       "     'lng': -74.00478253807265,\n",
       "     'labeledLatLngs': [{'label': 'display',\n",
       "       'lat': 40.70483308721023,\n",
       "       'lng': -74.00478253807265}],\n",
       "     'distance': 672,\n",
       "     'postalCode': '10005',\n",
       "     'cc': 'US',\n",
       "     'city': 'New York',\n",
       "     'state': 'NY',\n",
       "     'country': 'United States',\n",
       "     'formattedAddress': ['70 South St (at Maiden Ln)',\n",
       "      'New York, NY 10005',\n",
       "      'United States']},\n",
       "    'categories': [{'id': '4bf58dd8d48988d110941735',\n",
       "      'name': 'Italian Restaurant',\n",
       "      'pluralName': 'Italian Restaurants',\n",
       "      'shortName': 'Italian',\n",
       "      'icon': {'prefix': 'https://ss3.4sqi.net/img/categories_v2/food/italian_',\n",
       "       'suffix': '.png'},\n",
       "      'primary': True}],\n",
       "    'delivery': {'id': '347865',\n",
       "     'url': 'https://www.seamless.com/menu/industry-kitchen-70-south-st-new-york/347865?affiliate=1131&utm_source=foursquare-affiliate-network&utm_medium=affiliate&utm_campaign=1131&utm_content=347865',\n",
       "     'provider': {'name': 'seamless',\n",
       "      'icon': {'prefix': 'https://fastly.4sqi.net/img/general/cap/',\n",
       "       'sizes': [40, 50],\n",
       "       'name': '/delivery_provider_seamless_20180129.png'}}},\n",
       "    'referralId': 'v-1635976451',\n",
       "    'hasPerk': False},\n",
       "   {'id': '6101e5b2c547e721b5172694',\n",
       "    'name': 'Pier 2 Kayaking',\n",
       "    'location': {'lat': 40.699806,\n",
       "     'lng': -73.99795,\n",
       "     'labeledLatLngs': [{'label': 'display',\n",
       "       'lat': 40.699806,\n",
       "       'lng': -73.99795}],\n",
       "     'distance': 174,\n",
       "     'postalCode': '11201',\n",
       "     'cc': 'US',\n",
       "     'city': 'Brooklyn',\n",
       "     'state': 'NY',\n",
       "     'country': 'United States',\n",
       "     'formattedAddress': ['Brooklyn, NY 11201', 'United States']},\n",
       "    'categories': [{'id': '5fabfc8099ce226e27fe6b0d',\n",
       "      'name': 'Boat Launch',\n",
       "      'pluralName': 'Boat Launches',\n",
       "      'shortName': 'Boat Launch',\n",
       "      'icon': {'prefix': 'https://ss3.4sqi.net/img/categories_v2/travel/ferry_pier_',\n",
       "       'suffix': '.png'},\n",
       "      'primary': True}],\n",
       "    'referralId': 'v-1635976451',\n",
       "    'hasPerk': False},\n",
       "   {'id': '5284fe6811d2114d599b3e15',\n",
       "    'name': 'Brooklyn Bridge Park - Pier 3',\n",
       "    'location': {'address': 'Brooklyn Bridge Pk Greenway',\n",
       "     'crossStreet': 'at Furman St',\n",
       "     'lat': 40.69780332891386,\n",
       "     'lng': -73.99944305419922,\n",
       "     'labeledLatLngs': [{'label': 'display',\n",
       "       'lat': 40.69780332891386,\n",
       "       'lng': -73.99944305419922}],\n",
       "     'distance': 249,\n",
       "     'postalCode': '11201',\n",
       "     'cc': 'US',\n",
       "     'city': 'Brooklyn',\n",
       "     'state': 'NY',\n",
       "     'country': 'United States',\n",
       "     'formattedAddress': ['Brooklyn Bridge Pk Greenway (at Furman St)',\n",
       "      'Brooklyn, NY 11201',\n",
       "      'United States']},\n",
       "    'categories': [{'id': '4e74f6cabd41c4836eac4c31',\n",
       "      'name': 'Pier',\n",
       "      'pluralName': 'Piers',\n",
       "      'shortName': 'Piers',\n",
       "      'icon': {'prefix': 'https://ss3.4sqi.net/img/categories_v2/travel/ferry_pier_',\n",
       "       'suffix': '.png'},\n",
       "      'primary': True}],\n",
       "    'referralId': 'v-1635976451',\n",
       "    'hasPerk': False},\n",
       "   {'id': '6070bf2c8d96d75c0de96d7e',\n",
       "    'name': 'Pier 2 Swings',\n",
       "    'location': {'address': 'Brooklyn Bridge Park',\n",
       "     'lat': 40.699474,\n",
       "     'lng': -73.99954,\n",
       "     'labeledLatLngs': [{'label': 'display',\n",
       "       'lat': 40.699474,\n",
       "       'lng': -73.99954}],\n",
       "     'distance': 70,\n",
       "     'postalCode': '11201',\n",
       "     'cc': 'US',\n",
       "     'city': 'Brooklyn',\n",
       "     'state': 'NY',\n",
       "     'country': 'United States',\n",
       "     'formattedAddress': ['Brooklyn Bridge Park',\n",
       "      'Brooklyn, NY 11201',\n",
       "      'United States']},\n",
       "    'categories': [{'id': '4bf58dd8d48988d1e7941735',\n",
       "      'name': 'Playground',\n",
       "      'pluralName': 'Playgrounds',\n",
       "      'shortName': 'Playground',\n",
       "      'icon': {'prefix': 'https://ss3.4sqi.net/img/categories_v2/parks_outdoors/playground_',\n",
       "       'suffix': '.png'},\n",
       "      'primary': True}],\n",
       "    'referralId': 'v-1635976451',\n",
       "    'hasPerk': False},\n",
       "   {'id': '5e4758a21173a400078e2323',\n",
       "    'name': 'Palmetto',\n",
       "    'location': {'address': '309 Knickerbocker Ave',\n",
       "     'crossStreet': 'Hart St',\n",
       "     'lat': 40.701671,\n",
       "     'lng': -73.923168,\n",
       "     'labeledLatLngs': [{'label': 'display',\n",
       "       'lat': 40.701671,\n",
       "       'lng': -73.923168},\n",
       "      {'label': 'entrance', 'lat': 40.701676, 'lng': -73.923182}],\n",
       "     'distance': 6486,\n",
       "     'postalCode': '11237',\n",
       "     'cc': 'US',\n",
       "     'city': 'Brooklyn',\n",
       "     'state': 'NY',\n",
       "     'country': 'United States',\n",
       "     'formattedAddress': ['309 Knickerbocker Ave (Hart St)',\n",
       "      'Brooklyn, NY 11237',\n",
       "      'United States']},\n",
       "    'categories': [{'id': '4bf58dd8d48988d11e941735',\n",
       "      'name': 'Cocktail Bar',\n",
       "      'pluralName': 'Cocktail Bars',\n",
       "      'shortName': 'Cocktail',\n",
       "      'icon': {'prefix': 'https://ss3.4sqi.net/img/categories_v2/nightlife/cocktails_',\n",
       "       'suffix': '.png'},\n",
       "      'primary': True}],\n",
       "    'referralId': 'v-1635976451',\n",
       "    'hasPerk': False},\n",
       "   {'id': '4c3a5ad83849c92880e0c2b1',\n",
       "    'name': 'Blue Marble Ice Cream',\n",
       "    'location': {'address': 'Brooklyn Bridge Park - Pier 1',\n",
       "     'lat': 40.70283693041026,\n",
       "     'lng': -73.99627425075094,\n",
       "     'labeledLatLngs': [{'label': 'display',\n",
       "       'lat': 40.70283693041026,\n",
       "       'lng': -73.99627425075094}],\n",
       "     'distance': 445,\n",
       "     'postalCode': '11201',\n",
       "     'cc': 'US',\n",
       "     'city': 'Brooklyn',\n",
       "     'state': 'NY',\n",
       "     'country': 'United States',\n",
       "     'formattedAddress': ['Brooklyn Bridge Park - Pier 1',\n",
       "      'Brooklyn, NY 11201',\n",
       "      'United States']},\n",
       "    'categories': [{'id': '4bf58dd8d48988d1c9941735',\n",
       "      'name': 'Ice Cream Shop',\n",
       "      'pluralName': 'Ice Cream Shops',\n",
       "      'shortName': 'Ice Cream',\n",
       "      'icon': {'prefix': 'https://ss3.4sqi.net/img/categories_v2/food/icecream_',\n",
       "       'suffix': '.png'},\n",
       "      'primary': True}],\n",
       "    'referralId': 'v-1635976451',\n",
       "    'hasPerk': False},\n",
       "   {'id': '5b4149016336be002c941465',\n",
       "    'name': 'Pier 3 Uplands',\n",
       "    'location': {'lat': 40.697478,\n",
       "     'lng': -73.998241,\n",
       "     'labeledLatLngs': [{'label': 'display',\n",
       "       'lat': 40.697478,\n",
       "       'lng': -73.998241}],\n",
       "     'distance': 317,\n",
       "     'postalCode': '11201',\n",
       "     'cc': 'US',\n",
       "     'city': 'New York',\n",
       "     'state': 'NY',\n",
       "     'country': 'United States',\n",
       "     'formattedAddress': ['New York, NY 11201', 'United States']},\n",
       "    'categories': [{'id': '4bf58dd8d48988d163941735',\n",
       "      'name': 'Park',\n",
       "      'pluralName': 'Parks',\n",
       "      'shortName': 'Park',\n",
       "      'icon': {'prefix': 'https://ss3.4sqi.net/img/categories_v2/parks_outdoors/park_',\n",
       "       'suffix': '.png'},\n",
       "      'primary': True}],\n",
       "    'referralId': 'v-1635976451',\n",
       "    'hasPerk': False},\n",
       "   {'id': '4d0d6b7d903d37048116c455',\n",
       "    'name': 'City Light Cruise',\n",
       "    'location': {'address': '23rd',\n",
       "     'crossStreet': 'Fdr drive',\n",
       "     'lat': 40.700825140265614,\n",
       "     'lng': -74.00287943703214,\n",
       "     'labeledLatLngs': [{'label': 'display',\n",
       "       'lat': 40.700825140265614,\n",
       "       'lng': -74.00287943703214}],\n",
       "     'distance': 259,\n",
       "     'cc': 'US',\n",
       "     'city': 'New York',\n",
       "     'state': 'NY',\n",
       "     'country': 'United States',\n",
       "     'formattedAddress': ['23rd (Fdr drive)',\n",
       "      'New York, NY',\n",
       "      'United States']},\n",
       "    'categories': [{'id': '4bf58dd8d48988d12d951735',\n",
       "      'name': 'Boat or Ferry',\n",
       "      'pluralName': 'Boats or Ferries',\n",
       "      'shortName': 'Boat / Ferry',\n",
       "      'icon': {'prefix': 'https://ss3.4sqi.net/img/categories_v2/travel/boat_',\n",
       "       'suffix': '.png'},\n",
       "      'primary': True}],\n",
       "    'referralId': 'v-1635976451',\n",
       "    'hasPerk': False},\n",
       "   {'id': '5b6f15f0419a9e00392c13c4',\n",
       "    'name': 'The Infinity Mirrors Exhibit',\n",
       "    'location': {'lat': 40.697838,\n",
       "     'lng': -73.99957,\n",
       "     'labeledLatLngs': [{'label': 'display',\n",
       "       'lat': 40.697838,\n",
       "       'lng': -73.99957}],\n",
       "     'distance': 243,\n",
       "     'postalCode': '11201',\n",
       "     'cc': 'US',\n",
       "     'city': 'Brooklyn',\n",
       "     'state': 'NY',\n",
       "     'country': 'United States',\n",
       "     'formattedAddress': ['Brooklyn, NY 11201', 'United States']},\n",
       "    'categories': [{'id': '4bf58dd8d48988d163941735',\n",
       "      'name': 'Park',\n",
       "      'pluralName': 'Parks',\n",
       "      'shortName': 'Park',\n",
       "      'icon': {'prefix': 'https://ss3.4sqi.net/img/categories_v2/parks_outdoors/park_',\n",
       "       'suffix': '.png'},\n",
       "      'primary': True}],\n",
       "    'referralId': 'v-1635976451',\n",
       "    'hasPerk': False},\n",
       "   {'id': '4df50edee4cda09e6da88d90',\n",
       "    'name': 'Boat Ramp @ Brooklyn Bridge Park',\n",
       "    'location': {'address': 'Pier 1',\n",
       "     'crossStreet': 'Middagh & Cranberry St',\n",
       "     'lat': 40.701497511781284,\n",
       "     'lng': -73.9979442194463,\n",
       "     'labeledLatLngs': [{'label': 'display',\n",
       "       'lat': 40.701497511781284,\n",
       "       'lng': -73.9979442194463}],\n",
       "     'distance': 240,\n",
       "     'postalCode': '11201',\n",
       "     'cc': 'US',\n",
       "     'city': 'Brooklyn',\n",
       "     'state': 'NY',\n",
       "     'country': 'United States',\n",
       "     'formattedAddress': ['Pier 1 (Middagh & Cranberry St)',\n",
       "      'Brooklyn, NY 11201',\n",
       "      'United States']},\n",
       "    'categories': [{'id': '4bf58dd8d48988d165941735',\n",
       "      'name': 'Scenic Lookout',\n",
       "      'pluralName': 'Scenic Lookouts',\n",
       "      'shortName': 'Scenic Lookout',\n",
       "      'icon': {'prefix': 'https://ss3.4sqi.net/img/categories_v2/parks_outdoors/sceniclookout_',\n",
       "       'suffix': '.png'},\n",
       "      'primary': True}],\n",
       "    'referralId': 'v-1635976451',\n",
       "    'hasPerk': False},\n",
       "   {'id': '4c67633d8e9120a1d3ddda64',\n",
       "    'name': 'Shroud Park',\n",
       "    'location': {'address': 'Park Place',\n",
       "     'crossStreet': 'Washington',\n",
       "     'lat': 40.7015,\n",
       "     'lng': -73.99776681,\n",
       "     'labeledLatLngs': [{'label': 'display',\n",
       "       'lat': 40.7015,\n",
       "       'lng': -73.99776681}],\n",
       "     'distance': 251,\n",
       "     'postalCode': '11238',\n",
       "     'cc': 'US',\n",
       "     'city': 'Brooklyn',\n",
       "     'state': 'NY',\n",
       "     'country': 'United States',\n",
       "     'formattedAddress': ['Park Place (Washington)',\n",
       "      'Brooklyn, NY 11238',\n",
       "      'United States']},\n",
       "    'categories': [{'id': '4bf58dd8d48988d163941735',\n",
       "      'name': 'Park',\n",
       "      'pluralName': 'Parks',\n",
       "      'shortName': 'Park',\n",
       "      'icon': {'prefix': 'https://ss3.4sqi.net/img/categories_v2/parks_outdoors/park_',\n",
       "       'suffix': '.png'},\n",
       "      'primary': True}],\n",
       "    'referralId': 'v-1635976451',\n",
       "    'hasPerk': False},\n",
       "   {'id': '5f1eeeb9b8441e5e1ce86da5',\n",
       "    'name': 'Pier 2 Sprinkler Park',\n",
       "    'location': {'lat': 40.699362,\n",
       "     'lng': -73.996936,\n",
       "     'labeledLatLngs': [{'label': 'display',\n",
       "       'lat': 40.699362,\n",
       "       'lng': -73.996936}],\n",
       "     'distance': 268,\n",
       "     'postalCode': '11201',\n",
       "     'cc': 'US',\n",
       "     'city': 'New York',\n",
       "     'state': 'NY',\n",
       "     'country': 'United States',\n",
       "     'formattedAddress': ['New York, NY 11201', 'United States']},\n",
       "    'categories': [{'id': '4bf58dd8d48988d193941735',\n",
       "      'name': 'Water Park',\n",
       "      'pluralName': 'Water Parks',\n",
       "      'shortName': 'Water Park',\n",
       "      'icon': {'prefix': 'https://ss3.4sqi.net/img/categories_v2/arts_entertainment/waterpark_',\n",
       "       'suffix': '.png'},\n",
       "      'primary': True}],\n",
       "    'referralId': 'v-1635976451',\n",
       "    'hasPerk': False},\n",
       "   {'id': '58cdf02f2a1982041460ccf4',\n",
       "    'name': 'Citibike - Pier 2 Brooklyn Bridge Park',\n",
       "    'location': {'lat': 40.69856,\n",
       "     'lng': -73.997233,\n",
       "     'labeledLatLngs': [{'label': 'display',\n",
       "       'lat': 40.69856,\n",
       "       'lng': -73.997233}],\n",
       "     'distance': 283,\n",
       "     'postalCode': '11201',\n",
       "     'cc': 'US',\n",
       "     'city': 'New York',\n",
       "     'state': 'NY',\n",
       "     'country': 'United States',\n",
       "     'formattedAddress': ['New York, NY 11201', 'United States']},\n",
       "    'categories': [{'id': '4e4c9077bd41f78e849722f9',\n",
       "      'name': 'Bike Rental / Bike Share',\n",
       "      'pluralName': 'Bike Rentals / Bike Shares',\n",
       "      'shortName': 'Bike',\n",
       "      'icon': {'prefix': 'https://ss3.4sqi.net/img/categories_v2/shops/bikeshop_',\n",
       "       'suffix': '.png'},\n",
       "      'primary': True}],\n",
       "    'referralId': 'v-1635976451',\n",
       "    'hasPerk': False},\n",
       "   {'id': '6159eec271d84930ecaebcbc',\n",
       "    'name': '129 Columbia Hts',\n",
       "    'location': {'lat': 40.698834,\n",
       "     'lng': -73.9963,\n",
       "     'labeledLatLngs': [{'label': 'display',\n",
       "       'lat': 40.698834,\n",
       "       'lng': -73.9963}],\n",
       "     'distance': 338,\n",
       "     'postalCode': '11201',\n",
       "     'cc': 'US',\n",
       "     'city': 'New York',\n",
       "     'state': 'NY',\n",
       "     'country': 'United States',\n",
       "     'formattedAddress': ['New York, NY 11201', 'United States']},\n",
       "    'categories': [{'id': '4d954b06a243a5684965b473',\n",
       "      'name': 'Residential Building (Apartment / Condo)',\n",
       "      'pluralName': 'Residential Buildings (Apartments / Condos)',\n",
       "      'shortName': 'Residential',\n",
       "      'icon': {'prefix': 'https://ss3.4sqi.net/img/categories_v2/building/apartment_',\n",
       "       'suffix': '.png'},\n",
       "      'primary': True}],\n",
       "    'referralId': 'v-1635976451',\n",
       "    'hasPerk': False},\n",
       "   {'id': '51d9fe5f498ef1b3afa23174',\n",
       "    'name': 'Lizzmonade Brooklyn Pop Up Pool',\n",
       "    'location': {'address': '334 Furman St. Pier 2, Brooklyn Bridge Park',\n",
       "     'crossStreet': 'at Brooklyn Bridge Pk Greenway',\n",
       "     'lat': 40.69991877987973,\n",
       "     'lng': -73.99660212691505,\n",
       "     'labeledLatLngs': [{'label': 'display',\n",
       "       'lat': 40.69991877987973,\n",
       "       'lng': -73.99660212691505}],\n",
       "     'distance': 286,\n",
       "     'postalCode': '11201',\n",
       "     'cc': 'US',\n",
       "     'city': 'Brooklyn',\n",
       "     'state': 'NY',\n",
       "     'country': 'United States',\n",
       "     'formattedAddress': ['334 Furman St. Pier 2, Brooklyn Bridge Park (at Brooklyn Bridge Pk Greenway)',\n",
       "      'Brooklyn, NY 11201',\n",
       "      'United States']},\n",
       "    'categories': [{'id': '4bf58dd8d48988d112941735',\n",
       "      'name': 'Juice Bar',\n",
       "      'pluralName': 'Juice Bars',\n",
       "      'shortName': 'Juice Bar',\n",
       "      'icon': {'prefix': 'https://ss3.4sqi.net/img/categories_v2/food/juicebar_',\n",
       "       'suffix': '.png'},\n",
       "      'primary': True}],\n",
       "    'referralId': 'v-1635976451',\n",
       "    'hasPerk': False},\n",
       "   {'id': '4c5435bf4623be9a62ee66f2',\n",
       "    'name': 'Brooklyn Bridge Park - Pier 4',\n",
       "    'location': {'address': '214 Furman St',\n",
       "     'crossStreet': 'Montague St',\n",
       "     'lat': 40.69659132697178,\n",
       "     'lng': -73.99941086769104,\n",
       "     'labeledLatLngs': [{'label': 'display',\n",
       "       'lat': 40.69659132697178,\n",
       "       'lng': -73.99941086769104}],\n",
       "     'distance': 382,\n",
       "     'postalCode': '11201',\n",
       "     'cc': 'US',\n",
       "     'city': 'Brooklyn',\n",
       "     'state': 'NY',\n",
       "     'country': 'United States',\n",
       "     'formattedAddress': ['214 Furman St (Montague St)',\n",
       "      'Brooklyn, NY 11201',\n",
       "      'United States']},\n",
       "    'categories': [{'id': '4e74f6cabd41c4836eac4c31',\n",
       "      'name': 'Pier',\n",
       "      'pluralName': 'Piers',\n",
       "      'shortName': 'Piers',\n",
       "      'icon': {'prefix': 'https://ss3.4sqi.net/img/categories_v2/travel/ferry_pier_',\n",
       "       'suffix': '.png'},\n",
       "      'primary': True}],\n",
       "    'referralId': 'v-1635976451',\n",
       "    'hasPerk': False},\n",
       "   {'id': '5a8c6211838e597879be34e8',\n",
       "    'name': 'ManhattanA Mediterranean Cart in the Park',\n",
       "    'location': {'lat': 40.70107857441051,\n",
       "     'lng': -74.00190388085153,\n",
       "     'labeledLatLngs': [{'label': 'display',\n",
       "       'lat': 40.70107857441051,\n",
       "       'lng': -74.00190388085153}],\n",
       "     'distance': 200,\n",
       "     'postalCode': '10005',\n",
       "     'cc': 'US',\n",
       "     'city': 'New York',\n",
       "     'state': 'NY',\n",
       "     'country': 'United States',\n",
       "     'formattedAddress': ['New York, NY 10005', 'United States']},\n",
       "    'categories': [{'id': '4bf58dd8d48988d1cb941735',\n",
       "      'name': 'Food Truck',\n",
       "      'pluralName': 'Food Trucks',\n",
       "      'shortName': 'Food Truck',\n",
       "      'icon': {'prefix': 'https://ss3.4sqi.net/img/categories_v2/food/streetfood_',\n",
       "       'suffix': '.png'},\n",
       "      'primary': True}],\n",
       "    'referralId': 'v-1635976451',\n",
       "    'hasPerk': False},\n",
       "   {'id': '4b7c8bedf964a5202c9a2fe3',\n",
       "    'name': '160 Columbia Heights',\n",
       "    'location': {'address': '160 Columbia Hts',\n",
       "     'lat': 40.69822184225379,\n",
       "     'lng': -73.99635251290523,\n",
       "     'labeledLatLngs': [{'label': 'display',\n",
       "       'lat': 40.69822184225379,\n",
       "       'lng': -73.99635251290523},\n",
       "      {'label': 'entrance', 'lat': 40.698234, 'lng': -73.996464}],\n",
       "     'distance': 365,\n",
       "     'postalCode': '11201',\n",
       "     'cc': 'US',\n",
       "     'city': 'Brooklyn',\n",
       "     'state': 'NY',\n",
       "     'country': 'United States',\n",
       "     'formattedAddress': ['160 Columbia Hts',\n",
       "      'Brooklyn, NY 11201',\n",
       "      'United States']},\n",
       "    'categories': [{'id': '4d954b06a243a5684965b473',\n",
       "      'name': 'Residential Building (Apartment / Condo)',\n",
       "      'pluralName': 'Residential Buildings (Apartments / Condos)',\n",
       "      'shortName': 'Residential',\n",
       "      'icon': {'prefix': 'https://ss3.4sqi.net/img/categories_v2/building/apartment_',\n",
       "       'suffix': '.png'},\n",
       "      'primary': True}],\n",
       "    'referralId': 'v-1635976451',\n",
       "    'hasPerk': False},\n",
       "   {'id': '5054eb43e4b04ed4f0dd1b30',\n",
       "    'name': 'La cabana',\n",
       "    'location': {'lat': 40.69875,\n",
       "     'lng': -73.99953,\n",
       "     'labeledLatLngs': [{'label': 'display',\n",
       "       'lat': 40.69875,\n",
       "       'lng': -73.99953}],\n",
       "     'distance': 144,\n",
       "     'cc': 'US',\n",
       "     'country': 'United States',\n",
       "     'formattedAddress': ['United States']},\n",
       "    'categories': [{'id': '4bf58dd8d48988d154941735',\n",
       "      'name': 'Cuban Restaurant',\n",
       "      'pluralName': 'Cuban Restaurants',\n",
       "      'shortName': 'Cuban',\n",
       "      'icon': {'prefix': 'https://ss3.4sqi.net/img/categories_v2/food/cuban_',\n",
       "       'suffix': '.png'},\n",
       "      'primary': True}],\n",
       "    'referralId': 'v-1635976451',\n",
       "    'hasPerk': False},\n",
       "   {'id': '4d9788e5daec224b4642333e',\n",
       "    'name': 'Dr Shur',\n",
       "    'location': {'address': '140 Elgar Pl',\n",
       "     'lat': 40.863384,\n",
       "     'lng': -73.822353,\n",
       "     'labeledLatLngs': [{'label': 'display',\n",
       "       'lat': 40.863384,\n",
       "       'lng': -73.822353}],\n",
       "     'distance': 23558,\n",
       "     'postalCode': '10475',\n",
       "     'cc': 'US',\n",
       "     'city': 'Bronx',\n",
       "     'state': 'NY',\n",
       "     'country': 'United States',\n",
       "     'formattedAddress': ['140 Elgar Pl', 'Bronx, NY 10475', 'United States']},\n",
       "    'categories': [],\n",
       "    'referralId': 'v-1635976451',\n",
       "    'hasPerk': False},\n",
       "   {'id': '5aa18c1597cf5a1b3f933c29',\n",
       "    'name': 'Clark Street Tunnel',\n",
       "    'location': {'crossStreet': 'at East River',\n",
       "     'lat': 40.700556,\n",
       "     'lng': -74.003333,\n",
       "     'labeledLatLngs': [{'label': 'display',\n",
       "       'lat': 40.700556,\n",
       "       'lng': -74.003333}],\n",
       "     'distance': 288,\n",
       "     'cc': 'US',\n",
       "     'city': 'New York',\n",
       "     'state': 'NY',\n",
       "     'country': 'United States',\n",
       "     'formattedAddress': ['at East River', 'New York, NY', 'United States']},\n",
       "    'categories': [{'id': '52f2ab2ebcbc57f1066b8b4a',\n",
       "      'name': 'Tunnel',\n",
       "      'pluralName': 'Tunnels',\n",
       "      'shortName': 'Tunnel',\n",
       "      'icon': {'prefix': 'https://ss3.4sqi.net/img/categories_v2/travel/default_',\n",
       "       'suffix': '.png'},\n",
       "      'primary': True}],\n",
       "    'referralId': 'v-1635976451',\n",
       "    'hasPerk': False},\n",
       "   {'id': '4ff764c3e4b01ead023da588',\n",
       "    'name': 'Brooklyn Beach Shack',\n",
       "    'location': {'address': '334 Furman St',\n",
       "     'crossStreet': 'Brooklyn Bridge Park',\n",
       "     'lat': 40.700051,\n",
       "     'lng': -73.996479,\n",
       "     'labeledLatLngs': [{'label': 'display',\n",
       "       'lat': 40.700051,\n",
       "       'lng': -73.996479}],\n",
       "     'distance': 297,\n",
       "     'postalCode': '11201',\n",
       "     'cc': 'US',\n",
       "     'city': 'Brooklyn',\n",
       "     'state': 'NY',\n",
       "     'country': 'United States',\n",
       "     'formattedAddress': ['334 Furman St (Brooklyn Bridge Park)',\n",
       "      'Brooklyn, NY 11201',\n",
       "      'United States']},\n",
       "    'categories': [{'id': '4bf58dd8d48988d16c941735',\n",
       "      'name': 'Burger Joint',\n",
       "      'pluralName': 'Burger Joints',\n",
       "      'shortName': 'Burgers',\n",
       "      'icon': {'prefix': 'https://ss3.4sqi.net/img/categories_v2/food/burger_',\n",
       "       'suffix': '.png'},\n",
       "      'primary': True}],\n",
       "    'venuePage': {'id': '33421350'},\n",
       "    'referralId': 'v-1635976451',\n",
       "    'hasPerk': False},\n",
       "   {'id': '4e1e2225ae60ef672d8572d0',\n",
       "    'name': 'Metropolitan Opera in the Park',\n",
       "    'location': {'address': 'Furman St',\n",
       "     'lat': 40.70178034485588,\n",
       "     'lng': -73.99748149848693,\n",
       "     'labeledLatLngs': [{'label': 'display',\n",
       "       'lat': 40.70178034485588,\n",
       "       'lng': -73.99748149848693}],\n",
       "     'distance': 290,\n",
       "     'postalCode': '11201',\n",
       "     'cc': 'US',\n",
       "     'city': 'New York',\n",
       "     'state': 'NY',\n",
       "     'country': 'United States',\n",
       "     'formattedAddress': ['Furman St', 'New York, NY 11201', 'United States']},\n",
       "    'categories': [{'id': '4bf58dd8d48988d1f1931735',\n",
       "      'name': 'General Entertainment',\n",
       "      'pluralName': 'General Entertainment',\n",
       "      'shortName': 'Entertainment',\n",
       "      'icon': {'prefix': 'https://ss3.4sqi.net/img/categories_v2/arts_entertainment/default_',\n",
       "       'suffix': '.png'},\n",
       "      'primary': True}],\n",
       "    'referralId': 'v-1635976451',\n",
       "    'hasPerk': False},\n",
       "   {'id': '5295dc7f11d2d6647ee2a8a6',\n",
       "    'name': 'Turner Construction Site: Pier 2',\n",
       "    'location': {'lat': 40.69954,\n",
       "     'lng': -73.997108,\n",
       "     'labeledLatLngs': [{'label': 'display',\n",
       "       'lat': 40.69954,\n",
       "       'lng': -73.997108}],\n",
       "     'distance': 249,\n",
       "     'cc': 'US',\n",
       "     'city': 'Brooklyn',\n",
       "     'state': 'NY',\n",
       "     'country': 'United States',\n",
       "     'formattedAddress': ['Brooklyn, NY', 'United States']},\n",
       "    'categories': [{'id': '4bf58dd8d48988d163941735',\n",
       "      'name': 'Park',\n",
       "      'pluralName': 'Parks',\n",
       "      'shortName': 'Park',\n",
       "      'icon': {'prefix': 'https://ss3.4sqi.net/img/categories_v2/parks_outdoors/park_',\n",
       "       'suffix': '.png'},\n",
       "      'primary': True}],\n",
       "    'referralId': 'v-1635976451',\n",
       "    'hasPerk': False},\n",
       "   {'id': '4d29ff9055a8b60c949fdbc0',\n",
       "    'name': 'Tok Stok',\n",
       "    'location': {'address': 'Barra da Tijuca',\n",
       "     'lat': 40.7025558,\n",
       "     'lng': -73.997896,\n",
       "     'labeledLatLngs': [{'label': 'display',\n",
       "       'lat': 40.7025558,\n",
       "       'lng': -73.997896}],\n",
       "     'distance': 335,\n",
       "     'cc': 'US',\n",
       "     'city': 'Rio de Janeiro',\n",
       "     'state': 'NY',\n",
       "     'country': 'United States',\n",
       "     'formattedAddress': ['Barra da Tijuca',\n",
       "      'Rio de Janeiro, NY',\n",
       "      'United States']},\n",
       "    'categories': [],\n",
       "    'referralId': 'v-1635976451',\n",
       "    'hasPerk': False}],\n",
       "  'confident': False}}"
      ]
     },
     "execution_count": 6,
     "metadata": {},
     "output_type": "execute_result"
    }
   ],
   "source": [
    "response.json()"
   ]
  },
  {
   "cell_type": "markdown",
   "metadata": {},
   "source": [
    "### Summary"
   ]
  },
  {
   "cell_type": "markdown",
   "metadata": {},
   "source": [
    "In this lesson we saw how APIs can require additional query parameters.  Some of these parameters are for authentication, which we accomplish by specifying the fields `client id` and `client secret`, which we can think of as a user name and password for logging in.\n",
    "\n",
    "Perhaps more importantly, we saw how we can use the documentation.  A lot of being a data scientist is simply following instructions by reading documentation.  This is a combination of trial and error, reading error messages, and reading documentation.  As you may have already seen, it also involves a degree of calm, patience and curiosity.  These are three things data scientists work on developing through their careers."
   ]
  },
  {
   "cell_type": "markdown",
   "metadata": {},
   "source": [
    "And finally, here is your `response.json()`.  It looks like we are seeing top places in Brooklyn."
   ]
  },
  {
   "cell_type": "code",
   "execution_count": 1,
   "metadata": {},
   "outputs": [],
   "source": [
    "# response.json()"
   ]
  }
 ],
 "metadata": {
  "kernelspec": {
   "display_name": "Python 3 (ipykernel)",
   "language": "python",
   "name": "python3"
  },
  "language_info": {
   "codemirror_mode": {
    "name": "ipython",
    "version": 3
   },
   "file_extension": ".py",
   "mimetype": "text/x-python",
   "name": "python",
   "nbconvert_exporter": "python",
   "pygments_lexer": "ipython3",
   "version": "3.9.7"
  }
 },
 "nbformat": 4,
 "nbformat_minor": 4
}
