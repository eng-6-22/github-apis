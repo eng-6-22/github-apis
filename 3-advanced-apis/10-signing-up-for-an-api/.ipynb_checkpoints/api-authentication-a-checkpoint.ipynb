{
 "cells": [
  {
   "cell_type": "markdown",
   "metadata": {},
   "source": [
    "# Signing up for APIs"
   ]
  },
  {
   "cell_type": "markdown",
   "metadata": {},
   "source": [
    "### Introduction"
   ]
  },
  {
   "cell_type": "markdown",
   "metadata": {},
   "source": [
    "In the last lab, we got our hands on the keyboard and were able to practice requesting information for an API.  However, a lot of APIs require us to first signup, and then authenticate a request (whatever that means) to use their API.  In this lesson, we'll walk through an example, so that we can learn how to use the majority of APIs that require us to sign up. "
   ]
  },
  {
   "cell_type": "markdown",
   "metadata": {},
   "source": [
    "### The Foursquare API"
   ]
  },
  {
   "cell_type": "markdown",
   "metadata": {},
   "source": [
    "Foursquare is a great website for finding local food and business recommendations."
   ]
  },
  {
   "cell_type": "markdown",
   "metadata": {},
   "source": [
    "<img src=\"https://github.com/jigsawlabs/curriculum-assets/blob/master/introduction-to-apis/11-signing-up-for-an-api/foursquare.png?raw=true\" width=\"40%\">"
   ]
  },
  {
   "cell_type": "markdown",
   "metadata": {},
   "source": [
    "All of the information that Foursquare has on it's website and more is available to us to use as data scientists.  While all of this information is provided for free, we first need to register for the website before we can use it.\n",
    "\n",
    "This registration makes sense.  Just like we need to signup for a website like Facebook or Google, Foursquare needs us to signup so that we adhere to their terms (which, we of course, will.)  "
   ]
  },
  {
   "cell_type": "markdown",
   "metadata": {},
   "source": [
    "## Time to register"
   ]
  },
  {
   "cell_type": "markdown",
   "metadata": {},
   "source": [
    "Now to see how to register, we just ask Google something like, \"Foursquare Register API\".  You should see a page that says \"Create a Developer Account\".  Click on that button, and then click on \"Sign Up For Foursquare\" and fill out the information on the form."
   ]
  },
  {
   "cell_type": "markdown",
   "metadata": {},
   "source": [
    "<img src=\"https://storage.googleapis.com/curriculum-assets/curriculum-assets.nosync/introduction-to-apis/10-signing-up-for-an-api/foursquare-register.gif\" />"
   ]
  },
  {
   "cell_type": "markdown",
   "metadata": {},
   "source": [
    "After filling out the form, and clicking the blue sign up button at the bottom, we have made it through the first step."
   ]
  },
  {
   "cell_type": "markdown",
   "metadata": {},
   "source": [
    "### Register an App on Foursquare"
   ]
  },
  {
   "cell_type": "markdown",
   "metadata": {},
   "source": [
    "After filling out the signup form, click on the light blue \"Create a new App button\".  Next, fill out the form.  You can see that I had an App name of \"Jigsaw labs\" and App or Company URL of \"www.jigsawlabs.co\".  If there are other values you would like to enter, feel free to do so.\n",
    "\n",
    "Next, select that we are building the web app for personal use, and using the \"Search for Points of Interest\" feature.  \n",
    "\n",
    "When we get to the next screen, select the account tier of personal.  \n",
    "\n",
    "Then there is a screen that says we can get more by entering our credit card, but we decide not to.  Click on the link under verify that says \"return to my apps\".  When you get to the screen that says My Apps and then Client Id, you have made it."
   ]
  },
  {
   "cell_type": "markdown",
   "metadata": {},
   "source": [
    "<img src=\"https://storage.googleapis.com/curriculum-assets/curriculum-assets.nosync/introduction-to-apis/10-signing-up-for-an-api/complete-registration.gif\" />"
   ]
  },
  {
   "cell_type": "markdown",
   "metadata": {},
   "source": [
    "### Our keys"
   ]
  },
  {
   "cell_type": "markdown",
   "metadata": {},
   "source": [
    "Great!  At this point we have our API keys: the client id and client secret.  That was really the point of this whole procedure.  These keys will allow us to use the Foursquare api.  Let's see how."
   ]
  },
  {
   "cell_type": "markdown",
   "metadata": {},
   "source": [
    "# Navigating Foursquare's API"
   ]
  },
  {
   "cell_type": "markdown",
   "metadata": {},
   "source": [
    "First, let's try to search for some venues.  Looking at the documentation, click on Places API to expand the dropdown, then Venues, and then finally Get Venue Recommendations."
   ]
  },
  {
   "cell_type": "markdown",
   "metadata": {},
   "source": [
    "<img src=\"https://storage.googleapis.com/curriculum-assets/curriculum-assets.nosync/introduction-to-apis/12-signing-up-for-an-api/venue-recommendations.png\" width=\"40%\" /> "
   ]
  },
  {
   "cell_type": "markdown",
   "metadata": {},
   "source": [
    "Once on [that page](https://developer.foursquare.com/docs/api/venues/explore), you'll see a description followed by an example of the request url that we need to make.  Let's try to use that URL to make our request."
   ]
  },
  {
   "cell_type": "markdown",
   "metadata": {},
   "source": [
    "<img src=\"https://storage.googleapis.com/curriculum-assets/curriculum-assets.nosync/introduction-to-apis/12-signing-up-for-an-api/example-venues.png\" width=\"40%\"> "
   ]
  },
  {
   "cell_type": "code",
   "execution_count": 31,
   "metadata": {},
   "outputs": [
    {
     "data": {
      "text/plain": [
       "{'meta': {'code': 400,\n",
       "  'errorType': 'invalid_auth',\n",
       "  'errorDetail': 'Missing access credentials. See https://developer.foursquare.com/docs/api/configuration/authentication for details.',\n",
       "  'requestId': '5caab80a4c1f671632f5b23a'},\n",
       " 'response': {}}"
      ]
     },
     "execution_count": 31,
     "metadata": {},
     "output_type": "execute_result"
    }
   ],
   "source": [
    "import requests\n",
    "response = requests.get(\"https://api.foursquare.com/v2/venues/explore\")\n",
    "response.json()"
   ]
  },
  {
   "cell_type": "markdown",
   "metadata": {},
   "source": [
    "Oh no :( So this tells us that we have an error because of invalid authorization, but it does give us a link to learn more.  Let's [go there](https://developer.foursquare.com/docs/api/configuration/authentication)."
   ]
  },
  {
   "cell_type": "markdown",
   "metadata": {},
   "source": [
    "<img src=\"https://storage.googleapis.com/curriculum-assets/curriculum-assets.nosync/introduction-to-apis/12-signing-up-for-an-api/user-auth.png\" width=\"60%\"> "
   ]
  },
  {
   "cell_type": "markdown",
   "metadata": {},
   "source": [
    "So there are basically two different kinds of authentication: Userless Auth and User Auth.  It says the userless one doesn't require a user's permissions, and the user auth is when need a user to get checkins.  It seems like we need the simpler one -- after all we're just looking for venue info.  \n",
    "\n",
    "Let's look at the Userless Auth URL.  It says to specify our Client ID and Secret in the following format:\n",
    "\n",
    "`\"https://api.foursquare.com/v2/venues/search?ll=40.7,-74&client_id=CLIENT_ID&client_secret=CLIENT_SECRET&v=YYYYMMDD\"`"
   ]
  },
  {
   "cell_type": "markdown",
   "metadata": {},
   "source": [
    "Ok, so here's the main thing to realize: everything after the question mark is a query parameter.  Let's see this as we break down the url in full."
   ]
  },
  {
   "cell_type": "markdown",
   "metadata": {},
   "source": [
    "* \"https://api.foursquare.com\" is our root url.\n",
    "* \"/v2/\" is for version 2 of the API\n",
    "* \"/venues/search\" is for searching the resource, venues.\n",
    "* \"?\", as we know marks the beginning of our query parameters.\n",
    "\n",
    "With the query parameters, note that we have a series of `field=value` pairings.  Notice that there is an `&` between each `field=value` pairing.\n",
    "\n",
    "The first field, `ll` is for the longitude and latitude that we want to search for venues.  Then the `client_id` and client secret is that client id that we were given after we registered.  Finally, the `v=YYYYMMDD` is a version, where Foursquare asks us to place in the current day."
   ]
  },
  {
   "cell_type": "markdown",
   "metadata": {},
   "source": [
    "## Going further on client id and client secret "
   ]
  },
  {
   "cell_type": "markdown",
   "metadata": {},
   "source": [
    "Let's take a minute to discuss the client id and client secret, as these are common components to many APIs.  Remember that both the client id and the client secret were provided to us after we filled out information to register for an account.  Well, the client id is essentially our user name and the client secret the password.  By passing this information along with the request, Foursquare is able to tell who we are, and that we are an approved user.\n",
    "\n",
    "Ok, it's time to try to use this API."
   ]
  },
  {
   "cell_type": "markdown",
   "metadata": {},
   "source": [
    "### Using the API"
   ]
  },
  {
   "cell_type": "markdown",
   "metadata": {},
   "source": [
    "Let's start by copying over the URL that Foursquare provided us in the documentation."
   ]
  },
  {
   "cell_type": "markdown",
   "metadata": {},
   "source": [
    "`\"https://api.foursquare.com/v2/venues/search?ll=40.7,-74&client_id=CLIENT_ID&client_secret=CLIENT_SECRET&v=YYYYMMDD\"`"
   ]
  },
  {
   "cell_type": "markdown",
   "metadata": {},
   "source": [
    "Ok, now we have to just fill in the gaps here.  So where we see the capitalization, we should provide our particular information.  We can do this using variables.  Let's take a look at this below."
   ]
  },
  {
   "cell_type": "markdown",
   "metadata": {},
   "source": [
    "First we can set variables `client_id`, `client_secret` and the `date` equal to our customer figures.  Each of them are `strings`, so we wrap these values in quotes."
   ]
  },
  {
   "cell_type": "code",
   "execution_count": 35,
   "metadata": {},
   "outputs": [],
   "source": [
    "client_id = \"ALECV5CBBEHRRKTIQ5ZV143YEXOH3SBLAMU54SPHKGZI1ZKE\"\n",
    "client_secret = \"3JX3NRGRS2P0KE0NSKPTMCOZOY4MWUU4M3G33BO4XTRJ15SM\"\n",
    "date = \"20190407\""
   ]
  },
  {
   "cell_type": "markdown",
   "metadata": {},
   "source": [
    "Now we can just replace that original url, and in the gaps place our variables.  Let's assign the entire result equal to `url`."
   ]
  },
  {
   "cell_type": "code",
   "execution_count": 38,
   "metadata": {},
   "outputs": [],
   "source": [
    "url = \"https://api.foursquare.com/v2/venues/search?ll=40.7,-74&client_id=\" + client_id + \"&client_secret=\" + client_secret + \"&v=\" + date"
   ]
  },
  {
   "cell_type": "markdown",
   "metadata": {},
   "source": [
    "Ok, let's look at our url."
   ]
  },
  {
   "cell_type": "code",
   "execution_count": 39,
   "metadata": {},
   "outputs": [
    {
     "data": {
      "text/plain": [
       "'https://api.foursquare.com/v2/venues/search?ll=40.7,-74&client_id=ALECV5CBBEHRRKTIQ5ZV143YEXOH3SBLAMU54SPHKGZI1ZKE&client_secret=3JX3NRGRS2P0KE0NSKPTMCOZOY4MWUU4M3G33BO4XTRJ15SM&v=20190407'"
      ]
     },
     "execution_count": 39,
     "metadata": {},
     "output_type": "execute_result"
    }
   ],
   "source": [
    "url"
   ]
  },
  {
   "cell_type": "markdown",
   "metadata": {},
   "source": [
    "Finally we can make the web request."
   ]
  },
  {
   "cell_type": "code",
   "execution_count": 41,
   "metadata": {},
   "outputs": [],
   "source": [
    "import requests\n",
    "response = requests.get(url)"
   ]
  },
  {
   "cell_type": "code",
   "execution_count": 43,
   "metadata": {},
   "outputs": [
    {
     "data": {
      "text/plain": [
       "<Response [200]>"
      ]
     },
     "execution_count": 43,
     "metadata": {},
     "output_type": "execute_result"
    }
   ],
   "source": [
    "response"
   ]
  },
  {
   "cell_type": "markdown",
   "metadata": {},
   "source": [
    "Ok, this looks promising.  We'll call `response.json()` to see the results at the very end, as it is quite long."
   ]
  },
  {
   "cell_type": "markdown",
   "metadata": {},
   "source": [
    "### Summary"
   ]
  },
  {
   "cell_type": "markdown",
   "metadata": {},
   "source": [
    "In this lesson we saw how APIs can require additional query parameters.  Some of these parameters are for authentication, which we accomplish by specifying the fields `client id` and `client secret`, which we can think of as a user name and password for logging in.\n",
    "\n",
    "Perhaps more importantly, we saw how we can use the documentation.  A lot of being a data scientist is simply following instructions by reading documentation.  This is a combination of trial and error, reading error messages, and reading documentation.  As you may have already seen, it also involves a degree of calm, patience and curiosity.  These are three things data scientists work on developing through their careers."
   ]
  },
  {
   "cell_type": "markdown",
   "metadata": {},
   "source": [
    "And finally, here is your `response.json()`.  It looks like we are seeing top places in Brooklyn."
   ]
  },
  {
   "cell_type": "code",
   "execution_count": 1,
   "metadata": {},
   "outputs": [],
   "source": [
    "# response.json()"
   ]
  }
 ],
 "metadata": {
  "kernelspec": {
   "display_name": "Python 3",
   "language": "python",
   "name": "python3"
  },
  "language_info": {
   "codemirror_mode": {
    "name": "ipython",
    "version": 3
   },
   "file_extension": ".py",
   "mimetype": "text/x-python",
   "name": "python",
   "nbconvert_exporter": "python",
   "pygments_lexer": "ipython3",
   "version": "3.7.4"
  }
 },
 "nbformat": 4,
 "nbformat_minor": 4
}
