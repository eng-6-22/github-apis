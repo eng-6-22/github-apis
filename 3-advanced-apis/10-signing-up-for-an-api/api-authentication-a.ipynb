{
 "cells": [
  {
   "cell_type": "markdown",
   "metadata": {},
   "source": [
    "# Signing up for APIs"
   ]
  },
  {
   "cell_type": "markdown",
   "metadata": {},
   "source": [
    "### Introduction"
   ]
  },
  {
   "cell_type": "markdown",
   "metadata": {},
   "source": [
    "In the last lab, we got our hands on the keyboard and were able to practice requesting information for an API.  However, a lot of APIs require us to first signup, and then authenticate a request (whatever that means) to use their API.  In this lesson, we'll walk through an example, so that we can learn how to use the majority of APIs that require us to sign up. "
   ]
  },
  {
   "cell_type": "markdown",
   "metadata": {},
   "source": [
    "### The Foursquare API"
   ]
  },
  {
   "cell_type": "markdown",
   "metadata": {},
   "source": [
    "Foursquare is a great website for finding local food and business recommendations."
   ]
  },
  {
   "cell_type": "markdown",
   "metadata": {},
   "source": [
    "<img src=\"https://github.com/jigsawlabs/curriculum-assets/blob/master/introduction-to-apis/11-signing-up-for-an-api/foursquare.png?raw=true\" width=\"40%\">"
   ]
  },
  {
   "cell_type": "markdown",
   "metadata": {},
   "source": [
    "All of the information that Foursquare has on it's website and more is available to us to use as data scientists.  While all of this information is provided for free, we first need to register for the website before we can use it.\n",
    "\n",
    "This registration makes sense.  Just like we need to signup for a website like Facebook or Google, Foursquare needs us to signup so that we adhere to their terms (which, we of course, will.)  "
   ]
  },
  {
   "cell_type": "markdown",
   "metadata": {},
   "source": [
    "## Time to register"
   ]
  },
  {
   "cell_type": "markdown",
   "metadata": {},
   "source": [
    "Now to see how to register, we can google for Foursquare API, and then click on the [Foursquare Developer Page](https://developer.foursquare.com/).  Click on the Create Account button."
   ]
  },
  {
   "cell_type": "markdown",
   "metadata": {},
   "source": [
    "<img src=\"./create-account.png\" width=\"40%\">"
   ]
  },
  {
   "cell_type": "markdown",
   "metadata": {},
   "source": [
    "And from there, we can fill out the information in the following form."
   ]
  },
  {
   "cell_type": "markdown",
   "metadata": {},
   "source": [
    "<img src=\"./foursquare-signup.png\" width=\"40%\" />"
   ]
  },
  {
   "cell_type": "markdown",
   "metadata": {},
   "source": [
    "After filling out the form, and clicking the blue sign up button at the bottom, we have made it through the first step."
   ]
  },
  {
   "cell_type": "markdown",
   "metadata": {},
   "source": [
    "### Register an App on Foursquare"
   ]
  },
  {
   "cell_type": "markdown",
   "metadata": {},
   "source": [
    "After filling out the signup form, click on the light blue \"Create a new App button\". "
   ]
  },
  {
   "cell_type": "markdown",
   "metadata": {},
   "source": [
    "<img src=\"./create-new-app.png\" width=\"60%\">"
   ]
  },
  {
   "cell_type": "markdown",
   "metadata": {},
   "source": [
    " Next, fill out the form.  You can see that I had an App name of \"Jigsaw labs\" and App or Company URL of \"www.jigsawlabs.co\".  If there are other values you would like to enter, feel free to do so.\n",
    "\n",
    "Next, select that we are building the web app for personal use, and using the \"Search for Points of Interest\" feature.  \n",
    "\n",
    "When we get to the next screen, select the account tier of personal.  \n",
    "\n",
    "Then there is a screen that says we can get more by entering our credit card, but we decide not to.  Click on the link under verify that says \"return to my apps\".  When you get to the screen that says My Apps and then Client Id, you have made it."
   ]
  },
  {
   "cell_type": "markdown",
   "metadata": {},
   "source": [
    "### Our keys"
   ]
  },
  {
   "cell_type": "markdown",
   "metadata": {},
   "source": [
    "Great!  At this point we have our API keys: the client id and client secret.  That was really the point of this whole procedure.  These keys will allow us to use the Foursquare api.  Let's see how in the next lesson."
   ]
  }
 ],
 "metadata": {
  "kernelspec": {
   "display_name": "Python 3 (ipykernel)",
   "language": "python",
   "name": "python3"
  },
  "language_info": {
   "codemirror_mode": {
    "name": "ipython",
    "version": 3
   },
   "file_extension": ".py",
   "mimetype": "text/x-python",
   "name": "python",
   "nbconvert_exporter": "python",
   "pygments_lexer": "ipython3",
   "version": "3.9.7"
  }
 },
 "nbformat": 4,
 "nbformat_minor": 4
}
